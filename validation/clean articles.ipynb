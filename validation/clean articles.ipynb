{
 "cells": [
  {
   "cell_type": "code",
   "execution_count": 1,
   "metadata": {},
   "outputs": [],
   "source": [
    "from newspaper import Article #newspaper has some nlp stuff, don't know if it is good enough\n",
    "from newspaper import Config\n",
    "\n",
    "user_agent = 'Mozilla/5.0 (Macintosh; Intel Mac OS X 10_11_5) AppleWebKit/537.36 (KHTML, like Gecko) Chrome/50.0.2661.102 Safari/537.36'\n",
    "config = Config()\n",
    "config.browser_user_agent = user_agent\n",
    "import pandas as pd\n",
    "import spacy\n",
    "from spacy import displacy\n",
    "from collections import Counter\n",
    "#! python3 -m spacy download en_core_web_lg\n",
    "import en_core_web_lg\n",
    "nlp = en_core_web_lg.load()"
   ]
  },
  {
   "cell_type": "code",
   "execution_count": 2,
   "metadata": {},
   "outputs": [],
   "source": [
    "def clean_articles(df, lst):\n",
    "    for index, row in df.iterrows():\n",
    "        art_text = ''\n",
    "        article_url = row['Article URL/text']\n",
    "        try:\n",
    "            article = Article(article_url, language='en', fetch_images=False, config = config)\n",
    "            article.download()\n",
    "            article.parse()\n",
    "            art_text = article.text\n",
    "        except:\n",
    "            art_text = 'Error'\n",
    "        lst.append(art_text)  \n",
    "    return lst"
   ]
  },
  {
   "cell_type": "code",
   "execution_count": 3,
   "metadata": {},
   "outputs": [],
   "source": [
    "articles = pd.read_csv('Validation Articles - Sheet1.csv')"
   ]
  },
  {
   "cell_type": "code",
   "execution_count": 4,
   "metadata": {},
   "outputs": [],
   "source": [
    "text = clean_articles(articles, [])"
   ]
  },
  {
   "cell_type": "code",
   "execution_count": 5,
   "metadata": {},
   "outputs": [
    {
     "data": {
      "text/plain": [
       "74"
      ]
     },
     "execution_count": 5,
     "metadata": {},
     "output_type": "execute_result"
    }
   ],
   "source": [
    "len(text)"
   ]
  },
  {
   "cell_type": "code",
   "execution_count": 6,
   "metadata": {},
   "outputs": [
    {
     "data": {
      "text/plain": [
       "\"Opinion  Published: 7:00 AM March 12, 2021  LIZ GERARD on what is behind the contrast in coverage between the two royals.  Why does the press hate Meghan? Why does it give her such a hard time and Prince Andrew such an easy ride? It must be because of her colour, her nationality, her gender, her wokeness. Or so at least one planet in the Twittersphere would have us believe. But is it true?  It certainly seems so from the current festival of outrage, from the stripping of royal patronages to the pregnancy picture, the bullying allegations to the wearing of certain earrings – culminating in the “bombshell” interview with Oprah Winfrey. Indeed, our newspapers have printed almost six times as many (mostly negative) stories about Meghan since she met Harry five years ago as they have about Andrew since the Epstein allegations surfaced in 2007.  “It’s a side show,” Palace aides told the Mail on Sunday of the Oprah gig. People were more interested in schools going back, being vaccinated and the Duke of Edinburgh getting out of hospital. “Most of what is said will be lost in the mists of time.”  A side show worth 12 pages in that paper before the event and 27 pages in its daily sister the day after? An interview that will be lost in the mists of time? Just as that one with Diana 25 years ago was?        You may also want to watch:  One page of the coverage said there were “fears” Prince Andrew would be “dragged into” an investigation into bullying allegations against Meghan, that Palace aides were “bracing themselves” for complaints against him to surface. Last week, with astonishingly serendipitous timing, the Times had reported that two people had left Kensington Palace, citing Meghan’s behaviour towards them. Within 24 hours, the Palace had announced an inquiry. Over the years, various papers have reported on staff members accusing Andrew of shouting and abusive behaviour that left people “trembling” and “in tears”. But there has been no Palace inquiry.  The Palace does a lot of no-commenting, while the people who work there do a lot of briefing and leaking. When it comes to Meghan, they may be telling it how it is – she may be an attention-seeking diva, a knowing actress playing the ingénue in asserting that she didn’t even know who Harry was (in spite of reportedly being friendly with Princess Eugenie) before she found herself incarcerated in her castle. Or she may have been left to flounder in choppy waters with no one offering so much as a rubber ring to help her float. It’s not as though that’s an unfamiliar story. Remember Diana?  Virtually all we know – or think we know – comes through the press and virtually all the press prints comes from anonymous “insiders”. What is without doubt is that the press is always, but always, on the side of “the Royal Family”. The bottom line is 'royals sell', hence the paradox of “nobody cares about the Sussexes” while printing page upon page about their antics. They may be attention-seeking, but it is possible to look away if you choose. Just as there’s no law that papers must print a picture every time Boris Johnson dons a hi-vis jacket and hard hat to jump on a JCB, there’s no requirement to put M&H on the front page every time they open their mouths. But they do. And because they do, they have to go absolutely bananas when the PM troubles to do something important or the Sussexes threaten to destroy the monarchy.  It isn’t about news values. It isn’t about loving Boris or hating Meghan. It’s about business and trying to hang on to readers by echoing and reinforcing their opinions. Opinions that can change. As they did with Tony Blair, David Cameron, Theresa May and Johnson in politics and with Sarah Ferguson, Camilla, Kate and now Meghan in the Royal Family.  Ask journalists why the press is so cruel to Meghan and they’ll point to the way Fergie was mocked for her weight and denounced as “vulgar, vulgar, vulgar” by courtiers, long before the toe-curling toe-sucking photos emerged. They’ll point to the “waity Katie” jibes, the “doors to manual” allusions to Carole Middleton’s air stewardess background. They’ll remind us of the years of hostility endured by the Duchess of Cornwall – to the extent of being pelted with bread rolls in Waitrose – before her adulterous past and her present husband’s tampon fantasies were put aside to allow her to metamorphose into the “good old girl” she is today.  Which is all a bit like Matt Hancock telling nurses that they should be happy with a tiny bit more money because others are getting nothing. “We’re horrible to everyone – and we were even nastier to someone else” isn’t the greatest defence.  Those defenders of the way Meghan is treated in print insist that neither they nor their papers hate anyone. And they are probably right. They have their political and philosophical agendas and the stories they carry and the prominence they give them reflect those agendas. They don’t hate Meghan any more than they hated migrants: they are there to be used to further their business interests – whether by attracting readers or by helping to create the political environment most likely to allow their enterprise to flourish.  Of course they’re more likely to put a beautiful young Duchess on the front than a portly 60-year-old Duke. But there has to be a reason, however flimsy, to put either of them there. Meghan has supplied plenty of reasons of late; the press didn’t need to go looking. And by any measure, the Oprah interview was news dynamite. The Duke, on the other hand, has wisely kept quiet for a while – and now fans of the Duchess want to know why the papers aren’t digging.  Anyone can see that involvement – however tangentially – with sex trafficking is more important than which of two duchesses made the other cry (though racism and suicidal thoughts are pretty big issues). But what more, exactly, do we expect the press to uncover at this particular moment with regard to Andrew’s friendship with Jeffrey Epstein? The FBI is still waiting to talk to him. Epstein’s victims have repeatedly had their say. Ghislaine Maxwell is on remand awaiting a trial this summer. The story just isn’t moving right now.  Which isn’t to say that our papers haven’t been on his case since the first questions were asked about his friendship with Epstein and Maxwell 14 years ago. That “anti-Meghan rag” the Mail on Sunday was the first to report claims – strenuously denied – that the Duke “groped” a teenager who said she had been groomed by Epstein in 2007, and both Mail titles have returned to the subject year after year after year. And not just to those dodgy friendships. They have also highlighted allegations of his “boorish” behaviour and freeloading, his questionable trade deals, his reported links with shady businessmen, despotic rulers and corrupt regimes.  And all the while, the Palace has protected him as far as it can. He “stepped back” from royal duties not out of remorse or after Palace censure, but because he was toxic and no one wanted him to cut their ribbons. He is so disgraced that he couldn’t even appear in the public photographs of his daughter’s wedding. Yet, a week after that Newsnight interview (to which the Mail devoted 12 pages as dismissive and contemptuous of Andrew as this week’s assault on Meghan), the Queen gave him a mother’s vote of confidence by taking him on her morning ride.  Journalists, like many of their readers, are impatient with Meghan, but the people really hanging her out to dry while shielding Andrew are in the Palace.  For the press, the Royal Family is a soap opera. Think of it in terms of The Archers. The matriarch, Jill Archer, is ever-present, ever-revered. The stalwarts focus on fixed events, such as the village fete. The youngsters are wilder, more challenging of old ways. Everyone has their moment in the spotlight and that is what is happening to Meghan (and the pregnant Alice in Ambridge) now. But sometimes the natural flow of cricket matches, produce shows and pantomimes is disrupted by a far more serious storyline. Like a man coercively controlling his wife. Or a “nice” builder using slave labour. That is where Andrew comes in. The moment that Ghislaine Maxwell trial starts, Meghan and her baby daughter will fade into the background, while Andrew will be thrust centre stage. And you can bet he will be sweating then.  NO EASY RIDE  In September 2007, the Mail on Sunday carried a spread by Wendy Leigh headlined “Prince Andrew’s friend, Ghislaine Maxwell, some underage girls and a very disturbing story”. In it, a young woman alleged that she had been groomed by Jeffrey Epstein and Maxwell and that Prince Andrew had groped her breast at a party. Epstein was about to plead guilty to sex offences and would be jailed. But the Prince maintained their friendship. And the Mail papers maintained their interest in it. And in Andrew’s business dealings. And in Andrew’s personal finances. And in his behaviour at home and abroad.  What do you think? Have your say on this and more by emailing letters@theneweuropean.co.uk\""
      ]
     },
     "execution_count": 6,
     "metadata": {},
     "output_type": "execute_result"
    }
   ],
   "source": [
    "articles['text'] = text\n",
    "articles['text'] = articles['text'].str.replace('\\n', ' ')\n",
    "articles['text'].iloc[2]"
   ]
  },
  {
   "cell_type": "code",
   "execution_count": 7,
   "metadata": {},
   "outputs": [],
   "source": [
    "articles.to_csv('Validation Articles - Sheet1.csv')"
   ]
  },
  {
   "cell_type": "code",
   "execution_count": null,
   "metadata": {},
   "outputs": [],
   "source": []
  }
 ],
 "metadata": {
  "kernelspec": {
   "display_name": "Python 3",
   "language": "python",
   "name": "python3"
  },
  "language_info": {
   "codemirror_mode": {
    "name": "ipython",
    "version": 3
   },
   "file_extension": ".py",
   "mimetype": "text/x-python",
   "name": "python",
   "nbconvert_exporter": "python",
   "pygments_lexer": "ipython3",
   "version": "3.8.3"
  }
 },
 "nbformat": 4,
 "nbformat_minor": 4
}
