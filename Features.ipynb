{
 "cells": [
  {
   "cell_type": "markdown",
   "metadata": {},
   "source": [
    "# Sim score feature. Gets a similiarity score based on NERed words from the comment and article"
   ]
  },
  {
   "cell_type": "code",
   "execution_count": 1,
   "metadata": {},
   "outputs": [],
   "source": [
    "def getSimWordScore(comment_data, topics_data, simWordScore):\n",
    "    for index, comment in comment_data.iterrows():\n",
    "        subID = comment['submissionId'] #get submission id from comment table\n",
    "        post = topics_data[topics_data['id'] == subID]\n",
    "        art_doc = post['text']\n",
    "        \n",
    "        art_doc = art_doc.to_numpy()\n",
    "        art_doc = art_doc[0]\n",
    "        art_doc = nlp(str(art_doc))\n",
    "        #art_doc = nlp(art_doc)\n",
    "        art_items = [x.text for x in art_doc.ents]\n",
    "        #get tokens\n",
    "        art_tokens = []\n",
    "        for (item, count) in Counter(art_items).most_common(5):\n",
    "            token = nlp(item)[0]\n",
    "            art_tokens += [token]\n",
    "        #get comment content and ner\n",
    "        comment_text = comment['content']\n",
    "        comment_text = str(comment_text)\n",
    "        doc = nlp(str(comment_text).lower())\n",
    "\n",
    "        items = [x.text for x in doc.ents]\n",
    "\n",
    "        #initialize list of scores\n",
    "        score = 0\n",
    "        #for each token, get a score\n",
    "        for (item, count) in Counter(items).most_common(5):\n",
    "\n",
    "            #get token\n",
    "            token = nlp(item)#[0]\n",
    "\n",
    "            wordScores = []\n",
    "\n",
    "            #for each article item\n",
    "            for art_word in art_tokens:\n",
    "\n",
    "                #add similarity score to list of scores\n",
    "                wordScores += [art_word.similarity(token)]\n",
    "            #get average score\n",
    "            if len(wordScores) != 0:\n",
    "                score += sum(wordScores)/len(wordScores)\n",
    "            else:\n",
    "                score = 0\n",
    "        simWordScore.append(score)\n",
    "    return simWordScore"
   ]
  },
  {
   "cell_type": "markdown",
   "metadata": {},
   "source": [
    "## Sim whole score. Gets a similarity score based on the whole article and whole comment"
   ]
  },
  {
   "cell_type": "code",
   "execution_count": 3,
   "metadata": {},
   "outputs": [],
   "source": [
    "def getSimWholeScore(comment_data, topics_data, simWholeScore):\n",
    "    for index, comment in comment_data.iterrows():\n",
    "        subID = comment['submissionId']\n",
    "        #get article text\n",
    "        post = topics_data[topics_data['id'] == subID]\n",
    "        art_doc = str(post['text'])\n",
    "        art_doc = nlp(art_doc)\n",
    "        #get comment content and ner\n",
    "        comment_text = comment['content']\n",
    "        comment_text = str(comment).lower()\n",
    "        doc = nlp(comment_text)\n",
    "        #compare to get a score\n",
    "        simWholeScore.append(art_doc.similarity(doc))\n",
    "    return simWholeScore"
   ]
  },
  {
   "cell_type": "code",
   "execution_count": null,
   "metadata": {},
   "outputs": [],
   "source": []
  }
 ],
 "metadata": {
  "kernelspec": {
   "display_name": "Python 3",
   "language": "python",
   "name": "python3"
  },
  "language_info": {
   "codemirror_mode": {
    "name": "ipython",
    "version": 3
   },
   "file_extension": ".py",
   "mimetype": "text/x-python",
   "name": "python",
   "nbconvert_exporter": "python",
   "pygments_lexer": "ipython3",
   "version": "3.8.3"
  }
 },
 "nbformat": 4,
 "nbformat_minor": 4
}
