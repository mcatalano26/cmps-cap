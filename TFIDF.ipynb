{
 "cells": [
  {
   "cell_type": "markdown",
   "metadata": {},
   "source": [
    "# Term Frequency-Inverse Document Frequency\n",
    "\n",
    "This feature will compare the frequencies of n-grams used in the comment to those used in the article. We could also augment this feature with WordNet to compare the frequencies of related words in both documents"
   ]
  },
  {
   "cell_type": "markdown",
   "metadata": {},
   "source": [
    "The term will be defined as the n-grams in the comment. Term frequency will come from the frequency of a given term in the document that the comment is referring to. Inverse document frequency will be defined as the frequency of the term in all of the other articles that we have scraped. This could prove to be too much for a computer to perform in a reasonable amount of time. If this is the case, we can compare it to 10 other random articles or something like that"
   ]
  },
  {
   "cell_type": "markdown",
   "metadata": {},
   "source": [
    "Going to first code a quick example of how TFIDF should work. The documents used and results garnered should match the wikipedia page for tfidf which can be found here: https://en.wikipedia.org/wiki/Tf%E2%80%93idf"
   ]
  },
  {
   "cell_type": "code",
   "execution_count": 1,
   "metadata": {},
   "outputs": [],
   "source": [
    "from collections import Counter\n",
    "import math"
   ]
  },
  {
   "cell_type": "code",
   "execution_count": 2,
   "metadata": {},
   "outputs": [],
   "source": [
    "doc1 = 'this is a a sample'\n",
    "doc2 = 'this is another another example example example'\n",
    "corpus = [doc1, doc2]"
   ]
  },
  {
   "cell_type": "code",
   "execution_count": 3,
   "metadata": {},
   "outputs": [],
   "source": [
    "def tf(term, document):\n",
    "    term_arr = str.split(document)\n",
    "    term_dict = Counter(term_arr)\n",
    "    return term_dict[term] / len(term_arr)"
   ]
  },
  {
   "cell_type": "code",
   "execution_count": 4,
   "metadata": {},
   "outputs": [],
   "source": [
    "def idf(term, corpus):\n",
    "    numerator = len(corpus)\n",
    "    count = 0\n",
    "    for doc in corpus:\n",
    "        term_arr = str.split(doc)\n",
    "        if term in term_arr:\n",
    "            count += 1\n",
    "    if count == 0:\n",
    "        return 0\n",
    "    return math.log10(numerator/count)\n"
   ]
  },
  {
   "cell_type": "code",
   "execution_count": 5,
   "metadata": {},
   "outputs": [],
   "source": [
    "def tfidf(term, document, corpus):\n",
    "    return tf(term, document) * idf(term, corpus)"
   ]
  },
  {
   "cell_type": "code",
   "execution_count": 12,
   "metadata": {},
   "outputs": [
    {
     "data": {
      "text/plain": [
       "0.06020599913279624"
      ]
     },
     "execution_count": 12,
     "metadata": {},
     "output_type": "execute_result"
    }
   ],
   "source": [
    "tfidf('sample', doc1, corpus)"
   ]
  },
  {
   "cell_type": "markdown",
   "metadata": {},
   "source": [
    "I think I can use this same exact code on actual reddit data. The term will be each word in a comment. Loop through every word, grab the tfidf score for each word in the comment, and sum these scores together to get the comment's tfidf score. Document is pure article text (need to look at what Sam did for word score comparisons to grab article text), corpus is just a list of the document variables (which, again, are just pure text)"
   ]
  },
  {
   "cell_type": "code",
   "execution_count": 17,
   "metadata": {},
   "outputs": [],
   "source": [
    "import pandas as pd\n",
    "topics_data = pd.read_csv('files/topics_data_119.csv')\n"
   ]
  },
  {
   "cell_type": "code",
   "execution_count": 23,
   "metadata": {},
   "outputs": [
    {
     "data": {
      "text/plain": [
       "'jake gottlieb, the founder of visium. reuters/ rick wilking visium asset management, a multibillion-dollar hedge fund, has imploded in the biggest scandal to hit the industry in years.\\n\\nthe fund told investors of its plan to close in a letter friday. it\\'s the most high-profile shutdown since authorities forced steve cohen\\'s controversial sac capital to close in 2013.\\n\\n\\n\\na slew of factors — from a brewing insider-trading scandal to a contentious investment by visium\\'s founder that rankled investors and staffers alike — led to visium\\'s demise.\\n\\n\\n\\non top of all of that, visium\\'s flagship fund had been reporting dismal performance. visium is selling one of its better performing funds to alliancebernstein, it said.\\n\\njust days before visium announced the shut down, one of its top portfolio managers — sanjay valvani — was charged with wire and securities fraud. he is accused of using insider information from a food and drug administration official to place trades on drug companies ahead of key fda decisions from about 2005 through 2011.\\n\\ntwo other former visium portfolio managers, christopher plaford and stefan lumiere, were accused of purposefully miscalculating the price of securities so that they could charge investors inflated fees and mislead them about the fund\\'s liquidity.\\n\\nthe closure of the firm represents a remarkable turnaround: it managed about $7.8 billion firmwide at the start of the year, a 20% increase from the year before, according to hedge fund intelligence.\\n\\nthe investigations visium is facing would present a challenge for any firm. in a letter to investors announcing the closure, jake gottlieb, the founder of visium, wrote:\\n\\n[g]iven the uncertainty relative to the final outcome of the recent regulatory developments, the negative impact of the resulting publicity, and the substantial investor withdrawals, it became clear that maintaining the status quo was increasingly untenable for the firm.\\n\\nstill, there are other issues at play here, too.\\n\\nfor one, visium\\'s flagship fund was down 9.3% this year through may, while its competitors were up 0.2%, according to performance figures obtained by business insider. it\\'s a dramatic drop from where the fund had performed over the last several years, beating its index from 2011 up until last year.\\n\\nmeanwhile, rumors about federal investigations into potential wrongdoing have been swirling for some time.\\n\\nthat influenced steve cohen, who was banned from managing other investors\\' money after his own firm\\'s insider-trading scandal, to put a stop on hiring from visium before the investigation even became public, people familiar with the matter told business insider. authorities are lifting the ban on cohen from managing outside money in 2018.\\n\\nthen there are the departures and investor redemptions.\\n\\nmany staffers recently left and morale had dropped, according to several recruiters and former staffers. visium even stopped enforcing its noncompete agreements for some ex-employees in recent weeks. noncompete agreements are common within the finance industry and were negotiated on an individual basis at visium, former staffers and recruiters said. traditionally, visium paid former staffers a hefty salary to not work at its competitors for six to 12 months at a time.\\n\\nbut after the investigation into visium was announced, employees found it increasingly difficult to find new homes.\\n\\n\"if you got out early, you were lucky,\" one recent visium departee, who declined to be named, told business insider. \"and if you’re still there, it’s far more difficult to land somewhere else.\"\\n\\nthen there are the \"substantial investor withdrawals\" that gottlieb referred to in his letter friday. it isn\\'t clear exactly how much investors asked to pull from the firm, but two people familiar with the matter said the number was in excess of $3 billion.\\n\\nirked investors\\n\\neven before the latest problems, investors had been rankled by a trade that gottlieb placed on his own behalf, in 2014, two former employees of the fund said.\\n\\nin early january of that year, visium disclosed a 5% stake in a drugmaker called intercept pharmaceuticals. a tiny portion of the stake, about 25,000 shares out of a total of a million, were bought by gottlieb himself, who is a trained physician. the regulatory filing disclosing the stake doesn\\'t say when the shares were purchased, but on the same day as the filing, january 9, intercept\\'s shares jumped 281% after the company said it was stopping a trial of its liver-disease drug early because it was so effective.\\n\\nit’s not clear precisely what price visium and gottlieb paid, but if they acquired the shares the day before the news of the drug’s efficacy broke, by the end of january 10 the visium fund\\'s profits could have reached $364 million, while gottlieb’s personal profits would have been about $9.6 million.\\n\\nintercept had already alerted investors to the fact that it would be revealing results from the trial on that day, and it had been drawing speculation over the good news for months.\\n\\nwhat irked visium\\'s investors was that gottlieb had bought shares personally instead of through the fund, a violation of visium\\'s own rules, according to two people who worked there at the time. visium explained to investors that gottlieb had been exempt from the policy at the time of the trade, one of the people said.\\n\\nit also gave off the appearance that gottlieb was focusing on his profits first, creating conflicts of interest with the performance of the flagship fund.\\n\\nin his letter to investors announcing the closure of the fund, gottlieb said that visium had sought to put investors first.\\n\\n“as you know, since visium launched in 2005, we have sought to deliver strong risk-adjusted performance and more importantly, we’ve strived to put our investors first. i am enormously proud of visium’s long-term track record,\" the letter said.\\n\\nthe speed with which visium has been forced to shutter is striking. as recently as last year, an industry publication highlighted the firm for its strong performance. and in 2014, gottlieb was one of the headliners at a prominent new york hedge fund conference.\\n\\nif you work at or are an investor in visium and are interested in speaking about developments there, please e-mail me at rlevy@businessinsider.com.\\n\\n'"
      ]
     },
     "execution_count": 23,
     "metadata": {},
     "output_type": "execute_result"
    }
   ],
   "source": [
    "topics_data.iloc[1]['text']"
   ]
  },
  {
   "cell_type": "code",
   "execution_count": null,
   "metadata": {},
   "outputs": [],
   "source": []
  }
 ],
 "metadata": {
  "kernelspec": {
   "display_name": "Python 3",
   "language": "python",
   "name": "python3"
  },
  "language_info": {
   "codemirror_mode": {
    "name": "ipython",
    "version": 3
   },
   "file_extension": ".py",
   "mimetype": "text/x-python",
   "name": "python",
   "nbconvert_exporter": "python",
   "pygments_lexer": "ipython3",
   "version": "3.7.4"
  }
 },
 "nbformat": 4,
 "nbformat_minor": 2
}
