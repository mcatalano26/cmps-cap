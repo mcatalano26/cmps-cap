{
 "cells": [
  {
   "cell_type": "code",
   "execution_count": 12,
   "metadata": {},
   "outputs": [],
   "source": [
    "import spacy\n",
    "from spacy import displacy\n",
    "import en_core_web_lg\n",
    "nlp = en_core_web_lg.load()\n",
    "\n",
    "import re\n",
    "\n",
    "from spacy_wordnet.wordnet_annotator import WordnetAnnotator\n",
    "nlp.add_pipe(WordnetAnnotator(nlp.lang), after='tagger')"
   ]
  },
  {
   "cell_type": "code",
   "execution_count": 6,
   "metadata": {},
   "outputs": [],
   "source": [
    "#highlight Named Entities in Comments to visualize model for reader\n",
    "def strong_ner(comment):\n",
    "    #get NER from comment\n",
    "    doc = nlp(comment)\n",
    "    items = [x.text for x in doc.ents]\n",
    "    #change comment so matches HTML\n",
    "    for item in items:\n",
    "        comment = comment.replace(\" \" + item + \" \", \" <strong>\" + item + \"</strong> \")\n",
    "    return comment"
   ]
  },
  {
   "cell_type": "code",
   "execution_count": 8,
   "metadata": {},
   "outputs": [
    {
     "name": "stdout",
     "output_type": "stream",
     "text": [
      "['John Doe', 'Argentinian', 'July']\n"
     ]
    },
    {
     "data": {
      "text/plain": [
       "'While an interesting article, <strong>John Doe</strong> struggles to identify the reason for the start of the <strong>Argentinian</strong> conflict in <strong>July</strong> '"
      ]
     },
     "execution_count": 8,
     "metadata": {},
     "output_type": "execute_result"
    }
   ],
   "source": [
    "#dummy text, should appear bolded when in html\n",
    "strong_ner(\"While an interesting article, John Doe struggles to identify the reason for the start of the Argentinian conflict in July \")"
   ]
  },
  {
   "cell_type": "code",
   "execution_count": 16,
   "metadata": {},
   "outputs": [],
   "source": [
    "#fix urls so they can be used again\n",
    "def restore_url(comment):\n",
    "    urlarr = []\n",
    "    urlarr = re.findall('[(]?http[s]?://(?:[a-zA-Z]|[0-9]|[$-_@.&+]|[!*\\(\\),]|(?:%[0-9a-fA-F][0-9a-fA-F]))+', str(comment))\n",
    "    for url in urlarr:\n",
    "        comment = comment.replace(\" \" + url + \" \", \"<a href={link}>{link}</a>\".format(link = url))\n",
    "    return comment"
   ]
  },
  {
   "cell_type": "code",
   "execution_count": 17,
   "metadata": {},
   "outputs": [
    {
     "data": {
      "text/plain": [
       "'This is an interesting followup read https://stackoverflow.com/questions/21506276/how-do-i-make-the-text-box-bigger-in-html-css/37214512'"
      ]
     },
     "execution_count": 17,
     "metadata": {},
     "output_type": "execute_result"
    }
   ],
   "source": [
    "restore_url('This is an interesting followup read https://stackoverflow.com/questions/21506276/how-do-i-make-the-text-box-bigger-in-html-css/37214512')"
   ]
  },
  {
   "cell_type": "code",
   "execution_count": null,
   "metadata": {},
   "outputs": [],
   "source": []
  }
 ],
 "metadata": {
  "kernelspec": {
   "display_name": "Python 3",
   "language": "python",
   "name": "python3"
  },
  "language_info": {
   "codemirror_mode": {
    "name": "ipython",
    "version": 3
   },
   "file_extension": ".py",
   "mimetype": "text/x-python",
   "name": "python",
   "nbconvert_exporter": "python",
   "pygments_lexer": "ipython3",
   "version": "3.8.3"
  }
 },
 "nbformat": 4,
 "nbformat_minor": 4
}
