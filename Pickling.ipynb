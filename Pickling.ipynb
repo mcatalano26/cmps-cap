{
 "cells": [
  {
   "cell_type": "code",
   "execution_count": 1,
   "metadata": {},
   "outputs": [],
   "source": [
    "import pickle\n",
    "import pandas as pd\n",
    "import random\n",
    "import numpy as np\n",
    "from sklearn.model_selection import train_test_split\n",
    "from sklearn.ensemble import RandomForestClassifier\n",
    "import matplotlib.pyplot as plt\n",
    "from compress_pickle import dump, load"
   ]
  },
  {
   "cell_type": "code",
   "execution_count": 9,
   "metadata": {},
   "outputs": [],
   "source": [
    "prior_df = pd.read_csv('files/compiled_comments_3_14_2021.csv')\n",
    "prior_df['Label'] = prior_df['action']\n",
    "prior_df = prior_df.drop(['action'], axis = 1)\n",
    "prior_df = prior_df.replace({'Label': {False: 0, True: 1}})\n",
    "\n",
    "valid_df = pd.read_csv('validation/Validation Comments - Sheet1.csv')"
   ]
  },
  {
   "cell_type": "code",
   "execution_count": 10,
   "metadata": {},
   "outputs": [],
   "source": [
    "# add validation comment df to function\n",
    "def set_up_train_test_split(prior_df, valid_df, feature_list, target_name, test_size):\n",
    "    valid_X = valid_df[feature_list]\n",
    "\n",
    "    prior_X = prior_df[feature_list]\n",
    "\n",
    "    valid_y = valid_df[target_name]\n",
    "\n",
    "    prior_y = prior_df[target_name]\n",
    "\n",
    "    rand_state = random.randint(0, 1000)\n",
    "    valid_X_train, valid_X_test, valid_y_train, valid_y_test = train_test_split(valid_X, valid_y, test_size = test_size, random_state=rand_state)\n",
    "    X_train, X_test, y_train, y_test = train_test_split(prior_X, prior_y, test_size = test_size, random_state=rand_state)\n",
    "    \n",
    "    for i in range(1,5):\n",
    "        X_train = X_train.append(valid_X_train, ignore_index = True)\n",
    "        y_train = y_train.append(valid_y_train, ignore_index = True)\n",
    "\n",
    "        X_test = X_test.append(valid_X_test, ignore_index = True)\n",
    "        y_test = y_test.append(valid_y_test, ignore_index = True)\n",
    "        \n",
    "    return X_train, X_test, y_train, y_test\n",
    "\n",
    "def determine_accuracy(y_test, y_val):\n",
    "    percent_arr = (y_test == y_val)\n",
    "    count = np.count_nonzero(percent_arr)\n",
    "    percentage = (count/(len(percent_arr)))*100\n",
    "    return percentage"
   ]
  },
  {
   "cell_type": "code",
   "execution_count": 13,
   "metadata": {},
   "outputs": [
    {
     "name": "stdout",
     "output_type": "stream",
     "text": [
      "Percentage correct: 78.57142857142857\n",
      "\n"
     ]
    },
    {
     "data": {
      "text/plain": [
       "array([0, 0, 0, ..., 0, 0, 0])"
      ]
     },
     "execution_count": 13,
     "metadata": {},
     "output_type": "execute_result"
    },
    {
     "data": {
      "image/png": "[encoded data removed]",
      "text/plain": [
       "<Figure size 432x288 with 1 Axes>"
      ]
     },
     "metadata": {
      "needs_background": "light"
     },
     "output_type": "display_data"
    }
   ],
   "source": [
    "from sklearn.ensemble import RandomForestClassifier\n",
    "#Random Forest Classifier\n",
    "def random_forest_class_func(prior_df, valid_df, feature_list, target_name, test_size, estimators):\n",
    "    #set up training and testing split\n",
    "    X_train, X_test, y_train, y_test = set_up_train_test_split(prior_df, valid_df, feature_list, target_name, test_size)\n",
    "    \n",
    "    #fit ridge classifier to x and y training set\n",
    "    clf = RandomForestClassifier(n_estimators = estimators).fit(X_train, y_train)\n",
    "    \n",
    "    #pickle the model\n",
    "    fname1 = \"updated_model.pkl\"\n",
    "    #dump(clf, fname1)\n",
    "    dump(clf, fname1, compression=\"lzma\", set_default_extension=False)\n",
    "    \n",
    "    importances = clf.feature_importances_\n",
    "    \n",
    "    #Predict with ridge classifier on x and y testing set\n",
    "    y_val = clf.predict(X_test)\n",
    "    \n",
    "    #report the correct percentage of predictions\n",
    "    percentage = determine_accuracy(y_test, y_val)\n",
    "    \n",
    "    #Send data to csv to keep track of data\n",
    "    data = [[feature_list, test_size, percentage, estimators]]\n",
    "    return_df = pd.DataFrame(data, columns = ['features', 'test size', 'percent correct', 'n_estimators'])\n",
    "    return_df.to_csv('files/ML_Results/RandomForestClassifier_Results.csv', mode='a', header=False, index=False)\n",
    "    \n",
    "    print('Percentage correct: ' + str(percentage) + '\\n')\n",
    "    plt.barh(feature_list, importances)\n",
    "    plt.title('Feature importance of random forest classifier with test_size=' + str(test_size))\n",
    "    \n",
    "    return y_val\n",
    "\n",
    "features = ['profanity', 'NER_count', 'NER_match', 'WordScore', 'WholeScore', 'contains_url', \n",
    "            'adjWordScore', 'no_url_WordScore', 'no_url_WholeScore', 'WordScoreNoStop', 'WholeScoreNoStop', \n",
    "            'no_url_or_stops_WholeScore', 'no_url_or_stops_WordScore']\n",
    "test = random_forest_class_func(prior_df, valid_df, features, 'Label', 0.1, 1000)\n",
    "test"
   ]
  },
  {
   "cell_type": "code",
   "execution_count": 14,
   "metadata": {},
   "outputs": [],
   "source": [
    "#To load the model, run the following\n",
    "import pickle\n",
    "from compress_pickle import dump, load\n",
    "model = load(\"updated_model.pkl\", compression=\"lzma\", set_default_extension=False)\n",
    "\n",
    "#Then do whatever you need to with the model variable"
   ]
  },
  {
   "cell_type": "code",
   "execution_count": 18,
   "metadata": {},
   "outputs": [
    {
     "data": {
      "text/plain": [
       "98.80952380952381"
      ]
     },
     "execution_count": 18,
     "metadata": {},
     "output_type": "execute_result"
    }
   ],
   "source": [
    "#Double checking that the model variable still works. It does\n",
    "features = ['profanity', 'NER_count', 'NER_match', 'WordScore', 'WholeScore', 'contains_url', \n",
    "            'adjWordScore', 'no_url_WordScore', 'no_url_WholeScore', 'WordScoreNoStop', 'WholeScoreNoStop', \n",
    "            'no_url_or_stops_WholeScore', 'no_url_or_stops_WordScore']\n",
    "X_train, X_test, y_train, y_test = set_up_train_test_split(prior_df, valid_df, features, 'Label', 0.1)\n",
    "y_val = model.predict(X_test)\n",
    "percentage = determine_accuracy(y_test, y_val)\n",
    "percentage"
   ]
  },
  {
   "cell_type": "code",
   "execution_count": null,
   "metadata": {},
   "outputs": [],
   "source": []
  }
 ],
 "metadata": {
  "kernelspec": {
   "display_name": "Python 3",
   "language": "python",
   "name": "python3"
  },
  "language_info": {
   "codemirror_mode": {
    "name": "ipython",
    "version": 3
   },
   "file_extension": ".py",
   "mimetype": "text/x-python",
   "name": "python",
   "nbconvert_exporter": "python",
   "pygments_lexer": "ipython3",
   "version": "3.8.3"
  }
 },
 "nbformat": 4,
 "nbformat_minor": 4
}
