{
 "cells": [
  {
   "cell_type": "markdown",
   "metadata": {},
   "source": [
    "## This notebook is meant to be run to test machine learning models, and look at examples of predictions. This code can be run without running any other notebooks and will run quickly and efficiently without needing to scrape any data."
   ]
  },
  {
   "cell_type": "code",
   "execution_count": 73,
   "metadata": {},
   "outputs": [
    {
     "name": "stdout",
     "output_type": "stream",
     "text": [
      "mattcat26\n"
     ]
    }
   ],
   "source": [
    "import pandas as pd\n",
    "import numpy as np\n",
    "import matplotlib.pyplot as plt\n",
    "import seaborn as sns\n",
    "\n",
    "from sklearn.metrics import mean_squared_error, r2_score, mean_absolute_error\n",
    "from sklearn.model_selection import train_test_split\n",
    "from sklearn.preprocessing import LabelBinarizer\n",
    "\n",
    "from sklearn.dummy import DummyRegressor\n",
    "from sklearn.linear_model import LinearRegression\n",
    "from sklearn.linear_model import LassoCV\n",
    "from sklearn.linear_model import RidgeCV\n",
    "from sklearn.linear_model import ElasticNetCV\n",
    "from sklearn.neighbors import KNeighborsRegressor\n",
    "from sklearn.tree import DecisionTreeRegressor\n",
    "from sklearn.ensemble import RandomForestRegressor\n",
    "from sklearn.ensemble import GradientBoostingRegressor\n",
    "import warnings\n",
    "warnings.filterwarnings('ignore')\n",
    "\n",
    "import os\n",
    "from dotenv import load_dotenv\n",
    "load_dotenv()\n",
    "\n",
    "CLIENT_ID = os.getenv('CLIENT_ID')\n",
    "CLIENT_SECRET=os.getenv('CLIENT_SECRET')\n",
    "APP_NAME=os.getenv('APP_NAME')\n",
    "REDDIT_USERNAME=os.getenv('REDDIT_USERNAME')\n",
    "REDDIT_PASSWORD=os.getenv('REDDIT_PASSWORD')\n",
    "\n",
    "import praw\n",
    "import pandas as pd\n",
    "import datetime as dt\n",
    "\n",
    "reddit = praw.Reddit(client_id=CLIENT_ID, client_secret=CLIENT_SECRET, user_agent=APP_NAME, username=REDDIT_USERNAME, password=REDDIT_PASSWORD)\n",
    "\n",
    "print(reddit.user.me())\n",
    "\n",
    "%matplotlib inline"
   ]
  },
  {
   "cell_type": "code",
   "execution_count": 74,
   "metadata": {},
   "outputs": [
    {
     "data": {
      "text/html": [
       "<div>\n",
       "<style scoped>\n",
       "    .dataframe tbody tr th:only-of-type {\n",
       "        vertical-align: middle;\n",
       "    }\n",
       "\n",
       "    .dataframe tbody tr th {\n",
       "        vertical-align: top;\n",
       "    }\n",
       "\n",
       "    .dataframe thead th {\n",
       "        text-align: right;\n",
       "    }\n",
       "</style>\n",
       "<table border=\"1\" class=\"dataframe\">\n",
       "  <thead>\n",
       "    <tr style=\"text-align: right;\">\n",
       "      <th></th>\n",
       "      <th>action</th>\n",
       "      <th>content</th>\n",
       "      <th>author</th>\n",
       "      <th>details</th>\n",
       "      <th>submissionId</th>\n",
       "      <th>commentId</th>\n",
       "      <th>WordScore</th>\n",
       "      <th>WholeScore</th>\n",
       "      <th>tfidf</th>\n",
       "      <th>contains_url</th>\n",
       "      <th>...</th>\n",
       "      <th>adjWordScore</th>\n",
       "      <th>profanity</th>\n",
       "      <th>contains_!</th>\n",
       "      <th>no_url_WordScore</th>\n",
       "      <th>no_url_WholeScore</th>\n",
       "      <th>WordScoreNoStop</th>\n",
       "      <th>WholeScoreNoStop</th>\n",
       "      <th>no_url_or_stops_WholeScore</th>\n",
       "      <th>no_url_or_stops_WordScore</th>\n",
       "      <th>no_url_or_stops_content</th>\n",
       "    </tr>\n",
       "  </thead>\n",
       "  <tbody>\n",
       "    <tr>\n",
       "      <td>0</td>\n",
       "      <td>True</td>\n",
       "      <td>So what are the implications here? Does it onl...</td>\n",
       "      <td>Cody_Fox23</td>\n",
       "      <td>NaN</td>\n",
       "      <td>4op948</td>\n",
       "      <td>d4eictg</td>\n",
       "      <td>0.000000</td>\n",
       "      <td>0.849655</td>\n",
       "      <td>0.001573</td>\n",
       "      <td>False</td>\n",
       "      <td>...</td>\n",
       "      <td>0.000000</td>\n",
       "      <td>False</td>\n",
       "      <td>False</td>\n",
       "      <td>0.000000</td>\n",
       "      <td>0.816813</td>\n",
       "      <td>0.000000</td>\n",
       "      <td>0.773069</td>\n",
       "      <td>0.736582</td>\n",
       "      <td>0.000000</td>\n",
       "      <td>So implications here? Does affect involved Vis...</td>\n",
       "    </tr>\n",
       "    <tr>\n",
       "      <td>1</td>\n",
       "      <td>True</td>\n",
       "      <td>Sadly this isn't new. Police officers use many...</td>\n",
       "      <td>DrFrenchman</td>\n",
       "      <td>NaN</td>\n",
       "      <td>4sef35</td>\n",
       "      <td>d58ts90</td>\n",
       "      <td>0.000000</td>\n",
       "      <td>0.900283</td>\n",
       "      <td>0.255802</td>\n",
       "      <td>False</td>\n",
       "      <td>...</td>\n",
       "      <td>0.000000</td>\n",
       "      <td>False</td>\n",
       "      <td>True</td>\n",
       "      <td>0.000000</td>\n",
       "      <td>0.884829</td>\n",
       "      <td>0.000000</td>\n",
       "      <td>0.857654</td>\n",
       "      <td>0.844658</td>\n",
       "      <td>0.000000</td>\n",
       "      <td>Sadly isn't new. Police officers use faulty te...</td>\n",
       "    </tr>\n",
       "    <tr>\n",
       "      <td>2</td>\n",
       "      <td>True</td>\n",
       "      <td>What's disturbing about this is that our gover...</td>\n",
       "      <td>bbakks</td>\n",
       "      <td>NaN</td>\n",
       "      <td>4sef35</td>\n",
       "      <td>d58y081</td>\n",
       "      <td>-0.038865</td>\n",
       "      <td>0.869078</td>\n",
       "      <td>0.000000</td>\n",
       "      <td>False</td>\n",
       "      <td>...</td>\n",
       "      <td>-0.038865</td>\n",
       "      <td>False</td>\n",
       "      <td>False</td>\n",
       "      <td>-0.038865</td>\n",
       "      <td>0.866455</td>\n",
       "      <td>-0.038865</td>\n",
       "      <td>0.833865</td>\n",
       "      <td>0.785302</td>\n",
       "      <td>-0.038865</td>\n",
       "      <td>What's disturbing government destroying lives ...</td>\n",
       "    </tr>\n",
       "    <tr>\n",
       "      <td>3</td>\n",
       "      <td>True</td>\n",
       "      <td>What I find really concerning is the horrible ...</td>\n",
       "      <td>poliscijunki</td>\n",
       "      <td>NaN</td>\n",
       "      <td>4sef35</td>\n",
       "      <td>d5919n8</td>\n",
       "      <td>0.000000</td>\n",
       "      <td>0.898426</td>\n",
       "      <td>0.000000</td>\n",
       "      <td>True</td>\n",
       "      <td>...</td>\n",
       "      <td>-0.015000</td>\n",
       "      <td>False</td>\n",
       "      <td>False</td>\n",
       "      <td>0.000000</td>\n",
       "      <td>0.884435</td>\n",
       "      <td>0.000000</td>\n",
       "      <td>0.865826</td>\n",
       "      <td>0.852412</td>\n",
       "      <td>0.000000</td>\n",
       "      <td>What I find concerning horrible response law e...</td>\n",
       "    </tr>\n",
       "    <tr>\n",
       "      <td>4</td>\n",
       "      <td>True</td>\n",
       "      <td>This subject might have legs but this article ...</td>\n",
       "      <td>interweb1</td>\n",
       "      <td>NaN</td>\n",
       "      <td>64zsim</td>\n",
       "      <td>dg6l969</td>\n",
       "      <td>0.000000</td>\n",
       "      <td>0.850127</td>\n",
       "      <td>0.000000</td>\n",
       "      <td>False</td>\n",
       "      <td>...</td>\n",
       "      <td>0.000000</td>\n",
       "      <td>False</td>\n",
       "      <td>False</td>\n",
       "      <td>0.000000</td>\n",
       "      <td>0.835723</td>\n",
       "      <td>0.000000</td>\n",
       "      <td>0.826162</td>\n",
       "      <td>0.804306</td>\n",
       "      <td>0.000000</td>\n",
       "      <td>This subject legs article opinion piece editor...</td>\n",
       "    </tr>\n",
       "    <tr>\n",
       "      <td>...</td>\n",
       "      <td>...</td>\n",
       "      <td>...</td>\n",
       "      <td>...</td>\n",
       "      <td>...</td>\n",
       "      <td>...</td>\n",
       "      <td>...</td>\n",
       "      <td>...</td>\n",
       "      <td>...</td>\n",
       "      <td>...</td>\n",
       "      <td>...</td>\n",
       "      <td>...</td>\n",
       "      <td>...</td>\n",
       "      <td>...</td>\n",
       "      <td>...</td>\n",
       "      <td>...</td>\n",
       "      <td>...</td>\n",
       "      <td>...</td>\n",
       "      <td>...</td>\n",
       "      <td>...</td>\n",
       "      <td>...</td>\n",
       "      <td>...</td>\n",
       "    </tr>\n",
       "    <tr>\n",
       "      <td>10231</td>\n",
       "      <td>True</td>\n",
       "      <td>Yes, while in East Baghdad my platoons mission...</td>\n",
       "      <td>CapitalCockroach</td>\n",
       "      <td>NaN</td>\n",
       "      <td>bav0rl</td>\n",
       "      <td>ekggrgk</td>\n",
       "      <td>1.070477</td>\n",
       "      <td>0.840028</td>\n",
       "      <td>0.000000</td>\n",
       "      <td>True</td>\n",
       "      <td>...</td>\n",
       "      <td>1.020477</td>\n",
       "      <td>False</td>\n",
       "      <td>False</td>\n",
       "      <td>1.070477</td>\n",
       "      <td>0.831097</td>\n",
       "      <td>1.000532</td>\n",
       "      <td>0.827872</td>\n",
       "      <td>0.788655</td>\n",
       "      <td>1.000532</td>\n",
       "      <td>Yes, East Baghdad platoons mission check build...</td>\n",
       "    </tr>\n",
       "    <tr>\n",
       "      <td>10232</td>\n",
       "      <td>True</td>\n",
       "      <td>The [definition the FBI currently uses for int...</td>\n",
       "      <td>CQME</td>\n",
       "      <td>NaN</td>\n",
       "      <td>bav0rl</td>\n",
       "      <td>ekyelps</td>\n",
       "      <td>0.941533</td>\n",
       "      <td>0.882768</td>\n",
       "      <td>0.217543</td>\n",
       "      <td>True</td>\n",
       "      <td>...</td>\n",
       "      <td>0.885283</td>\n",
       "      <td>False</td>\n",
       "      <td>False</td>\n",
       "      <td>0.884132</td>\n",
       "      <td>0.870870</td>\n",
       "      <td>0.606157</td>\n",
       "      <td>0.852373</td>\n",
       "      <td>0.843292</td>\n",
       "      <td>0.600762</td>\n",
       "      <td>The [definition FBI currently uses internation...</td>\n",
       "    </tr>\n",
       "    <tr>\n",
       "      <td>10233</td>\n",
       "      <td>True</td>\n",
       "      <td>[Yes.](https://en.m.wikipedia.org/wiki/Islamic...</td>\n",
       "      <td>Silent_As_The_Grave_</td>\n",
       "      <td>NaN</td>\n",
       "      <td>bav0rl</td>\n",
       "      <td>ekehcqg</td>\n",
       "      <td>0.217683</td>\n",
       "      <td>0.779386</td>\n",
       "      <td>0.000000</td>\n",
       "      <td>True</td>\n",
       "      <td>...</td>\n",
       "      <td>0.161433</td>\n",
       "      <td>True</td>\n",
       "      <td>False</td>\n",
       "      <td>0.217683</td>\n",
       "      <td>0.833056</td>\n",
       "      <td>0.369440</td>\n",
       "      <td>0.782545</td>\n",
       "      <td>0.800717</td>\n",
       "      <td>0.369440</td>\n",
       "      <td>[Yes.] Have look allies with. Hezbollah fucks ...</td>\n",
       "    </tr>\n",
       "    <tr>\n",
       "      <td>10234</td>\n",
       "      <td>True</td>\n",
       "      <td>Has ANY Shia ever committed an act of terroris...</td>\n",
       "      <td>bsmdphdjd</td>\n",
       "      <td>NaN</td>\n",
       "      <td>bav0rl</td>\n",
       "      <td>ekfp4ls</td>\n",
       "      <td>1.293729</td>\n",
       "      <td>0.861529</td>\n",
       "      <td>0.000000</td>\n",
       "      <td>False</td>\n",
       "      <td>...</td>\n",
       "      <td>1.143729</td>\n",
       "      <td>False</td>\n",
       "      <td>False</td>\n",
       "      <td>1.293729</td>\n",
       "      <td>0.847163</td>\n",
       "      <td>1.788263</td>\n",
       "      <td>0.834425</td>\n",
       "      <td>0.792615</td>\n",
       "      <td>1.788263</td>\n",
       "      <td>Has ANY Shia committed act terrorism U.S.?\\n\\n...</td>\n",
       "    </tr>\n",
       "    <tr>\n",
       "      <td>10235</td>\n",
       "      <td>True</td>\n",
       "      <td>It would not be constitutional in my opinion. ...</td>\n",
       "      <td>redblazingdragon</td>\n",
       "      <td>NaN</td>\n",
       "      <td>b9xtig</td>\n",
       "      <td>ekkvx0k</td>\n",
       "      <td>1.187300</td>\n",
       "      <td>0.919541</td>\n",
       "      <td>0.445606</td>\n",
       "      <td>True</td>\n",
       "      <td>...</td>\n",
       "      <td>0.987300</td>\n",
       "      <td>False</td>\n",
       "      <td>False</td>\n",
       "      <td>1.187300</td>\n",
       "      <td>0.907266</td>\n",
       "      <td>0.000000</td>\n",
       "      <td>0.860812</td>\n",
       "      <td>0.856364</td>\n",
       "      <td>0.000000</td>\n",
       "      <td>It constitutional opinion.  Beginning 1875, Su...</td>\n",
       "    </tr>\n",
       "  </tbody>\n",
       "</table>\n",
       "<p>10236 rows × 26 columns</p>\n",
       "</div>"
      ],
      "text/plain": [
       "       action                                            content  \\\n",
       "0        True  So what are the implications here? Does it onl...   \n",
       "1        True  Sadly this isn't new. Police officers use many...   \n",
       "2        True  What's disturbing about this is that our gover...   \n",
       "3        True  What I find really concerning is the horrible ...   \n",
       "4        True  This subject might have legs but this article ...   \n",
       "...       ...                                                ...   \n",
       "10231    True  Yes, while in East Baghdad my platoons mission...   \n",
       "10232    True  The [definition the FBI currently uses for int...   \n",
       "10233    True  [Yes.](https://en.m.wikipedia.org/wiki/Islamic...   \n",
       "10234    True  Has ANY Shia ever committed an act of terroris...   \n",
       "10235    True  It would not be constitutional in my opinion. ...   \n",
       "\n",
       "                     author details submissionId commentId  WordScore  \\\n",
       "0                Cody_Fox23     NaN       4op948   d4eictg   0.000000   \n",
       "1               DrFrenchman     NaN       4sef35   d58ts90   0.000000   \n",
       "2                    bbakks     NaN       4sef35   d58y081  -0.038865   \n",
       "3              poliscijunki     NaN       4sef35   d5919n8   0.000000   \n",
       "4                 interweb1     NaN       64zsim   dg6l969   0.000000   \n",
       "...                     ...     ...          ...       ...        ...   \n",
       "10231      CapitalCockroach     NaN       bav0rl   ekggrgk   1.070477   \n",
       "10232                  CQME     NaN       bav0rl   ekyelps   0.941533   \n",
       "10233  Silent_As_The_Grave_     NaN       bav0rl   ekehcqg   0.217683   \n",
       "10234             bsmdphdjd     NaN       bav0rl   ekfp4ls   1.293729   \n",
       "10235      redblazingdragon     NaN       b9xtig   ekkvx0k   1.187300   \n",
       "\n",
       "       WholeScore     tfidf  contains_url  ... adjWordScore  profanity  \\\n",
       "0        0.849655  0.001573         False  ...     0.000000      False   \n",
       "1        0.900283  0.255802         False  ...     0.000000      False   \n",
       "2        0.869078  0.000000         False  ...    -0.038865      False   \n",
       "3        0.898426  0.000000          True  ...    -0.015000      False   \n",
       "4        0.850127  0.000000         False  ...     0.000000      False   \n",
       "...           ...       ...           ...  ...          ...        ...   \n",
       "10231    0.840028  0.000000          True  ...     1.020477      False   \n",
       "10232    0.882768  0.217543          True  ...     0.885283      False   \n",
       "10233    0.779386  0.000000          True  ...     0.161433       True   \n",
       "10234    0.861529  0.000000         False  ...     1.143729      False   \n",
       "10235    0.919541  0.445606          True  ...     0.987300      False   \n",
       "\n",
       "       contains_!  no_url_WordScore  no_url_WholeScore  WordScoreNoStop  \\\n",
       "0           False          0.000000           0.816813         0.000000   \n",
       "1            True          0.000000           0.884829         0.000000   \n",
       "2           False         -0.038865           0.866455        -0.038865   \n",
       "3           False          0.000000           0.884435         0.000000   \n",
       "4           False          0.000000           0.835723         0.000000   \n",
       "...           ...               ...                ...              ...   \n",
       "10231       False          1.070477           0.831097         1.000532   \n",
       "10232       False          0.884132           0.870870         0.606157   \n",
       "10233       False          0.217683           0.833056         0.369440   \n",
       "10234       False          1.293729           0.847163         1.788263   \n",
       "10235       False          1.187300           0.907266         0.000000   \n",
       "\n",
       "       WholeScoreNoStop  no_url_or_stops_WholeScore  \\\n",
       "0              0.773069                    0.736582   \n",
       "1              0.857654                    0.844658   \n",
       "2              0.833865                    0.785302   \n",
       "3              0.865826                    0.852412   \n",
       "4              0.826162                    0.804306   \n",
       "...                 ...                         ...   \n",
       "10231          0.827872                    0.788655   \n",
       "10232          0.852373                    0.843292   \n",
       "10233          0.782545                    0.800717   \n",
       "10234          0.834425                    0.792615   \n",
       "10235          0.860812                    0.856364   \n",
       "\n",
       "       no_url_or_stops_WordScore  \\\n",
       "0                       0.000000   \n",
       "1                       0.000000   \n",
       "2                      -0.038865   \n",
       "3                       0.000000   \n",
       "4                       0.000000   \n",
       "...                          ...   \n",
       "10231                   1.000532   \n",
       "10232                   0.600762   \n",
       "10233                   0.369440   \n",
       "10234                   1.788263   \n",
       "10235                   0.000000   \n",
       "\n",
       "                                 no_url_or_stops_content  \n",
       "0      So implications here? Does affect involved Vis...  \n",
       "1      Sadly isn't new. Police officers use faulty te...  \n",
       "2      What's disturbing government destroying lives ...  \n",
       "3      What I find concerning horrible response law e...  \n",
       "4      This subject legs article opinion piece editor...  \n",
       "...                                                  ...  \n",
       "10231  Yes, East Baghdad platoons mission check build...  \n",
       "10232  The [definition FBI currently uses internation...  \n",
       "10233  [Yes.] Have look allies with. Hezbollah fucks ...  \n",
       "10234  Has ANY Shia committed act terrorism U.S.?\\n\\n...  \n",
       "10235  It constitutional opinion.  Beginning 1875, Su...  \n",
       "\n",
       "[10236 rows x 26 columns]"
      ]
     },
     "execution_count": 74,
     "metadata": {},
     "output_type": "execute_result"
    }
   ],
   "source": [
    "comments_df = pd.read_csv('files/compiled_comments_2_25_2021.csv')\n",
    "comments_df"
   ]
  },
  {
   "cell_type": "code",
   "execution_count": 75,
   "metadata": {},
   "outputs": [],
   "source": [
    "# comments_df = comments_df.replace({'action': {'removecomment': 0, 'approvecomment': 0, np.nan: 1}})"
   ]
  },
  {
   "cell_type": "code",
   "execution_count": 76,
   "metadata": {},
   "outputs": [],
   "source": [
    "# comments_df['action'] = comments_df['action'].astype('bool')"
   ]
  },
  {
   "cell_type": "code",
   "execution_count": 77,
   "metadata": {},
   "outputs": [],
   "source": [
    "# comments_df"
   ]
  },
  {
   "cell_type": "markdown",
   "metadata": {},
   "source": [
    "Currently, 51% of the comments are good and 49% are bad...this is a pretty good ratio"
   ]
  },
  {
   "cell_type": "code",
   "execution_count": 78,
   "metadata": {},
   "outputs": [],
   "source": [
    "# comments_df.to_csv('files/compiled_comments_2_25_2021.csv', index=False)"
   ]
  },
  {
   "cell_type": "code",
   "execution_count": 79,
   "metadata": {},
   "outputs": [],
   "source": [
    "import random\n",
    "from sklearn.neighbors import KNeighborsClassifier\n",
    "from sklearn.linear_model import RidgeClassifier\n",
    "from sklearn.linear_model import *"
   ]
  },
  {
   "cell_type": "code",
   "execution_count": 80,
   "metadata": {},
   "outputs": [],
   "source": [
    "X = comments_df[['WordScore', 'WholeScore']]\n",
    "X = X.to_numpy()\n",
    "y = comments_df['action']\n",
    "y = y.to_numpy()\n",
    "X_train, X_test, y_train, y_test = train_test_split(X, y, test_size = 0.33, random_state=random.randint(0, 1000))"
   ]
  },
  {
   "cell_type": "code",
   "execution_count": 81,
   "metadata": {},
   "outputs": [
    {
     "data": {
      "text/plain": [
       "KNeighborsClassifier(algorithm='auto', leaf_size=30, metric='minkowski',\n",
       "                     metric_params=None, n_jobs=None, n_neighbors=5, p=2,\n",
       "                     weights='uniform')"
      ]
     },
     "execution_count": 81,
     "metadata": {},
     "output_type": "execute_result"
    }
   ],
   "source": [
    "neigh = KNeighborsClassifier(n_neighbors = 5)\n",
    "neigh.fit(X_train, y_train)"
   ]
  },
  {
   "cell_type": "code",
   "execution_count": 82,
   "metadata": {},
   "outputs": [],
   "source": [
    "y_val = neigh.predict(X_test)"
   ]
  },
  {
   "cell_type": "code",
   "execution_count": 83,
   "metadata": {},
   "outputs": [
    {
     "data": {
      "text/plain": [
       "61.13084665482534"
      ]
     },
     "execution_count": 83,
     "metadata": {},
     "output_type": "execute_result"
    }
   ],
   "source": [
    "percent_arr = (y_test == y_val)\n",
    "count = np.count_nonzero(percent_arr)\n",
    "percentage = (count/(len(percent_arr)))*100\n",
    "percentage"
   ]
  },
  {
   "cell_type": "code",
   "execution_count": 84,
   "metadata": {},
   "outputs": [
    {
     "data": {
      "text/plain": [
       "array([1, 0, 0, ..., 0, 1, 0])"
      ]
     },
     "execution_count": 84,
     "metadata": {},
     "output_type": "execute_result"
    }
   ],
   "source": [
    "colors = {0: 'red', 1: 'green'}\n",
    "markers = {0: 'x', 1: '.'}\n",
    "\n",
    "y_train = np.array(y_train)\n",
    "y_train = y_train.astype(int)\n",
    "y_train"
   ]
  },
  {
   "cell_type": "code",
   "execution_count": 85,
   "metadata": {},
   "outputs": [],
   "source": [
    "def plotting(x, y, truth):\n",
    "    df = pd.DataFrame(x)\n",
    "    df = df.rename(columns={0: 'WordScore', 1: 'WholeScore'})\n",
    "    df['action'] = y\n",
    "    for i in range(2):\n",
    "        new_df = df[df['action'] == i]\n",
    "        plt.scatter(new_df['WordScore'], new_df['WholeScore'], c=colors[i], marker=markers[i], label=i)\n",
    "\n",
    "    plt.xlabel('WordScore')\n",
    "    plt.ylabel('WholeScore')\n",
    "    if truth:\n",
    "        plt.title('True Testing Labels')\n",
    "    else:\n",
    "        plt.title('Predicted Testing Labels')"
   ]
  },
  {
   "cell_type": "code",
   "execution_count": 86,
   "metadata": {},
   "outputs": [
    {
     "data": {
      "image/png": "[encoded data removed]",
      "text/plain": [
       "<Figure size 432x288 with 1 Axes>"
      ]
     },
     "metadata": {
      "needs_background": "light"
     },
     "output_type": "display_data"
    }
   ],
   "source": [
    "plotting(X_test, y_test, True)"
   ]
  },
  {
   "cell_type": "code",
   "execution_count": 87,
   "metadata": {},
   "outputs": [
    {
     "data": {
      "image/png": "[encoded data removed]",
      "text/plain": [
       "<Figure size 432x288 with 1 Axes>"
      ]
     },
     "metadata": {
      "needs_background": "light"
     },
     "output_type": "display_data"
    }
   ],
   "source": [
    "plotting(X_test, y_val, False)"
   ]
  },
  {
   "cell_type": "markdown",
   "metadata": {},
   "source": [
    "The first version of our model was able to predict correctly around 62% of the time. Going to make a function now to test different features, with different parameters. Multiple functions will be created for different machine learning models. Might be nice to send to an excel spreadsheet or something every time the function is run. That way we can keep track of a lot of data. Just realized we can't use upvote ratios or scores as a feature since we do not have access to the scores of the removed\n",
    "comments"
   ]
  },
  {
   "cell_type": "code",
   "execution_count": 88,
   "metadata": {},
   "outputs": [],
   "source": [
    "comments_df = pd.read_csv('files/compiled_comments_2_25_2021.csv')"
   ]
  },
  {
   "cell_type": "code",
   "execution_count": 89,
   "metadata": {},
   "outputs": [],
   "source": [
    "def set_up_train_test_split(df, feature_list, target_name, test_size):\n",
    "    X = df[feature_list]\n",
    "    X = X.to_numpy()\n",
    "    y = df[target_name]\n",
    "    y = y.to_numpy()\n",
    "    rand_state = random.randint(0, 1000)\n",
    "    X_train, X_test, y_train, y_test = train_test_split(X, y, test_size = test_size, random_state=rand_state)\n",
    "    return X_train, X_test, y_train, y_test\n",
    "\n",
    "def determine_accuracy(y_test, y_val):\n",
    "    percent_arr = (y_test == y_val)\n",
    "    count = np.count_nonzero(percent_arr)\n",
    "    percentage = (count/(len(percent_arr)))*100\n",
    "    return percentage"
   ]
  },
  {
   "cell_type": "code",
   "execution_count": 90,
   "metadata": {},
   "outputs": [
    {
     "data": {
      "text/plain": [
       "73.12018946121965"
      ]
     },
     "execution_count": 90,
     "metadata": {},
     "output_type": "execute_result"
    }
   ],
   "source": [
    "#Input dataframe, features, target value, test size, and number of neighbors and get accuracy of k nearest neighbors\n",
    "def K_nearest_neighbors_func(df, feature_list, target_name, test_size, number_neighbors):\n",
    "    #set up training and testing split\n",
    "    X_train, X_test, y_train, y_test = set_up_train_test_split(df, feature_list, target_name, test_size)\n",
    "    \n",
    "    #fit nearest neighbors model\n",
    "    neigh = KNeighborsClassifier(n_neighbors = 5)\n",
    "    neigh.fit(X_train, y_train)\n",
    "    \n",
    "    #predict with the model\n",
    "    y_val = neigh.predict(X_test)\n",
    "    \n",
    "    #report the correct percentage of predictions\n",
    "    percentage = determine_accuracy(y_test, y_val)\n",
    "    \n",
    "    #Send data to csv to keep track of data\n",
    "    data = [[feature_list, test_size, number_neighbors, percentage]]\n",
    "    return_df = pd.DataFrame(data, columns = ['features', 'test size', 'number of neighbors', 'percent correct'])\n",
    "    return_df.to_csv('files/ML_Results/KNN_Results.csv', mode='a', header=False, index=False)\n",
    "    \n",
    "    return percentage\n",
    "\n",
    "features = ['WordScore', 'WholeScore', 'tfidf', 'contains_url', 'adjWordScore', 'profanity', 'contains_!', 'no_url_WordScore', 'no_url_WholeScore', 'WordScoreNoStop', 'WholeScoreNoStop']\n",
    "K_nearest_neighbors_func(comments_df, features, 'action', 0.33, 5)"
   ]
  },
  {
   "cell_type": "code",
   "execution_count": 91,
   "metadata": {},
   "outputs": [
    {
     "data": {
      "text/plain": [
       "74.54114860864416"
      ]
     },
     "execution_count": 91,
     "metadata": {},
     "output_type": "execute_result"
    }
   ],
   "source": [
    "def ridge_class_func(df, feature_list, target_name, test_size):\n",
    "    #set up training and testing split\n",
    "    X_train, X_test, y_train, y_test = set_up_train_test_split(df, feature_list, target_name, test_size)\n",
    "    \n",
    "    #fit ridge classifier to x and y training set\n",
    "    clf = RidgeClassifier().fit(X_train, y_train)\n",
    "    \n",
    "    #Predict with ridge classifier on x and y testing set\n",
    "    y_val = clf.predict(X_test)\n",
    "    \n",
    "    #report the correct percentage of predictions\n",
    "    percentage = determine_accuracy(y_test, y_val)\n",
    "    \n",
    "    #Send data to csv to keep track of data\n",
    "    data = [[feature_list, test_size, percentage]]\n",
    "    return_df = pd.DataFrame(data, columns = ['features', 'test size', 'percent correct'])\n",
    "    return_df.to_csv('files/ML_Results/RidgeClassifier_Results.csv', mode = 'a', header = False, index=False)\n",
    "    \n",
    "    return percentage\n",
    "\n",
    "features = ['WordScore', 'WholeScore', 'tfidf', 'contains_url', 'adjWordScore', 'profanity', 'contains_!', 'no_url_WordScore', 'no_url_WholeScore', 'WordScoreNoStop', 'WholeScoreNoStop']\n",
    "ridge_class_func(comments_df, features, 'action', 0.33)"
   ]
  },
  {
   "cell_type": "code",
   "execution_count": 92,
   "metadata": {},
   "outputs": [
    {
     "name": "stdout",
     "output_type": "stream",
     "text": [
      "Feature: tfidf, Score: 0.23645718184105885\n",
      "Feature: WordScore, Score: -0.25143799508487374\n",
      "Feature: WholeScore, Score: -3.707157276376424\n",
      "Feature: contains_url, Score: 0.24494312231936954\n",
      "Feature: adjWordScore, Score: 0.16940631101161494\n",
      "Feature: profanity, Score: -0.10159694767749719\n",
      "Feature: contains_!, Score: -0.004195390601624689\n",
      "Feature: no_url_WordScore, Score: 0.15439125649188706\n",
      "Feature: no_url_WholeScore, Score: 4.686332759928408\n",
      "Feature: WordScoreNoStop, Score: -0.08450872248054658\n",
      "Feature: WholeScoreNoStop, Score: 0.4960722286902194\n",
      "Feature: no_url_or_stops_WholeScore, Score: 0.010697115825414804\n",
      "Feature: no_url_or_stops_WordScore, Score: 0.11649588720914016\n",
      "Percentage correct = 76.13972764949675\n"
     ]
    },
    {
     "data": {
      "text/plain": [
       "Index(['action', 'content', 'author', 'details', 'submissionId', 'commentId',\n",
       "       'WordScore', 'WholeScore', 'tfidf', 'contains_url', 'text_without_url',\n",
       "       'article_score', 'comment_score', 'all_comments_scores',\n",
       "       'comment_article_score_ratio', 'comment_comments_score_ratio',\n",
       "       'adjWordScore', 'profanity', 'contains_!', 'no_url_WordScore',\n",
       "       'no_url_WholeScore', 'WordScoreNoStop', 'WholeScoreNoStop',\n",
       "       'no_url_or_stops_WholeScore', 'no_url_or_stops_WordScore',\n",
       "       'no_url_or_stops_content'],\n",
       "      dtype='object')"
      ]
     },
     "execution_count": 92,
     "metadata": {},
     "output_type": "execute_result"
    },
    {
     "data": {
      "image/png": "[encoded data removed]",
      "text/plain": [
       "<Figure size 432x288 with 1 Axes>"
      ]
     },
     "metadata": {
      "needs_background": "light"
     },
     "output_type": "display_data"
    }
   ],
   "source": [
    "#input dataframe, feature list, target name, test size, alpha (regularization strength as a positive float...the bigger\n",
    "#the number, the more regularized...default is 1), and threshold (this will determine the difference between a good \n",
    "#comment and a bad comment)\n",
    "def ridge_reg_func(df, feature_list, target_name, test_size, alpha, threshold):\n",
    "    #set up training and testing split\n",
    "    X_train, X_test, y_train, y_test = set_up_train_test_split(df, feature_list, target_name, test_size)\n",
    "    \n",
    "    #fit the model\n",
    "    clf = Ridge(alpha = alpha)\n",
    "    clf.fit(X_train, y_train)\n",
    "    \n",
    "    #Predict with ridge regression on testing set\n",
    "    y_val = clf.predict(X_test)\n",
    "    \n",
    "    #Convert the values\n",
    "    y_val = (y_val>=threshold)\n",
    "    \n",
    "    #report the correct percentage of predictions\n",
    "    percentage = determine_accuracy(y_test, y_val)\n",
    "    \n",
    "    #Determine feature importance\n",
    "    importance = clf.coef_\n",
    "    importance_list = []\n",
    "    for i, v in enumerate(importance):\n",
    "        importance_list.append([feature_list[i], v])\n",
    "        print('Feature: ' + feature_list[i] + ', Score: ' + str(v))\n",
    "    \n",
    "    plt.barh(features, importance)\n",
    "    \n",
    "    #Send data to csv to keep track of data\n",
    "    data = [[feature_list, test_size, alpha, threshold, importance_list, percentage]]\n",
    "    return_df = pd.DataFrame(data, columns = ['features', 'test size', 'alpha', 'threshold', 'importance scores', 'percent_correct'])\n",
    "    return_df.to_csv('files/ML_Results/RidgeRegression_Results.csv', mode='a', header=False, index=False)\n",
    "    \n",
    "    return percentage\n",
    "\n",
    "\n",
    "\n",
    "features = ['tfidf', 'WordScore', 'WholeScore', 'contains_url', 'adjWordScore', 'profanity', 'contains_!', 'no_url_WordScore', 'no_url_WholeScore', 'WordScoreNoStop', 'WholeScoreNoStop', 'no_url_or_stops_WholeScore', 'no_url_or_stops_WordScore']\n",
    "perc = ridge_reg_func(comments_df, features, 'action', 0.33, 1.0, 0.5)\n",
    "\n",
    "print(\"Percentage correct = \" + str(perc))\n",
    "comments_df.columns"
   ]
  },
  {
   "cell_type": "code",
   "execution_count": 93,
   "metadata": {},
   "outputs": [
    {
     "data": {
      "text/plain": [
       "74.42273534635879"
      ]
     },
     "execution_count": 93,
     "metadata": {},
     "output_type": "execute_result"
    }
   ],
   "source": [
    "from sklearn.model_selection import cross_val_score\n",
    "from sklearn.tree import DecisionTreeClassifier\n",
    "#Decision tree classifier\n",
    "def decision_tree_class_func(df, feature_list, target_name, test_size):\n",
    "    #set up training and testing split\n",
    "    X_train, X_test, y_train, y_test = set_up_train_test_split(df, feature_list, target_name, test_size)\n",
    "    \n",
    "    #fit ridge classifier to x and y training set\n",
    "    clf = DecisionTreeClassifier().fit(X_train, y_train)\n",
    "    \n",
    "    #Predict with ridge classifier on x and y testing set\n",
    "    y_val = clf.predict(X_test)\n",
    "    \n",
    "    #report the correct percentage of predictions\n",
    "    percentage = determine_accuracy(y_test, y_val)\n",
    "    \n",
    "    #Send data to csv to keep track of data\n",
    "    data = [[feature_list, test_size, percentage]]\n",
    "    return_df = pd.DataFrame(data, columns = ['features', 'test size', 'percent correct'])\n",
    "    return_df.to_csv('files/ML_Results/DecisionTreeClassifier_Results.csv', mode = 'a', header = False, index=False)\n",
    "    \n",
    "    return percentage\n",
    "\n",
    "features = ['tfidf', 'WordScore', 'WholeScore', 'contains_url', 'adjWordScore', 'profanity', 'contains_!', 'no_url_WordScore', 'no_url_WholeScore', 'WordScoreNoStop', 'WholeScoreNoStop', 'no_url_or_stops_WholeScore', 'no_url_or_stops_WordScore']\n",
    "decision_tree_class_func(comments_df, features, 'action', 0.33)"
   ]
  },
  {
   "cell_type": "code",
   "execution_count": 94,
   "metadata": {},
   "outputs": [
    {
     "name": "stdout",
     "output_type": "stream",
     "text": [
      "Percentage correct: 82.91015625\n",
      "\n"
     ]
    },
    {
     "data": {
      "image/png": "[encoded data removed]",
      "text/plain": [
       "<Figure size 432x288 with 1 Axes>"
      ]
     },
     "metadata": {
      "needs_background": "light"
     },
     "output_type": "display_data"
    }
   ],
   "source": [
    "from sklearn.ensemble import RandomForestClassifier\n",
    "#Random Forest Classifier\n",
    "def random_forest_class_func(df, feature_list, target_name, test_size, estimators):\n",
    "    #set up training and testing split\n",
    "    X_train, X_test, y_train, y_test = set_up_train_test_split(df, feature_list, target_name, test_size)\n",
    "    \n",
    "    #fit ridge classifier to x and y training set\n",
    "    clf = RandomForestClassifier(n_estimators = estimators).fit(X_train, y_train)\n",
    "    \n",
    "    importances = clf.feature_importances_\n",
    "    \n",
    "    #Predict with ridge classifier on x and y testing set\n",
    "    y_val = clf.predict(X_test)\n",
    "    \n",
    "    #report the correct percentage of predictions\n",
    "    percentage = determine_accuracy(y_test, y_val)\n",
    "    \n",
    "    #Send data to csv to keep track of data\n",
    "    data = [[feature_list, test_size, percentage, estimators]]\n",
    "    return_df = pd.DataFrame(data, columns = ['features', 'test size', 'percent correct', 'n_estimators'])\n",
    "    return_df.to_csv('files/ML_Results/RandomForestClassifier_Results.csv', mode='a', header=False, index=False)\n",
    "    \n",
    "    print('Percentage correct: ' + str(percentage) + '\\n')\n",
    "    plt.barh(feature_list, importances)\n",
    "    plt.title('Feature importance of random forest classifier with test_size=' + str(test_size))\n",
    "\n",
    "features = ['tfidf', 'WordScore', 'WholeScore', 'contains_url', 'adjWordScore', 'no_url_WordScore', 'no_url_WholeScore', 'WordScoreNoStop', 'WholeScoreNoStop', 'no_url_or_stops_WholeScore', 'no_url_or_stops_WordScore']\n",
    "random_forest_class_func(comments_df, features, 'action', 0.1, 1000)"
   ]
  },
  {
   "cell_type": "code",
   "execution_count": 97,
   "metadata": {},
   "outputs": [
    {
     "name": "stdout",
     "output_type": "stream",
     "text": [
      "Percentage correct: 61.13084665482534\n",
      "\n"
     ]
    },
    {
     "data": {
      "image/png": "[encoded data removed]",
      "text/plain": [
       "<Figure size 432x288 with 1 Axes>"
      ]
     },
     "metadata": {
      "needs_background": "light"
     },
     "output_type": "display_data"
    }
   ],
   "source": [
    "from sklearn.ensemble import ExtraTreesClassifier\n",
    "def extra_trees_class_func(df, feature_list, target_name, test_size):\n",
    "    X_train, X_test, y_train, y_test = set_up_train_test_split(df, feature_list, target_name, test_size)\n",
    "    \n",
    "    clf = ExtraTreesClassifier().fit(X_train, y_train)\n",
    "    \n",
    "    importances = clf.feature_importances_\n",
    "    \n",
    "    y_val = clf.predict(X_test)\n",
    "    \n",
    "    data = [[feature_list, test_size, percentage]]\n",
    "    return_df = pd.DataFrame(data, columns=['features', 'test size', 'percent correct'])\n",
    "    return_df.to_csv('files/ML_Results/ExtraTreesClassifier_Results.csv', mode='a', header=False, index=False)\n",
    "    \n",
    "    print('Percentage correct: ' + str(percentage) + '\\n')\n",
    "    plt.barh(feature_list, importances)\n",
    "    plt.title('Feature importance of extra trees classifier with test_size=' + str(test_size))\n",
    "    \n",
    "\n",
    "features = ['tfidf', 'WordScore', 'WholeScore', 'contains_url', 'adjWordScore', 'profanity', 'contains_!', 'no_url_WordScore', 'no_url_WholeScore', 'WordScoreNoStop', 'WholeScoreNoStop', 'no_url_or_stops_WholeScore', 'no_url_or_stops_WordScore']\n",
    "extra_trees_class_func(comments_df, features, 'action', 0.33)"
   ]
  },
  {
   "cell_type": "code",
   "execution_count": null,
   "metadata": {},
   "outputs": [],
   "source": [
    "# bad_comments = comments_df[comments_df['action'] == False]\n",
    "# # bad_comments['comment_score'].unique()"
   ]
  },
  {
   "cell_type": "code",
   "execution_count": 27,
   "metadata": {},
   "outputs": [],
   "source": [
    "# comments_df.columns"
   ]
  },
  {
   "cell_type": "code",
   "execution_count": null,
   "metadata": {},
   "outputs": [],
   "source": []
  },
  {
   "cell_type": "code",
   "execution_count": null,
   "metadata": {},
   "outputs": [],
   "source": []
  },
  {
   "cell_type": "code",
   "execution_count": 44,
   "metadata": {},
   "outputs": [],
   "source": [
    "# #Need to fix the score ratios to account for infinity\n",
    "# #Also add in a way to send this data to a csv\n",
    "# def check_for_nan_inf(comments_df):\n",
    "#     count = np.isinf(comments_df['comment_comments_score_ratio']).values.sum()\n",
    "#     print('Number of infinities in comment_comments_score_ratio = ' + str(count))\n",
    "#     count = np.isinf(comments_df['comment_article_score_ratio']).values.sum()\n",
    "#     print('Number of infinities in comment_article_score_ratio = ' + str(count))\n",
    "#     count = np.isnan(comments_df['comment_comments_score_ratio']).values.sum()\n",
    "#     print('Number of nans in comment_comments_score_ratio = ' + str(count))\n",
    "#     count = np.isnan(comments_df['comment_article_score_ratio']).values.sum()\n",
    "#     print('Number of nans in comment_article_score_ratio = ' + str(count))\n",
    "\n",
    "# #Something else I just thought about...the positive and negative signs on the ratios could be misleading. If both the \n",
    "# #comment and article are downvoted, it will have a positive ratio, if just one of them is downvoted it will be negative.\n",
    "# #Need to think more about this"
   ]
  },
  {
   "cell_type": "code",
   "execution_count": 45,
   "metadata": {},
   "outputs": [],
   "source": [
    "# comments_df['comment_comments_score_ratio'] = comments_df['comment_comments_score_ratio'].replace(np.nan, 0)\n",
    "# comments_df['comment_article_score_ratio'] = comments_df['comment_article_score_ratio'].replace(np.nan, 0)\n",
    "\n",
    "# comments_df['comment_comments_score_ratio'] = comments_df['comment_comments_score_ratio'].replace([np.inf, -np.inf], 0)\n",
    "# comments_df['comment_article_score_ratio'] = comments_df['comment_article_score_ratio'].replace([np.inf, -np.inf], 0)\n",
    "\n",
    "# check_for_nan_inf(comments_df)"
   ]
  },
  {
   "cell_type": "code",
   "execution_count": 46,
   "metadata": {},
   "outputs": [],
   "source": [
    "# zero_df = comments_df[(comments_df['comment_comments_score_ratio'] == 0) | (comments_df['comment_article_score_ratio'] == 0)]\n",
    "# zero_df\n",
    "# comments_zero_df = zero_df[zero_df['comment_score'] == 0]\n",
    "# (len(comments_zero_df)/len(zero_df))*100"
   ]
  },
  {
   "cell_type": "markdown",
   "metadata": {},
   "source": [
    "Since almost 100% of the comments where there were infinities, nans, or zeros already, I think it is safe to just keep all the ratios to zero when there is a nan or infinity"
   ]
  },
  {
   "cell_type": "code",
   "execution_count": 47,
   "metadata": {},
   "outputs": [],
   "source": [
    "# random_sampling['comment_comments_score_ratio'] = random_sampling['comment_comments_score_ratio'].replace(0, random_sampling['comment_score'])\n",
    "\n",
    "# random_sampling.iloc[0]"
   ]
  },
  {
   "cell_type": "code",
   "execution_count": 179,
   "metadata": {},
   "outputs": [],
   "source": [
    "# comments_df.to_csv('files/compiled_comments_2_24_2021.csv', index=False)"
   ]
  },
  {
   "cell_type": "markdown",
   "metadata": {},
   "source": [
    "## Everything below here is used for grabbing examples of what the model finds good and bad as well as what it guessed correctly and incorrectly"
   ]
  },
  {
   "cell_type": "code",
   "execution_count": 16,
   "metadata": {},
   "outputs": [],
   "source": [
    "full_comment_data = pd.read_csv('files/full_comment_data_with_features1111.csv')\n",
    "full_topics_data = pd.read_csv('files/full_topics_data1111.csv')"
   ]
  },
  {
   "cell_type": "code",
   "execution_count": 17,
   "metadata": {},
   "outputs": [],
   "source": [
    "def grabbingExamples(x, yval, ytest, number):\n",
    "    predicted_comment_row = full_comment_data[full_comment_data['WholeScore'] == x[number][1]]\n",
    "    predicted_comment_row = predicted_comment_row.reset_index(drop=True)\n",
    "    \n",
    "    if len(predicted_comment_row.index) != 1:\n",
    "        predicted_comment_row = predicted_comment_row[predicted_comment_row['WordScore'] == x[number][1]]\n",
    "        predicted_comment_row = predicted_comment_row.reset_index(drop=True)\n",
    "\n",
    "    predicted_topic_row = full_topics_data[full_topics_data['id'] == predicted_comment_row['submissionId'].iloc[0]]\n",
    "    predicted_comment = predicted_comment_row['content'].values[0]\n",
    "    predicted_article_text = predicted_topic_row['text'].values[0]\n",
    "    predicted_article_url = predicted_topic_row['url'].values[0]\n",
    "    predicted_article_reason_for_removal = predicted_comment_row['details'].values[0]\n",
    "    yval = yval[number]\n",
    "    ytest = ytest[number]\n",
    "    if yval != ytest:\n",
    "        print('Incorrect Prediction')\n",
    "        if yval == False:\n",
    "            print('Predicted bad comment, but was good comment')\n",
    "        else:\n",
    "            print('Predicted good comment, but was bad comment')\n",
    "    else:\n",
    "        print('Correct Prediction')\n",
    "        if yval == False:\n",
    "            print('Correctly predicted bad comment')\n",
    "        else:\n",
    "            print('Correctly predicted good comment')\n",
    "    print('\\nThe url that was predicted on: ')\n",
    "    print(predicted_article_url)\n",
    "    print('\\nThe comment that was predicted on: ')\n",
    "    print(predicted_comment)\n",
    "    print('\\nThe reason that the comment was removed: ')\n",
    "    print(predicted_article_reason_for_removal)\n",
    "    return predicted_article_text"
   ]
  },
  {
   "cell_type": "code",
   "execution_count": 18,
   "metadata": {},
   "outputs": [],
   "source": [
    "def grabbingExamplesForArray(x, yval, ytest, number):\n",
    "    predicted_comment_row = full_comment_data[(full_comment_data['WholeScore'] == x[number][1]) & (full_comment_data['WordScore'] == x[number][0])]\n",
    "    predicted_comment_row = predicted_comment_row.reset_index(drop=True)\n",
    "    \n",
    "    if len(predicted_comment_row.index) != 1:\n",
    "        return\n",
    "\n",
    "    predicted_topic_row = full_topics_data[full_topics_data['id'] == predicted_comment_row['submissionId'].iloc[0]]\n",
    "    predicted_comment = predicted_comment_row['content'].values[0]\n",
    "    predicted_article_text = predicted_topic_row['text'].values[0]\n",
    "    predicted_article_url = predicted_topic_row['url'].values[0]\n",
    "    predicted_article_reason_for_removal = predicted_comment_row['details'].values[0]\n",
    "    yval = yval[number]\n",
    "    ytest = ytest[number]\n",
    "    if yval != ytest:\n",
    "        if yval == False:\n",
    "            predicted_bad_but_is_good.append(number)\n",
    "        else:\n",
    "            predicted_good_but_is_bad.append(number)\n",
    "    else:\n",
    "        if yval == False:\n",
    "            correct_prediction_bad.append(number)\n",
    "        else:\n",
    "            correct_prediction_good.append(number)"
   ]
  },
  {
   "cell_type": "code",
   "execution_count": 19,
   "metadata": {},
   "outputs": [],
   "source": [
    "predicted_bad_but_is_good = []\n",
    "predicted_good_but_is_bad = []\n",
    "correct_prediction_good = []\n",
    "correct_prediction_bad = []\n",
    "\n",
    "for i in range(2386):\n",
    "    grabbingExamplesForArray(X_test, y_val, y_test, i)\n",
    "    "
   ]
  },
  {
   "cell_type": "code",
   "execution_count": 20,
   "metadata": {},
   "outputs": [],
   "source": [
    "import random\n",
    "def grabIncorrectlyBadComment():\n",
    "    integ = random.randint(1, len(predicted_bad_but_is_good))\n",
    "    number = predicted_bad_but_is_good[integ]\n",
    "    text = grabbingExamples(X_test, y_val, y_test, number)\n",
    "    print('\\nThe index of the comment is ' + str(number))\n",
    "    \n",
    "    \n",
    "def grabIncorrectlyGoodComment():\n",
    "    integ = random.randint(1, len(predicted_good_but_is_bad))\n",
    "    number = predicted_good_but_is_bad[integ]\n",
    "    text = grabbingExamples(X_test, y_val, y_test, number)\n",
    "    print('\\nThe index of the comment is ' + str(number))\n",
    "    \n",
    "def grabCorrectGoodComment():\n",
    "    integ = random.randint(1, len(correct_prediction_good))\n",
    "    number = correct_prediction_good[integ]\n",
    "    text = grabbingExamples(X_test, y_val, y_test, number)\n",
    "    print('\\nThe index of the comment is ' + str(number))\n",
    "    \n",
    "    \n",
    "def grabCorrectBadComment():\n",
    "    integ = random.randint(1, len(correct_prediction_bad))\n",
    "    number = correct_prediction_bad[integ]\n",
    "    text = grabbingExamples(X_test, y_val, y_test, number)\n",
    "    print('\\nThe index of the comment is ' + str(number))\n",
    "    "
   ]
  },
  {
   "cell_type": "code",
   "execution_count": 21,
   "metadata": {},
   "outputs": [
    {
     "name": "stdout",
     "output_type": "stream",
     "text": [
      "Incorrect Prediction\n",
      "Predicted bad comment, but was good comment\n",
      "\n",
      "The url that was predicted on: \n",
      "https://apnews.com/2fcfa5dda00956b44ffa6dd19564bc36\n",
      "\n",
      "The comment that was predicted on: \n",
      "**/r/NeutralNews is a curated space.** \n",
      "\n",
      "In order not to get your comment removed, please familiarize yourself with our [rules on commenting](https://www.reddit.com//r/neutralnews/wiki/guidelines#wiki_comments_.28good.2C_bad_.26amp.3B_ugly.29) before you participate:\n",
      "\n",
      "#Comment Rules\n",
      "\n",
      "We expect the following from all users:\n",
      "\n",
      "\n",
      "1. Be courteous to other users.\n",
      "\n",
      "1. Source your facts.\n",
      "\n",
      "1. Be substantive.\n",
      "\n",
      "1. Address the arguments, not the person.\n",
      "\n",
      "\n",
      "If you see a comment that violates any of these essential rules, click the associated *report* link so mods can attend to it.\n",
      "\n",
      "However, **please note that the mods will not remove comments or links reported for lack of neutrality**. There is [no neutrality requirement for comments or links](https://www.reddit.com//r/neutralnews/wiki/guidelines#wiki_neutral-ness) in this subreddit — it's only the *space* that's neutral — and a poor source should be countered with evidence from a better one. [Full Guidelines Here](https://www.reddit.com/r/neutralnews/wiki/guidelines)\n",
      "\n",
      "\n",
      "*I am a bot, and this action was performed automatically. Please [contact the moderators of this subreddit](/message/compose/?to=/r/neutralnews) if you have any questions or concerns.*\n",
      "\n",
      "The reason that the comment was removed: \n",
      "nan\n",
      "\n",
      "The index of the comment is 741\n"
     ]
    }
   ],
   "source": [
    "grabIncorrectlyBadComment()"
   ]
  },
  {
   "cell_type": "code",
   "execution_count": 22,
   "metadata": {},
   "outputs": [
    {
     "name": "stdout",
     "output_type": "stream",
     "text": [
      "Incorrect Prediction\n",
      "Predicted good comment, but was bad comment\n",
      "\n",
      "The url that was predicted on: \n",
      "https://www.businessinsider.com/fox-news-karen-mcdougal-case-tucker-carlson-2020-9?r=US&IR=T\n",
      "\n",
      "The comment that was predicted on: \n",
      "Her family lied about their actual heritage.  Playing up an indian heritage that was basically nill.  So her mom would be 5 to 9 generations out.  Her dna test and her own statement about blindly believing her family, support the fact that her family lied.\n",
      "\n",
      "The reason that the comment was removed: \n",
      "confirm_ham\n",
      "\n",
      "The index of the comment is 279\n"
     ]
    }
   ],
   "source": [
    "grabIncorrectlyGoodComment()"
   ]
  },
  {
   "cell_type": "code",
   "execution_count": 23,
   "metadata": {},
   "outputs": [
    {
     "name": "stdout",
     "output_type": "stream",
     "text": [
      "Correct Prediction\n",
      "Correctly predicted good comment\n",
      "\n",
      "The url that was predicted on: \n",
      "https://www.nytimes.com/2020/07/10/us/politics/trump-schools-reopening.html?searchResultPosition=1\n",
      "\n",
      "The comment that was predicted on: \n",
      "I’d like to weigh in on this as a student. It’s infuriating that I’m being made to choose between a proper education and my life. No matter what they choose I loose. Many of the classes that help me in the fields I have been working towards entering cannot be taught online, but it will not be safe with the current case levels and regulations in place if I do choose to go back to school. I feel that not enough has been done to keep me and other students safe.\n",
      "\n",
      "The reason that the comment was removed: \n",
      "nan\n",
      "\n",
      "The index of the comment is 1437\n"
     ]
    }
   ],
   "source": [
    "grabCorrectGoodComment()"
   ]
  },
  {
   "cell_type": "code",
   "execution_count": 24,
   "metadata": {},
   "outputs": [
    {
     "name": "stdout",
     "output_type": "stream",
     "text": [
      "Correct Prediction\n",
      "Correctly predicted bad comment\n",
      "\n",
      "The url that was predicted on: \n",
      "https://www.cnn.com/2020/09/09/politics/bob-woodward-rage-book-trump-coronavirus/index.html\n",
      "\n",
      "The comment that was predicted on: \n",
      "Lol what. How is this person in charge of anything?\n",
      "\n",
      "The reason that the comment was removed: \n",
      "remove\n",
      "\n",
      "The index of the comment is 464\n"
     ]
    }
   ],
   "source": [
    "grabCorrectBadComment()"
   ]
  },
  {
   "cell_type": "code",
   "execution_count": null,
   "metadata": {},
   "outputs": [],
   "source": []
  }
 ],
 "metadata": {
  "kernelspec": {
   "display_name": "Python 3",
   "language": "python",
   "name": "python3"
  },
  "language_info": {
   "codemirror_mode": {
    "name": "ipython",
    "version": 3
   },
   "file_extension": ".py",
   "mimetype": "text/x-python",
   "name": "python",
   "nbconvert_exporter": "python",
   "pygments_lexer": "ipython3",
   "version": "3.7.4"
  }
 },
 "nbformat": 4,
 "nbformat_minor": 2
}
