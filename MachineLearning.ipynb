{
 "cells": [
  {
   "cell_type": "markdown",
   "metadata": {},
   "source": [
    "## This notebook is meant to be run to test machine learning models, and look at examples of predictions. This code can be run without running any other notebooks and will run quickly and efficiently without needing to scrape any data."
   ]
  },
  {
   "cell_type": "code",
   "execution_count": 1,
   "metadata": {},
   "outputs": [
    {
     "name": "stdout",
     "output_type": "stream",
     "text": [
      "mattcat26\n"
     ]
    }
   ],
   "source": [
    "import pandas as pd\n",
    "import numpy as np\n",
    "import matplotlib.pyplot as plt\n",
    "import seaborn as sns\n",
    "\n",
    "from sklearn.metrics import mean_squared_error, r2_score, mean_absolute_error\n",
    "from sklearn.model_selection import train_test_split\n",
    "from sklearn.preprocessing import LabelBinarizer\n",
    "\n",
    "from sklearn.dummy import DummyRegressor\n",
    "from sklearn.linear_model import LinearRegression\n",
    "from sklearn.linear_model import LassoCV\n",
    "from sklearn.linear_model import RidgeCV\n",
    "from sklearn.linear_model import ElasticNetCV\n",
    "from sklearn.neighbors import KNeighborsRegressor\n",
    "from sklearn.tree import DecisionTreeRegressor\n",
    "from sklearn.ensemble import RandomForestRegressor\n",
    "from sklearn.ensemble import GradientBoostingRegressor\n",
    "import warnings\n",
    "warnings.filterwarnings('ignore')\n",
    "\n",
    "import os\n",
    "from dotenv import load_dotenv\n",
    "load_dotenv()\n",
    "\n",
    "CLIENT_ID = os.getenv('CLIENT_ID')\n",
    "CLIENT_SECRET=os.getenv('CLIENT_SECRET')\n",
    "APP_NAME=os.getenv('APP_NAME')\n",
    "REDDIT_USERNAME=os.getenv('REDDIT_USERNAME')\n",
    "REDDIT_PASSWORD=os.getenv('REDDIT_PASSWORD')\n",
    "\n",
    "import praw\n",
    "import pandas as pd\n",
    "import datetime as dt\n",
    "\n",
    "reddit = praw.Reddit(client_id=CLIENT_ID, client_secret=CLIENT_SECRET, user_agent=APP_NAME, username=REDDIT_USERNAME, password=REDDIT_PASSWORD)\n",
    "\n",
    "print(reddit.user.me())\n",
    "\n",
    "%matplotlib inline"
   ]
  },
  {
   "cell_type": "code",
   "execution_count": 2,
   "metadata": {},
   "outputs": [],
   "source": [
    "full_comment_data = pd.read_csv('full_comment_data_with_features1111.csv')"
   ]
  },
  {
   "cell_type": "code",
   "execution_count": 3,
   "metadata": {},
   "outputs": [],
   "source": [
    "full_comment_data = full_comment_data.replace({'action': {'removecomment': 0, 'approvecomment': 0, np.nan: 1}})"
   ]
  },
  {
   "cell_type": "code",
   "execution_count": 4,
   "metadata": {},
   "outputs": [],
   "source": [
    "full_comment_data['action'] = full_comment_data['action'].astype('bool')"
   ]
  },
  {
   "cell_type": "code",
   "execution_count": 5,
   "metadata": {},
   "outputs": [
    {
     "data": {
      "text/html": [
       "<div>\n",
       "<style scoped>\n",
       "    .dataframe tbody tr th:only-of-type {\n",
       "        vertical-align: middle;\n",
       "    }\n",
       "\n",
       "    .dataframe tbody tr th {\n",
       "        vertical-align: top;\n",
       "    }\n",
       "\n",
       "    .dataframe thead th {\n",
       "        text-align: right;\n",
       "    }\n",
       "</style>\n",
       "<table border=\"1\" class=\"dataframe\">\n",
       "  <thead>\n",
       "    <tr style=\"text-align: right;\">\n",
       "      <th></th>\n",
       "      <th>action</th>\n",
       "      <th>content</th>\n",
       "      <th>author</th>\n",
       "      <th>details</th>\n",
       "      <th>submissionId</th>\n",
       "      <th>commentId</th>\n",
       "      <th>WordScore</th>\n",
       "      <th>WholeScore</th>\n",
       "    </tr>\n",
       "  </thead>\n",
       "  <tbody>\n",
       "    <tr>\n",
       "      <td>0</td>\n",
       "      <td>True</td>\n",
       "      <td>So what are the implications here? Does it onl...</td>\n",
       "      <td>Cody_Fox23</td>\n",
       "      <td>NaN</td>\n",
       "      <td>4op948</td>\n",
       "      <td>d4eictg</td>\n",
       "      <td>0.000000</td>\n",
       "      <td>0.849655</td>\n",
       "    </tr>\n",
       "    <tr>\n",
       "      <td>1</td>\n",
       "      <td>True</td>\n",
       "      <td>Sadly this isn't new. Police officers use many...</td>\n",
       "      <td>DrFrenchman</td>\n",
       "      <td>NaN</td>\n",
       "      <td>4sef35</td>\n",
       "      <td>d58ts90</td>\n",
       "      <td>0.000000</td>\n",
       "      <td>0.900283</td>\n",
       "    </tr>\n",
       "    <tr>\n",
       "      <td>2</td>\n",
       "      <td>True</td>\n",
       "      <td>What's disturbing about this is that our gover...</td>\n",
       "      <td>bbakks</td>\n",
       "      <td>NaN</td>\n",
       "      <td>4sef35</td>\n",
       "      <td>d58y081</td>\n",
       "      <td>-0.038865</td>\n",
       "      <td>0.869078</td>\n",
       "    </tr>\n",
       "    <tr>\n",
       "      <td>3</td>\n",
       "      <td>True</td>\n",
       "      <td>What I find really concerning is the horrible ...</td>\n",
       "      <td>poliscijunki</td>\n",
       "      <td>NaN</td>\n",
       "      <td>4sef35</td>\n",
       "      <td>d5919n8</td>\n",
       "      <td>0.000000</td>\n",
       "      <td>0.898426</td>\n",
       "    </tr>\n",
       "    <tr>\n",
       "      <td>4</td>\n",
       "      <td>True</td>\n",
       "      <td>This subject might have legs but this article ...</td>\n",
       "      <td>interweb1</td>\n",
       "      <td>NaN</td>\n",
       "      <td>64zsim</td>\n",
       "      <td>dg6l969</td>\n",
       "      <td>0.000000</td>\n",
       "      <td>0.850127</td>\n",
       "    </tr>\n",
       "    <tr>\n",
       "      <td>...</td>\n",
       "      <td>...</td>\n",
       "      <td>...</td>\n",
       "      <td>...</td>\n",
       "      <td>...</td>\n",
       "      <td>...</td>\n",
       "      <td>...</td>\n",
       "      <td>...</td>\n",
       "      <td>...</td>\n",
       "    </tr>\n",
       "    <tr>\n",
       "      <td>7226</td>\n",
       "      <td>False</td>\n",
       "      <td>Oh I thought we were posting arbitrary facts t...</td>\n",
       "      <td>38e2216dc3dc2cb196cbf4bab0d83541</td>\n",
       "      <td>remove</td>\n",
       "      <td>j0ijwn</td>\n",
       "      <td>5f70e968dbe1ef0009d976e7</td>\n",
       "      <td>0.000000</td>\n",
       "      <td>0.838691</td>\n",
       "    </tr>\n",
       "    <tr>\n",
       "      <td>7227</td>\n",
       "      <td>False</td>\n",
       "      <td>No.  The senate is not wasting time to fill th...</td>\n",
       "      <td>c4f22a6532a4ca274c5027e4bc3d3d99</td>\n",
       "      <td>remove</td>\n",
       "      <td>j0ijwn</td>\n",
       "      <td>5f70e968dbe1ef0009d976e9</td>\n",
       "      <td>0.459704</td>\n",
       "      <td>0.840920</td>\n",
       "    </tr>\n",
       "    <tr>\n",
       "      <td>7228</td>\n",
       "      <td>False</td>\n",
       "      <td>My point was not addressed, regarding providin...</td>\n",
       "      <td>062512f6041e1c40256c31f31a1138fc</td>\n",
       "      <td>unspam</td>\n",
       "      <td>j04eqv</td>\n",
       "      <td>5f70ee18dbe1ef0009d97717</td>\n",
       "      <td>1.281814</td>\n",
       "      <td>0.863294</td>\n",
       "    </tr>\n",
       "    <tr>\n",
       "      <td>7229</td>\n",
       "      <td>False</td>\n",
       "      <td>Voting has begun in some states but the debate...</td>\n",
       "      <td>c696933b8cbd4b625077d6b577bac0fe</td>\n",
       "      <td>remove</td>\n",
       "      <td>j0ijwn</td>\n",
       "      <td>5f70f3f4dbe1ef0009d9775e</td>\n",
       "      <td>0.000000</td>\n",
       "      <td>0.820983</td>\n",
       "    </tr>\n",
       "    <tr>\n",
       "      <td>7230</td>\n",
       "      <td>False</td>\n",
       "      <td>Voting has begun in some states but the debate...</td>\n",
       "      <td>c696933b8cbd4b625077d6b577bac0fe</td>\n",
       "      <td>unspam</td>\n",
       "      <td>j0ijwn</td>\n",
       "      <td>5f70f3f4dbe1ef0009d97760</td>\n",
       "      <td>0.000000</td>\n",
       "      <td>0.830435</td>\n",
       "    </tr>\n",
       "  </tbody>\n",
       "</table>\n",
       "<p>7231 rows × 8 columns</p>\n",
       "</div>"
      ],
      "text/plain": [
       "      action                                            content  \\\n",
       "0       True  So what are the implications here? Does it onl...   \n",
       "1       True  Sadly this isn't new. Police officers use many...   \n",
       "2       True  What's disturbing about this is that our gover...   \n",
       "3       True  What I find really concerning is the horrible ...   \n",
       "4       True  This subject might have legs but this article ...   \n",
       "...      ...                                                ...   \n",
       "7226   False  Oh I thought we were posting arbitrary facts t...   \n",
       "7227   False  No.  The senate is not wasting time to fill th...   \n",
       "7228   False  My point was not addressed, regarding providin...   \n",
       "7229   False  Voting has begun in some states but the debate...   \n",
       "7230   False  Voting has begun in some states but the debate...   \n",
       "\n",
       "                                author details submissionId  \\\n",
       "0                           Cody_Fox23     NaN       4op948   \n",
       "1                          DrFrenchman     NaN       4sef35   \n",
       "2                               bbakks     NaN       4sef35   \n",
       "3                         poliscijunki     NaN       4sef35   \n",
       "4                            interweb1     NaN       64zsim   \n",
       "...                                ...     ...          ...   \n",
       "7226  38e2216dc3dc2cb196cbf4bab0d83541  remove       j0ijwn   \n",
       "7227  c4f22a6532a4ca274c5027e4bc3d3d99  remove       j0ijwn   \n",
       "7228  062512f6041e1c40256c31f31a1138fc  unspam       j04eqv   \n",
       "7229  c696933b8cbd4b625077d6b577bac0fe  remove       j0ijwn   \n",
       "7230  c696933b8cbd4b625077d6b577bac0fe  unspam       j0ijwn   \n",
       "\n",
       "                     commentId  WordScore  WholeScore  \n",
       "0                      d4eictg   0.000000    0.849655  \n",
       "1                      d58ts90   0.000000    0.900283  \n",
       "2                      d58y081  -0.038865    0.869078  \n",
       "3                      d5919n8   0.000000    0.898426  \n",
       "4                      dg6l969   0.000000    0.850127  \n",
       "...                        ...        ...         ...  \n",
       "7226  5f70e968dbe1ef0009d976e7   0.000000    0.838691  \n",
       "7227  5f70e968dbe1ef0009d976e9   0.459704    0.840920  \n",
       "7228  5f70ee18dbe1ef0009d97717   1.281814    0.863294  \n",
       "7229  5f70f3f4dbe1ef0009d9775e   0.000000    0.820983  \n",
       "7230  5f70f3f4dbe1ef0009d97760   0.000000    0.830435  \n",
       "\n",
       "[7231 rows x 8 columns]"
      ]
     },
     "execution_count": 5,
     "metadata": {},
     "output_type": "execute_result"
    }
   ],
   "source": [
    "full_comment_data"
   ]
  },
  {
   "cell_type": "code",
   "execution_count": 6,
   "metadata": {},
   "outputs": [],
   "source": [
    "X = full_comment_data[['WordScore', 'WholeScore']]\n",
    "X = X.to_numpy()\n",
    "y = full_comment_data['action']\n",
    "y = y.to_numpy()\n",
    "X_train, X_test, y_train, y_test = train_test_split(X, y, test_size = 0.33, random_state=20)"
   ]
  },
  {
   "cell_type": "code",
   "execution_count": 7,
   "metadata": {},
   "outputs": [],
   "source": [
    "from sklearn.neighbors import KNeighborsClassifier"
   ]
  },
  {
   "cell_type": "code",
   "execution_count": 8,
   "metadata": {},
   "outputs": [
    {
     "data": {
      "text/plain": [
       "KNeighborsClassifier(algorithm='auto', leaf_size=30, metric='minkowski',\n",
       "                     metric_params=None, n_jobs=None, n_neighbors=5, p=2,\n",
       "                     weights='uniform')"
      ]
     },
     "execution_count": 8,
     "metadata": {},
     "output_type": "execute_result"
    }
   ],
   "source": [
    "neigh = KNeighborsClassifier(n_neighbors = 5)\n",
    "neigh.fit(X_train, y_train)"
   ]
  },
  {
   "cell_type": "code",
   "execution_count": 9,
   "metadata": {},
   "outputs": [],
   "source": [
    "y_val = neigh.predict(X_test)"
   ]
  },
  {
   "cell_type": "code",
   "execution_count": 10,
   "metadata": {},
   "outputs": [
    {
     "data": {
      "text/plain": [
       "73.69082530372853"
      ]
     },
     "execution_count": 10,
     "metadata": {},
     "output_type": "execute_result"
    }
   ],
   "source": [
    "percent_arr = (y_test == y_val)\n",
    "count = np.count_nonzero(percent_arr)\n",
    "percentage = (count/(len(percent_arr)))*100\n",
    "percentage"
   ]
  },
  {
   "cell_type": "code",
   "execution_count": 11,
   "metadata": {},
   "outputs": [
    {
     "data": {
      "text/plain": [
       "array([1, 0, 0, ..., 0, 0, 0])"
      ]
     },
     "execution_count": 11,
     "metadata": {},
     "output_type": "execute_result"
    }
   ],
   "source": [
    "colors = {0: 'red', 1: 'green'}\n",
    "markers = {0: 'x', 1: '.'}\n",
    "\n",
    "y_train = np.array(y_train)\n",
    "y_train = y_train.astype(int)\n",
    "y_train"
   ]
  },
  {
   "cell_type": "code",
   "execution_count": 12,
   "metadata": {},
   "outputs": [],
   "source": [
    "def plotting(x, y, truth):\n",
    "    df = pd.DataFrame(x)\n",
    "    df = df.rename(columns={0: 'WordScore', 1: 'WholeScore'})\n",
    "    df['action'] = y\n",
    "    for i in range(2):\n",
    "        new_df = df[df['action'] == i]\n",
    "        plt.scatter(new_df['WordScore'], new_df['WholeScore'], c=colors[i], marker=markers[i], label=i)\n",
    "\n",
    "    plt.xlabel('WordScore')\n",
    "    plt.ylabel('WholeScore')\n",
    "    if truth:\n",
    "        plt.title('True Testing Labels')\n",
    "    else:\n",
    "        plt.title('Predicted Testing Labels')"
   ]
  },
  {
   "cell_type": "code",
   "execution_count": 13,
   "metadata": {},
   "outputs": [
    {
     "data": {
      "image/png": "[encoded data removed]",
      "text/plain": [
       "<Figure size 432x288 with 1 Axes>"
      ]
     },
     "metadata": {
      "needs_background": "light"
     },
     "output_type": "display_data"
    }
   ],
   "source": [
    "plotting(X_test, y_test, True)"
   ]
  },
  {
   "cell_type": "code",
   "execution_count": 14,
   "metadata": {},
   "outputs": [
    {
     "data": {
      "image/png": "[encoded data removed]",
      "text/plain": [
       "<Figure size 432x288 with 1 Axes>"
      ]
     },
     "metadata": {
      "needs_background": "light"
     },
     "output_type": "display_data"
    }
   ],
   "source": [
    "plotting(X_test, y_val, False)"
   ]
  },
  {
   "cell_type": "code",
   "execution_count": 15,
   "metadata": {},
   "outputs": [],
   "source": [
    "full_comment_data = pd.read_csv('full_comment_data_with_features1111.csv')\n",
    "full_topics_data = pd.read_csv('full_topics_data1111.csv')"
   ]
  },
  {
   "cell_type": "code",
   "execution_count": 16,
   "metadata": {},
   "outputs": [],
   "source": [
    "def grabbingExamples(x, yval, ytest, number):\n",
    "    predicted_comment_row = full_comment_data[full_comment_data['WholeScore'] == x[number][1]]\n",
    "    predicted_comment_row = predicted_comment_row.reset_index(drop=True)\n",
    "    \n",
    "    if len(predicted_comment_row.index) != 1:\n",
    "        predicted_comment_row = predicted_comment_row[predicted_comment_row['WordScore'] == x[number][1]]\n",
    "        predicted_comment_row = predicted_comment_row.reset_index(drop=True)\n",
    "\n",
    "    predicted_topic_row = full_topics_data[full_topics_data['id'] == predicted_comment_row['submissionId'].iloc[0]]\n",
    "    predicted_comment = predicted_comment_row['content'].values[0]\n",
    "    predicted_article_text = predicted_topic_row['text'].values[0]\n",
    "    predicted_article_url = predicted_topic_row['url'].values[0]\n",
    "    predicted_article_reason_for_removal = predicted_comment_row['details'].values[0]\n",
    "    yval = yval[number]\n",
    "    ytest = ytest[number]\n",
    "    if yval != ytest:\n",
    "        print('Incorrect Prediction')\n",
    "        if yval == False:\n",
    "            print('Predicted bad comment, but was good comment')\n",
    "        else:\n",
    "            print('Predicted good comment, but was bad comment')\n",
    "    else:\n",
    "        print('Correct Prediction')\n",
    "        if yval == False:\n",
    "            print('Correctly predicted bad comment')\n",
    "        else:\n",
    "            print('Correctly predicted good comment')\n",
    "    print('\\nThe url that was predicted on: ')\n",
    "    print(predicted_article_url)\n",
    "    print('\\nThe comment that was predicted on: ')\n",
    "    print(predicted_comment)\n",
    "    print('\\nThe reason that the comment was removed: ')\n",
    "    print(predicted_article_reason_for_removal)\n",
    "    return predicted_article_text"
   ]
  },
  {
   "cell_type": "code",
   "execution_count": 17,
   "metadata": {},
   "outputs": [],
   "source": [
    "def grabbingExamplesForArray(x, yval, ytest, number):\n",
    "    predicted_comment_row = full_comment_data[(full_comment_data['WholeScore'] == x[number][1]) & (full_comment_data['WordScore'] == x[number][0])]\n",
    "    predicted_comment_row = predicted_comment_row.reset_index(drop=True)\n",
    "    \n",
    "    if len(predicted_comment_row.index) != 1:\n",
    "        return\n",
    "\n",
    "    predicted_topic_row = full_topics_data[full_topics_data['id'] == predicted_comment_row['submissionId'].iloc[0]]\n",
    "    predicted_comment = predicted_comment_row['content'].values[0]\n",
    "    predicted_article_text = predicted_topic_row['text'].values[0]\n",
    "    predicted_article_url = predicted_topic_row['url'].values[0]\n",
    "    predicted_article_reason_for_removal = predicted_comment_row['details'].values[0]\n",
    "    yval = yval[number]\n",
    "    ytest = ytest[number]\n",
    "    if yval != ytest:\n",
    "        if yval == False:\n",
    "            predicted_bad_but_is_good.append(number)\n",
    "        else:\n",
    "            predicted_good_but_is_bad.append(number)\n",
    "    else:\n",
    "        if yval == False:\n",
    "            correct_prediction_bad.append(number)\n",
    "        else:\n",
    "            correct_prediction_good.append(number)"
   ]
  },
  {
   "cell_type": "code",
   "execution_count": 18,
   "metadata": {},
   "outputs": [],
   "source": [
    "predicted_bad_but_is_good = []\n",
    "predicted_good_but_is_bad = []\n",
    "correct_prediction_good = []\n",
    "correct_prediction_bad = []\n",
    "\n",
    "for i in range(2386):\n",
    "    grabbingExamplesForArray(X_test, y_val, y_test, i)\n",
    "    "
   ]
  },
  {
   "cell_type": "code",
   "execution_count": 19,
   "metadata": {},
   "outputs": [],
   "source": [
    "import random\n",
    "def grabIncorrectlyBadComment():\n",
    "    integ = random.randint(1, len(predicted_bad_but_is_good))\n",
    "    number = predicted_bad_but_is_good[integ]\n",
    "    text = grabbingExamples(X_test, y_val, y_test, number)\n",
    "    print('\\nThe index of the comment is ' + str(number))\n",
    "    \n",
    "    \n",
    "def grabIncorrectlyGoodComment():\n",
    "    integ = random.randint(1, len(predicted_good_but_is_bad))\n",
    "    number = predicted_good_but_is_bad[integ]\n",
    "    text = grabbingExamples(X_test, y_val, y_test, number)\n",
    "    print('\\nThe index of the comment is ' + str(number))\n",
    "    \n",
    "def grabCorrectGoodComment():\n",
    "    integ = random.randint(1, len(correct_prediction_good))\n",
    "    number = correct_prediction_good[integ]\n",
    "    text = grabbingExamples(X_test, y_val, y_test, number)\n",
    "    print('\\nThe index of the comment is ' + str(number))\n",
    "    \n",
    "    \n",
    "def grabCorrectBadComment():\n",
    "    integ = random.randint(1, len(correct_prediction_bad))\n",
    "    number = correct_prediction_bad[integ]\n",
    "    text = grabbingExamples(X_test, y_val, y_test, number)\n",
    "    print('\\nThe index of the comment is ' + str(number))\n",
    "    "
   ]
  },
  {
   "cell_type": "code",
   "execution_count": 20,
   "metadata": {},
   "outputs": [
    {
     "name": "stdout",
     "output_type": "stream",
     "text": [
      "Incorrect Prediction\n",
      "Predicted bad comment, but was good comment\n",
      "\n",
      "The url that was predicted on: \n",
      "https://www.bbc.com/news/world-us-canada-53597975\n",
      "\n",
      "The comment that was predicted on: \n",
      "Wouldn't his term still end on January 20th 2021, regardless?\n",
      "\n",
      "The reason that the comment was removed: \n",
      "nan\n",
      "\n",
      "The index of the comment is 104\n"
     ]
    }
   ],
   "source": [
    "grabIncorrectlyBadComment()"
   ]
  },
  {
   "cell_type": "code",
   "execution_count": 21,
   "metadata": {},
   "outputs": [
    {
     "name": "stdout",
     "output_type": "stream",
     "text": [
      "Incorrect Prediction\n",
      "Predicted good comment, but was bad comment\n",
      "\n",
      "The url that was predicted on: \n",
      "https://apnews.com/e7ef0a79c69a7898649b21be793579fc\n",
      "\n",
      "The comment that was predicted on: \n",
      "As I recall, they declared bankruptcy recently as well.\n",
      "\n",
      "[Boy Scouts files Chapter 11 bankruptcy in the face of thousands of child abuse allegations](https://www.usatoday.com/in-depth/news/investigations/2020/02/18/boy-scouts-bsa-chapter-11-bankruptcy-sexual-abuse-cases/1301187001/)\n",
      "\n",
      "The reason that the comment was removed: \n",
      "remove\n",
      "\n",
      "The index of the comment is 2122\n"
     ]
    }
   ],
   "source": [
    "grabIncorrectlyGoodComment()"
   ]
  },
  {
   "cell_type": "code",
   "execution_count": 22,
   "metadata": {},
   "outputs": [
    {
     "name": "stdout",
     "output_type": "stream",
     "text": [
      "Correct Prediction\n",
      "Correctly predicted good comment\n",
      "\n",
      "The url that was predicted on: \n",
      "https://thehill.com/regulation/court-battles/508839-judge-rules-media-outlets-have-to-turn-over-images-footage-of-may\n",
      "\n",
      "The comment that was predicted on: \n",
      "It seems to me that it's no different than using CCTV to identify perpetrators, whether it be protestors or law enforcement. Maybe I'm a bit idealistic but I still don't see the conflict.\n",
      "\n",
      "The reason that the comment was removed: \n",
      "nan\n",
      "\n",
      "The index of the comment is 220\n"
     ]
    }
   ],
   "source": [
    "grabCorrectGoodComment()"
   ]
  },
  {
   "cell_type": "code",
   "execution_count": 24,
   "metadata": {},
   "outputs": [
    {
     "name": "stdout",
     "output_type": "stream",
     "text": [
      "Correct Prediction\n",
      "Correctly predicted bad comment\n",
      "\n",
      "The url that was predicted on: \n",
      "https://www.theatlantic.com/politics/archive/2020/09/trump-americans-who-died-at-war-are-losers-and-suckers/615997/\n",
      "\n",
      "The comment that was predicted on: \n",
      "Definitely not neutral news\n",
      "\n",
      "The reason that the comment was removed: \n",
      "Memes\n",
      "\n",
      "The index of the comment is 899\n"
     ]
    }
   ],
   "source": [
    "grabCorrectBadComment()"
   ]
  },
  {
   "cell_type": "code",
   "execution_count": null,
   "metadata": {},
   "outputs": [],
   "source": []
  }
 ],
 "metadata": {
  "kernelspec": {
   "display_name": "Python 3",
   "language": "python",
   "name": "python3"
  },
  "language_info": {
   "codemirror_mode": {
    "name": "ipython",
    "version": 3
   },
   "file_extension": ".py",
   "mimetype": "text/x-python",
   "name": "python",
   "nbconvert_exporter": "python",
   "pygments_lexer": "ipython3",
   "version": "3.7.4"
  }
 },
 "nbformat": 4,
 "nbformat_minor": 2
}
