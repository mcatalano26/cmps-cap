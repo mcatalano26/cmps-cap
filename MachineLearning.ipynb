{
 "cells": [
  {
   "cell_type": "markdown",
   "metadata": {},
   "source": [
    "## This notebook is meant to be run to test machine learning models, and look at examples of predictions. This code can be run without running any other notebooks and will run quickly and efficiently without needing to scrape any data."
   ]
  },
  {
   "cell_type": "code",
   "execution_count": 2,
   "metadata": {},
   "outputs": [
    {
     "name": "stderr",
     "output_type": "stream",
     "text": [
      "Version 7.1.0 of praw is outdated. Version 7.2.0 was released Wednesday February 24, 2021.\n"
     ]
    },
    {
     "name": "stdout",
     "output_type": "stream",
     "text": [
      "mattcat26\n"
     ]
    }
   ],
   "source": [
    "import pandas as pd\n",
    "import numpy as np\n",
    "import matplotlib.pyplot as plt\n",
    "import seaborn as sns\n",
    "\n",
    "from sklearn.metrics import mean_squared_error, r2_score, mean_absolute_error\n",
    "from sklearn.model_selection import train_test_split\n",
    "from sklearn.preprocessing import LabelBinarizer\n",
    "\n",
    "from sklearn.dummy import DummyRegressor\n",
    "from sklearn.linear_model import LinearRegression\n",
    "from sklearn.linear_model import LassoCV\n",
    "from sklearn.linear_model import RidgeCV\n",
    "from sklearn.linear_model import ElasticNetCV\n",
    "from sklearn.neighbors import KNeighborsRegressor\n",
    "from sklearn.tree import DecisionTreeRegressor\n",
    "from sklearn.ensemble import RandomForestRegressor\n",
    "from sklearn.ensemble import GradientBoostingRegressor\n",
    "import warnings\n",
    "warnings.filterwarnings('ignore')\n",
    "\n",
    "import os\n",
    "from dotenv import load_dotenv\n",
    "load_dotenv()\n",
    "\n",
    "CLIENT_ID = os.getenv('CLIENT_ID')\n",
    "CLIENT_SECRET=os.getenv('CLIENT_SECRET')\n",
    "APP_NAME=os.getenv('APP_NAME')\n",
    "REDDIT_USERNAME=os.getenv('REDDIT_USERNAME')\n",
    "REDDIT_PASSWORD=os.getenv('REDDIT_PASSWORD')\n",
    "\n",
    "import praw\n",
    "import pandas as pd\n",
    "import datetime as dt\n",
    "\n",
    "reddit = praw.Reddit(client_id=CLIENT_ID, client_secret=CLIENT_SECRET, user_agent=APP_NAME, username=REDDIT_USERNAME, password=REDDIT_PASSWORD)\n",
    "\n",
    "print(reddit.user.me())\n",
    "\n",
    "%matplotlib inline"
   ]
  },
  {
   "cell_type": "code",
   "execution_count": 3,

   "metadata": {},
   "outputs": [
    {
     "data": {
      "text/html": [
       "<div>\n",
       "<style scoped>\n",
       "    .dataframe tbody tr th:only-of-type {\n",
       "        vertical-align: middle;\n",
       "    }\n",
       "\n",
       "    .dataframe tbody tr th {\n",
       "        vertical-align: top;\n",
       "    }\n",
       "\n",
       "    .dataframe thead th {\n",
       "        text-align: right;\n",
       "    }\n",
       "</style>\n",
       "<table border=\"1\" class=\"dataframe\">\n",
       "  <thead>\n",
       "    <tr style=\"text-align: right;\">\n",
       "      <th></th>\n",
       "      <th>action</th>\n",
       "      <th>content</th>\n",
       "      <th>author</th>\n",
       "      <th>details</th>\n",
       "      <th>submissionId</th>\n",
       "      <th>commentId</th>\n",
       "      <th>WordScore</th>\n",
       "      <th>WholeScore</th>\n",
       "      <th>tfidf</th>\n",
       "      <th>contains_url</th>\n",
       "      <th>...</th>\n",
       "      <th>adjWordScore</th>\n",
       "      <th>profanity</th>\n",
       "      <th>contains_!</th>\n",
       "      <th>no_url_WordScore</th>\n",
       "      <th>no_url_WholeScore</th>\n",
       "      <th>WordScoreNoStop</th>\n",
       "      <th>WholeScoreNoStop</th>\n",
       "      <th>no_url_or_stops_WholeScore</th>\n",
       "      <th>no_url_or_stops_WordScore</th>\n",
       "      <th>no_url_or_stops_content</th>\n",
       "    </tr>\n",
       "  </thead>\n",
       "  <tbody>\n",
       "    <tr>\n",
       "      <td>0</td>\n",
       "      <td>True</td>\n",
       "      <td>So what are the implications here? Does it onl...</td>\n",
       "      <td>Cody_Fox23</td>\n",
       "      <td>NaN</td>\n",
       "      <td>4op948</td>\n",
       "      <td>d4eictg</td>\n",
       "      <td>0.000000</td>\n",
       "      <td>0.849655</td>\n",
       "      <td>0.001573</td>\n",
       "      <td>False</td>\n",
       "      <td>...</td>\n",
       "      <td>0.000000</td>\n",
       "      <td>False</td>\n",
       "      <td>False</td>\n",
       "      <td>0.000000</td>\n",
       "      <td>0.816813</td>\n",
       "      <td>0.000000</td>\n",
       "      <td>0.773069</td>\n",
       "      <td>0.736582</td>\n",
       "      <td>0.000000</td>\n",
       "      <td>So implications here? Does affect involved Vis...</td>\n",
       "    </tr>\n",
       "    <tr>\n",
       "      <td>1</td>\n",
       "      <td>True</td>\n",
       "      <td>Sadly this isn't new. Police officers use many...</td>\n",
       "      <td>DrFrenchman</td>\n",
       "      <td>NaN</td>\n",
       "      <td>4sef35</td>\n",
       "      <td>d58ts90</td>\n",
       "      <td>0.000000</td>\n",
       "      <td>0.900283</td>\n",
       "      <td>0.255802</td>\n",
       "      <td>False</td>\n",
       "      <td>...</td>\n",
       "      <td>0.000000</td>\n",
       "      <td>False</td>\n",
       "      <td>True</td>\n",
       "      <td>0.000000</td>\n",
       "      <td>0.884829</td>\n",
       "      <td>0.000000</td>\n",
       "      <td>0.857654</td>\n",
       "      <td>0.844658</td>\n",
       "      <td>0.000000</td>\n",
       "      <td>Sadly isn't new. Police officers use faulty te...</td>\n",
       "    </tr>\n",
       "    <tr>\n",
       "      <td>2</td>\n",
       "      <td>True</td>\n",
       "      <td>What's disturbing about this is that our gover...</td>\n",
       "      <td>bbakks</td>\n",
       "      <td>NaN</td>\n",
       "      <td>4sef35</td>\n",
       "      <td>d58y081</td>\n",
       "      <td>-0.038865</td>\n",
       "      <td>0.869078</td>\n",
       "      <td>0.000000</td>\n",
       "      <td>False</td>\n",
       "      <td>...</td>\n",
       "      <td>-0.038865</td>\n",
       "      <td>False</td>\n",
       "      <td>False</td>\n",
       "      <td>-0.038865</td>\n",
       "      <td>0.866455</td>\n",
       "      <td>-0.038865</td>\n",
       "      <td>0.833865</td>\n",
       "      <td>0.785302</td>\n",
       "      <td>-0.038865</td>\n",
       "      <td>What's disturbing government destroying lives ...</td>\n",
       "    </tr>\n",
       "    <tr>\n",
       "      <td>3</td>\n",
       "      <td>True</td>\n",
       "      <td>What I find really concerning is the horrible ...</td>\n",
       "      <td>poliscijunki</td>\n",
       "      <td>NaN</td>\n",
       "      <td>4sef35</td>\n",
       "      <td>d5919n8</td>\n",
       "      <td>0.000000</td>\n",
       "      <td>0.898426</td>\n",
       "      <td>0.000000</td>\n",
       "      <td>True</td>\n",
       "      <td>...</td>\n",
       "      <td>-0.015000</td>\n",
       "      <td>False</td>\n",
       "      <td>False</td>\n",
       "      <td>0.000000</td>\n",
       "      <td>0.884435</td>\n",
       "      <td>0.000000</td>\n",
       "      <td>0.865826</td>\n",
       "      <td>0.852412</td>\n",
       "      <td>0.000000</td>\n",
       "      <td>What I find concerning horrible response law e...</td>\n",
       "    </tr>\n",
       "    <tr>\n",
       "      <td>4</td>\n",
       "      <td>True</td>\n",
       "      <td>This subject might have legs but this article ...</td>\n",
       "      <td>interweb1</td>\n",
       "      <td>NaN</td>\n",
       "      <td>64zsim</td>\n",
       "      <td>dg6l969</td>\n",
       "      <td>0.000000</td>\n",
       "      <td>0.850127</td>\n",
       "      <td>0.000000</td>\n",
       "      <td>False</td>\n",
       "      <td>...</td>\n",
       "      <td>0.000000</td>\n",
       "      <td>False</td>\n",
       "      <td>False</td>\n",
       "      <td>0.000000</td>\n",
       "      <td>0.835723</td>\n",
       "      <td>0.000000</td>\n",
       "      <td>0.826162</td>\n",
       "      <td>0.804306</td>\n",
       "      <td>0.000000</td>\n",
       "      <td>This subject legs article opinion piece editor...</td>\n",
       "    </tr>\n",
       "    <tr>\n",
       "      <td>...</td>\n",
       "      <td>...</td>\n",
       "      <td>...</td>\n",
       "      <td>...</td>\n",
       "      <td>...</td>\n",
       "      <td>...</td>\n",
       "      <td>...</td>\n",
       "      <td>...</td>\n",
       "      <td>...</td>\n",
       "      <td>...</td>\n",
       "      <td>...</td>\n",
       "      <td>...</td>\n",
       "      <td>...</td>\n",
       "      <td>...</td>\n",
       "      <td>...</td>\n",
       "      <td>...</td>\n",
       "      <td>...</td>\n",
       "      <td>...</td>\n",
       "      <td>...</td>\n",
       "      <td>...</td>\n",
       "      <td>...</td>\n",
       "      <td>...</td>\n",
       "    </tr>\n",
       "    <tr>\n",
       "      <td>10231</td>\n",
       "      <td>True</td>\n",
       "      <td>Yes, while in East Baghdad my platoons mission...</td>\n",
       "      <td>CapitalCockroach</td>\n",
       "      <td>NaN</td>\n",
       "      <td>bav0rl</td>\n",
       "      <td>ekggrgk</td>\n",
       "      <td>1.070477</td>\n",
       "      <td>0.840028</td>\n",
       "      <td>0.000000</td>\n",
       "      <td>True</td>\n",
       "      <td>...</td>\n",
       "      <td>1.020477</td>\n",
       "      <td>False</td>\n",
       "      <td>False</td>\n",
       "      <td>1.070477</td>\n",
       "      <td>0.831097</td>\n",
       "      <td>1.000532</td>\n",
       "      <td>0.827872</td>\n",
       "      <td>0.788655</td>\n",
       "      <td>1.000532</td>\n",
       "      <td>Yes, East Baghdad platoons mission check build...</td>\n",
       "    </tr>\n",
       "    <tr>\n",
       "      <td>10232</td>\n",
       "      <td>True</td>\n",
       "      <td>The [definition the FBI currently uses for int...</td>\n",
       "      <td>CQME</td>\n",
       "      <td>NaN</td>\n",
       "      <td>bav0rl</td>\n",
       "      <td>ekyelps</td>\n",
       "      <td>0.941533</td>\n",
       "      <td>0.882768</td>\n",
       "      <td>0.217543</td>\n",
       "      <td>True</td>\n",
       "      <td>...</td>\n",
       "      <td>0.885283</td>\n",
       "      <td>False</td>\n",
       "      <td>False</td>\n",
       "      <td>0.884132</td>\n",
       "      <td>0.870870</td>\n",
       "      <td>0.606157</td>\n",
       "      <td>0.852373</td>\n",
       "      <td>0.843292</td>\n",
       "      <td>0.600762</td>\n",
       "      <td>The [definition FBI currently uses internation...</td>\n",
       "    </tr>\n",
       "    <tr>\n",
       "      <td>10233</td>\n",
       "      <td>True</td>\n",
       "      <td>[Yes.](https://en.m.wikipedia.org/wiki/Islamic...</td>\n",
       "      <td>Silent_As_The_Grave_</td>\n",
       "      <td>NaN</td>\n",
       "      <td>bav0rl</td>\n",
       "      <td>ekehcqg</td>\n",
       "      <td>0.217683</td>\n",
       "      <td>0.779386</td>\n",
       "      <td>0.000000</td>\n",
       "      <td>True</td>\n",
       "      <td>...</td>\n",
       "      <td>0.161433</td>\n",
       "      <td>True</td>\n",
       "      <td>False</td>\n",
       "      <td>0.217683</td>\n",
       "      <td>0.833056</td>\n",
       "      <td>0.369440</td>\n",
       "      <td>0.782545</td>\n",
       "      <td>0.800717</td>\n",
       "      <td>0.369440</td>\n",
       "      <td>[Yes.] Have look allies with. Hezbollah fucks ...</td>\n",
       "    </tr>\n",
       "    <tr>\n",
       "      <td>10234</td>\n",
       "      <td>True</td>\n",
       "      <td>Has ANY Shia ever committed an act of terroris...</td>\n",
       "      <td>bsmdphdjd</td>\n",
       "      <td>NaN</td>\n",
       "      <td>bav0rl</td>\n",
       "      <td>ekfp4ls</td>\n",
       "      <td>1.293729</td>\n",
       "      <td>0.861529</td>\n",
       "      <td>0.000000</td>\n",
       "      <td>False</td>\n",
       "      <td>...</td>\n",
       "      <td>1.143729</td>\n",
       "      <td>False</td>\n",
       "      <td>False</td>\n",
       "      <td>1.293729</td>\n",
       "      <td>0.847163</td>\n",
       "      <td>1.788263</td>\n",
       "      <td>0.834425</td>\n",
       "      <td>0.792615</td>\n",
       "      <td>1.788263</td>\n",
       "      <td>Has ANY Shia committed act terrorism U.S.?\\n\\n...</td>\n",
       "    </tr>\n",
       "    <tr>\n",
       "      <td>10235</td>\n",
       "      <td>True</td>\n",
       "      <td>It would not be constitutional in my opinion. ...</td>\n",
       "      <td>redblazingdragon</td>\n",
       "      <td>NaN</td>\n",
       "      <td>b9xtig</td>\n",
       "      <td>ekkvx0k</td>\n",
       "      <td>1.187300</td>\n",
       "      <td>0.919541</td>\n",
       "      <td>0.445606</td>\n",
       "      <td>True</td>\n",
       "      <td>...</td>\n",
       "      <td>0.987300</td>\n",
       "      <td>False</td>\n",
       "      <td>False</td>\n",
       "      <td>1.187300</td>\n",
       "      <td>0.907266</td>\n",
       "      <td>0.000000</td>\n",
       "      <td>0.860812</td>\n",
       "      <td>0.856364</td>\n",
       "      <td>0.000000</td>\n",
       "      <td>It constitutional opinion.  Beginning 1875, Su...</td>\n",
       "    </tr>\n",
       "  </tbody>\n",
       "</table>\n",
       "<p>10236 rows × 26 columns</p>\n",
       "</div>"
      ],
      "text/plain": [
       "       action                                            content  \\\n",
       "0        True  So what are the implications here? Does it onl...   \n",
       "1        True  Sadly this isn't new. Police officers use many...   \n",
       "2        True  What's disturbing about this is that our gover...   \n",
       "3        True  What I find really concerning is the horrible ...   \n",
       "4        True  This subject might have legs but this article ...   \n",
       "...       ...                                                ...   \n",
       "10231    True  Yes, while in East Baghdad my platoons mission...   \n",
       "10232    True  The [definition the FBI currently uses for int...   \n",
       "10233    True  [Yes.](https://en.m.wikipedia.org/wiki/Islamic...   \n",
       "10234    True  Has ANY Shia ever committed an act of terroris...   \n",
       "10235    True  It would not be constitutional in my opinion. ...   \n",
       "\n",
       "                     author details submissionId commentId  WordScore  \\\n",
       "0                Cody_Fox23     NaN       4op948   d4eictg   0.000000   \n",
       "1               DrFrenchman     NaN       4sef35   d58ts90   0.000000   \n",
       "2                    bbakks     NaN       4sef35   d58y081  -0.038865   \n",
       "3              poliscijunki     NaN       4sef35   d5919n8   0.000000   \n",
       "4                 interweb1     NaN       64zsim   dg6l969   0.000000   \n",
       "...                     ...     ...          ...       ...        ...   \n",
       "10231      CapitalCockroach     NaN       bav0rl   ekggrgk   1.070477   \n",
       "10232                  CQME     NaN       bav0rl   ekyelps   0.941533   \n",
       "10233  Silent_As_The_Grave_     NaN       bav0rl   ekehcqg   0.217683   \n",
       "10234             bsmdphdjd     NaN       bav0rl   ekfp4ls   1.293729   \n",
       "10235      redblazingdragon     NaN       b9xtig   ekkvx0k   1.187300   \n",
       "\n",
       "       WholeScore     tfidf  contains_url  ... adjWordScore  profanity  \\\n",
       "0        0.849655  0.001573         False  ...     0.000000      False   \n",
       "1        0.900283  0.255802         False  ...     0.000000      False   \n",
       "2        0.869078  0.000000         False  ...    -0.038865      False   \n",
       "3        0.898426  0.000000          True  ...    -0.015000      False   \n",
       "4        0.850127  0.000000         False  ...     0.000000      False   \n",
       "...           ...       ...           ...  ...          ...        ...   \n",
       "10231    0.840028  0.000000          True  ...     1.020477      False   \n",
       "10232    0.882768  0.217543          True  ...     0.885283      False   \n",
       "10233    0.779386  0.000000          True  ...     0.161433       True   \n",
       "10234    0.861529  0.000000         False  ...     1.143729      False   \n",
       "10235    0.919541  0.445606          True  ...     0.987300      False   \n",
       "\n",
       "       contains_!  no_url_WordScore  no_url_WholeScore  WordScoreNoStop  \\\n",
       "0           False          0.000000           0.816813         0.000000   \n",
       "1            True          0.000000           0.884829         0.000000   \n",
       "2           False         -0.038865           0.866455        -0.038865   \n",
       "3           False          0.000000           0.884435         0.000000   \n",
       "4           False          0.000000           0.835723         0.000000   \n",
       "...           ...               ...                ...              ...   \n",
       "10231       False          1.070477           0.831097         1.000532   \n",
       "10232       False          0.884132           0.870870         0.606157   \n",
       "10233       False          0.217683           0.833056         0.369440   \n",
       "10234       False          1.293729           0.847163         1.788263   \n",
       "10235       False          1.187300           0.907266         0.000000   \n",
       "\n",
       "       WholeScoreNoStop  no_url_or_stops_WholeScore  \\\n",
       "0              0.773069                    0.736582   \n",
       "1              0.857654                    0.844658   \n",
       "2              0.833865                    0.785302   \n",
       "3              0.865826                    0.852412   \n",
       "4              0.826162                    0.804306   \n",
       "...                 ...                         ...   \n",
       "10231          0.827872                    0.788655   \n",
       "10232          0.852373                    0.843292   \n",
       "10233          0.782545                    0.800717   \n",
       "10234          0.834425                    0.792615   \n",
       "10235          0.860812                    0.856364   \n",
       "\n",
       "       no_url_or_stops_WordScore  \\\n",
       "0                       0.000000   \n",
       "1                       0.000000   \n",
       "2                      -0.038865   \n",
       "3                       0.000000   \n",
       "4                       0.000000   \n",
       "...                          ...   \n",
       "10231                   1.000532   \n",
       "10232                   0.600762   \n",
       "10233                   0.369440   \n",
       "10234                   1.788263   \n",
       "10235                   0.000000   \n",
       "\n",
       "                                 no_url_or_stops_content  \n",
       "0      So implications here? Does affect involved Vis...  \n",
       "1      Sadly isn't new. Police officers use faulty te...  \n",
       "2      What's disturbing government destroying lives ...  \n",
       "3      What I find concerning horrible response law e...  \n",
       "4      This subject legs article opinion piece editor...  \n",
       "...                                                  ...  \n",
       "10231  Yes, East Baghdad platoons mission check build...  \n",
       "10232  The [definition FBI currently uses internation...  \n",
       "10233  [Yes.] Have look allies with. Hezbollah fucks ...  \n",
       "10234  Has ANY Shia committed act terrorism U.S.?\\n\\n...  \n",
       "10235  It constitutional opinion.  Beginning 1875, Su...  \n",
       "\n",
       "[10236 rows x 26 columns]"
      ]
     },
     "execution_count": 3,
     "metadata": {},
     "output_type": "execute_result"
    }
   ],
   "source": [
    "comments_df = pd.read_csv('files/compiled_comments_2_25_2021.csv')\n",
    "comments_df"
   ]
  },
  {
   "cell_type": "code"
   "execution_count": 4,
   "metadata": {},
   "outputs": [],
   "source": [
    "# comments_df = comments_df.replace({'action': {'removecomment': 0, 'approvecomment': 0, np.nan: 1}})"
   ]
  },
  {
   "cell_type": "code",
   "execution_count": 5,
   "metadata": {},
   "outputs": [],
   "source": [
    "# comments_df['action'] = comments_df['action'].astype('bool')"
   ]
  },
  {
   "cell_type": "code",
   "execution_count": 6,
   "metadata": {},
   "outputs": [],
   "source": [
    "# comments_df"
   ]
  },
  {
   "cell_type": "markdown",
   "metadata": {},
   "source": [
    "Currently, 51% of the comments are good and 49% are bad...this is a pretty good ratio"
   ]
  },
  {
   "cell_type": "code",
   "execution_count": 7,
   "metadata": {},
   "outputs": [],
   "source": [
    "# comments_df.to_csv('files/compiled_comments_2_25_2021.csv', index=False)"
   ]
  },
  {
   "cell_type": "code",
   "execution_count": 8,
   "metadata": {},
   "outputs": [],
   "source": [
    "import random\n",
    "from sklearn.neighbors import KNeighborsClassifier\n",
    "from sklearn.linear_model import RidgeClassifier\n",
    "from sklearn.linear_model import *"
   ]
  },
  {
   "cell_type": "code",
   "execution_count": 9,
   "metadata": {},
   "outputs": [],
   "source": [
    "X = comments_df[['WordScore', 'WholeScore']]\n",
    "X = X.to_numpy()\n",
    "y = comments_df['action']\n",
    "y = y.to_numpy()\n",
    "X_train, X_test, y_train, y_test = train_test_split(X, y, test_size = 0.33, random_state=random.randint(0, 1000))"
   ]
  },
  {
   "cell_type": "code",
   "execution_count": 10,
   "metadata": {},
   "outputs": [
    {
     "data": {
      "text/plain": [
       "KNeighborsClassifier(algorithm='auto', leaf_size=30, metric='minkowski',\n",
       "                     metric_params=None, n_jobs=None, n_neighbors=5, p=2,\n",
       "                     weights='uniform')"
      ]
     },
     "execution_count": 10,
     "metadata": {},
     "output_type": "execute_result"
    }
   ],
   "source": [
    "neigh = KNeighborsClassifier(n_neighbors = 5)\n",
    "neigh.fit(X_train, y_train)"
   ]
  },
  {
   "cell_type": "code",
   "execution_count": 11,
   "metadata": {},
   "outputs": [],
   "source": [
    "y_val = neigh.predict(X_test)"
   ]
  },
  {
   "cell_type": "code",
   "execution_count": 12,
   "metadata": {},
   "outputs": [
    {
     "data": {
      "text/plain": [
       "61.04203670811131"
      ]
     },
     "execution_count": 12,
     "metadata": {},
     "output_type": "execute_result"
    }
   ],
   "source": [
    "percent_arr = (y_test == y_val)\n",
    "count = np.count_nonzero(percent_arr)\n",
    "percentage = (count/(len(percent_arr)))*100\n",
    "percentage"
   ]
  },
  {
   "cell_type": "code",
   "execution_count": 13,
   "metadata": {},
   "outputs": [
    {
     "data": {
      "text/plain": [
       "array([1, 1, 0, ..., 0, 1, 0])"
      ]
     },
     "execution_count": 13,
     "metadata": {},
     "output_type": "execute_result"
    }
   ],
   "source": [
    "colors = {0: 'red', 1: 'green'}\n",
    "markers = {0: 'x', 1: '.'}\n",
    "\n",
    "y_train = np.array(y_train)\n",
    "y_train = y_train.astype(int)\n",
    "y_train"
   ]
  },
  {
   "cell_type": "code",
   "execution_count": 14,
   "metadata": {},
   "outputs": [],
   "source": [
    "def plotting(x, y, truth):\n",
    "    df = pd.DataFrame(x)\n",
    "    df = df.rename(columns={0: 'WordScore', 1: 'WholeScore'})\n",
    "    df['action'] = y\n",
    "    for i in range(2):\n",
    "        new_df = df[df['action'] == i]\n",
    "        plt.scatter(new_df['WordScore'], new_df['WholeScore'], c=colors[i], marker=markers[i], label=i)\n",
    "\n",
    "    plt.xlabel('WordScore')\n",
    "    plt.ylabel('WholeScore')\n",
    "    if truth:\n",
    "        plt.title('True Testing Labels')\n",
    "    else:\n",
    "        plt.title('Predicted Testing Labels')"
   ]
  },
  {
   "cell_type": "code",
   "execution_count": 15,
   "metadata": {},
   "outputs": [
    {
     "data": {
      "image/png": "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\n",
      "text/plain": [
       "<Figure size 432x288 with 1 Axes>"
      ]
     },
     "metadata": {
      "needs_background": "light"
     },
     "output_type": "display_data"
    }
   ],
   "source": [
    "plotting(X_test, y_test, True)"
   ]
  },
  {
   "cell_type": "code",
   "execution_count": 16,
   "metadata": {},
   "outputs": [
    {
     "data": {
      "image/png": "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\n",
      "text/plain": [
       "<Figure size 432x288 with 1 Axes>"
      ]
     },
     "metadata": {
      "needs_background": "light"
     },
     "output_type": "display_data"
    }
   ],
   "source": [
    "plotting(X_test, y_val, False)"
   ]
  },
  {
   "cell_type": "markdown",
   "metadata": {},
   "source": [
    "The first version of our model was able to predict correctly around 62% of the time. Going to make a function now to test different features, with different parameters. Multiple functions will be created for different machine learning models. Might be nice to send to an excel spreadsheet or something every time the function is run. That way we can keep track of a lot of data. Just realized we can't use upvote ratios or scores as a feature since we do not have access to the scores of the removed\n",
    "comments"
   ]
  },
  {
   "cell_type": "code",
   "execution_count": 17,
   "metadata": {},
   "outputs": [],
   "source": [
    "comments_df = pd.read_csv('files/compiled_comments_2_25_2021.csv')"
   ]
  },
  {
   "cell_type": "code",
   "execution_count": 18,
   "metadata": {},
   "outputs": [],
   "source": [
    "def set_up_train_test_split(df, feature_list, target_name, test_size):\n",
    "    X = df[feature_list]\n",
    "    X = X.to_numpy()\n",
    "    y = df[target_name]\n",
    "    y = y.to_numpy()\n",
    "    rand_state = random.randint(0, 1000)\n",
    "    X_train, X_test, y_train, y_test = train_test_split(X, y, test_size = test_size, random_state=rand_state)\n",
    "    return X_train, X_test, y_train, y_test\n",
    "\n",
    "def determine_accuracy(y_test, y_val):\n",
    "    percent_arr = (y_test == y_val)\n",
    "    count = np.count_nonzero(percent_arr)\n",
    "    percentage = (count/(len(percent_arr)))*100\n",
    "    return percentage"
   ]
  },
  {
   "cell_type": "code",
   "execution_count": 19,
   "metadata": {},
   "outputs": [
    {
     "data": {
      "text/plain": [
       "73.23860272350502"
      ]
     },
     "execution_count": 19,
     "metadata": {},
     "output_type": "execute_result"
    }
   ],
   "source": [
    "#Input dataframe, features, target value, test size, and number of neighbors and get accuracy of k nearest neighbors\n",
    "def K_nearest_neighbors_func(df, feature_list, target_name, test_size, number_neighbors):\n",
    "    #set up training and testing split\n",
    "    X_train, X_test, y_train, y_test = set_up_train_test_split(df, feature_list, target_name, test_size)\n",
    "    \n",
    "    #fit nearest neighbors model\n",
    "    neigh = KNeighborsClassifier(n_neighbors = 5)\n",
    "    neigh.fit(X_train, y_train)\n",
    "    \n",
    "    #predict with the model\n",
    "    y_val = neigh.predict(X_test)\n",
    "    \n",
    "    #report the correct percentage of predictions\n",
    "    percentage = determine_accuracy(y_test, y_val)\n",
    "    \n",
    "    #Send data to csv to keep track of data\n",
    "    data = [[feature_list, test_size, number_neighbors, percentage]]\n",
    "    return_df = pd.DataFrame(data, columns = ['features', 'test size', 'number of neighbors', 'percent correct'])\n",
    "    return_df.to_csv('files/ML_Results/KNN_Results.csv', mode='a', header=False, index=False)\n",
    "    \n",
    "    return percentage\n",
    "\n",
    "features = ['WordScore', 'WholeScore', 'tfidf', 'contains_url', 'adjWordScore', 'profanity', 'contains_!', 'no_url_WordScore', 'no_url_WholeScore', 'WordScoreNoStop', 'WholeScoreNoStop']\n",
    "K_nearest_neighbors_func(comments_df, features, 'action', 0.33, 5)"
   ]
  },
  {
   "cell_type": "code",
   "execution_count": 20,
   "metadata": {},
   "outputs": [
    {
     "data": {
      "text/plain": [
       "75.8436944937833"
      ]
     },
     "execution_count": 20,
     "metadata": {},
     "output_type": "execute_result"
    }
   ],
   "source": [
    "def ridge_class_func(df, feature_list, target_name, test_size):\n",
    "    #set up training and testing split\n",
    "    X_train, X_test, y_train, y_test = set_up_train_test_split(df, feature_list, target_name, test_size)\n",
    "    \n",
    "    #fit ridge classifier to x and y training set\n",
    "    clf = RidgeClassifier().fit(X_train, y_train)\n",
    "    \n",
    "    #Predict with ridge classifier on x and y testing set\n",
    "    y_val = clf.predict(X_test)\n",
    "    \n",
    "    #report the correct percentage of predictions\n",
    "    percentage = determine_accuracy(y_test, y_val)\n",
    "    \n",
    "    #Send data to csv to keep track of data\n",
    "    data = [[feature_list, test_size, percentage]]\n",
    "    return_df = pd.DataFrame(data, columns = ['features', 'test size', 'percent correct'])\n",
    "    return_df.to_csv('files/ML_Results/RidgeClassifier_Results.csv', mode = 'a', header = False, index=False)\n",
    "    \n",
    "    return percentage\n",
    "\n",
    "features = ['WordScore', 'WholeScore', 'tfidf', 'contains_url', 'adjWordScore', 'profanity', 'contains_!', 'no_url_WordScore', 'no_url_WholeScore', 'WordScoreNoStop', 'WholeScoreNoStop']\n",
    "ridge_class_func(comments_df, features, 'action', 0.33)"
   ]
  },
  {
   "cell_type": "code",
   "execution_count": 21,
   "metadata": {},
   "outputs": [
    {
     "name": "stdout",
     "output_type": "stream",
     "text": [
      "Feature: tfidf, Score: 0.19138018181985048\n",
      "Feature: WordScore, Score: -0.20020806071953554\n",
      "Feature: WholeScore, Score: -3.712597774773943\n",
      "Feature: contains_url, Score: 0.25727766740561364\n",
      "Feature: adjWordScore, Score: 0.12633074132015246\n",
      "Feature: profanity, Score: -0.1441760787250719\n",
      "Feature: contains_!, Score: 0.016783294172091807\n",
      "Feature: no_url_WordScore, Score: 0.16121304753228097\n",
      "Feature: no_url_WholeScore, Score: 4.681362152783852\n",
      "Feature: WordScoreNoStop, Score: -0.05322747861770129\n",
      "Feature: WholeScoreNoStop, Score: 0.5888862313563042\n",
      "Feature: no_url_or_stops_WholeScore, Score: -0.10562527680747305\n",
      "Feature: no_url_or_stops_WordScore, Score: 0.06358461837050297\n",
      "Percentage correct = 75.8436944937833\n"
     ]
    },
    {
     "data": {
      "text/plain": [
       "Index(['action', 'content', 'author', 'details', 'submissionId', 'commentId',\n",
       "       'WordScore', 'WholeScore', 'tfidf', 'contains_url', 'text_without_url',\n",
       "       'article_score', 'comment_score', 'all_comments_scores',\n",
       "       'comment_article_score_ratio', 'comment_comments_score_ratio',\n",
       "       'adjWordScore', 'profanity', 'contains_!', 'no_url_WordScore',\n",
       "       'no_url_WholeScore', 'WordScoreNoStop', 'WholeScoreNoStop',\n",
       "       'no_url_or_stops_WholeScore', 'no_url_or_stops_WordScore',\n",
       "       'no_url_or_stops_content'],\n",
       "      dtype='object')"
      ]
     },
     "execution_count": 21,
     "metadata": {},
     "output_type": "execute_result"
    },
    {
     "data": {
      "image/png": "iVBORw0KGgoAAAANSUhEUgAAAfEAAAD4CAYAAAD8St8BAAAABHNCSVQICAgIfAhkiAAAAAlwSFlzAAALEgAACxIB0t1+/AAAADh0RVh0U29mdHdhcmUAbWF0cGxvdGxpYiB2ZXJzaW9uMy4xLjEsIGh0dHA6Ly9tYXRwbG90bGliLm9yZy8QZhcZAAAgAElEQVR4nO3debRcVZn+8e9DgjI2U4INaIjMyBQgIAmgTNK2YoMjAjJ2iwPKoKAo2sYBGzoqLcpg4AeEGGlmZwUMJGhICJkThqCS0CCIQWYwAZL398felVup1HSnqnvufT5rsVJ1ap999jnJ4r37nLr7UURgZmZmxbNWuwdgZmZmXeMibmZmVlAu4mZmZgXlIm5mZlZQLuJmZmYFNbjdA7CBZciQITF8+PB2D8PMrFBmzZr1dEQMrdzuIm4tNXz4cGbOnNnuYZiZFYqkR6tt9+10MzOzgnIRNzMzKygXcTMzs4JyETczMysoF3EzM7OCchE3MzMrKBdxMzOzgnIRNzMzKygXcTMrvOHn/orh5/6q3cMwazkXcTMzs4JyETczMysoF3EzM7OC6vNFXNJwSQtbfMwvt+AYG0v6uyTl96MkhaQ35/cbSXpGUpf/jiS9lP9cS9LFkhZKWiDpPklv7ZkzMTOzdunTRVxSj6SsdaGfXi/iEfEc8Fdg57xpNDAn/wmwH3BvRKxspr8G53g0sCWwe0TsBrwfeK4r427yeGZm1gJdKuJ5dvygpCsk3S/pdknrShohabqk+ZJulbRJnT4mSxqZXw+RtCS/PknSjZJ+AdzexFjWkXR1nmHOkXRws/1I2kLS3ZLm5lnqgZIuANbN2ybmdp/Lny+UdGbZNXhI0vh8vjdJWi9/doGkB/L279QZ/lQ6ivZo4KKK9/fk/qpe13wNvy1pCnCGpLdKmpZn2t8sO84WwJOlHwgi4vGIeDb38W5JsyXNkzQpb9tU0k/z8aZL2j1vHyNpnKTbgWslDZI0Nh9vvqRP1LjOp0qaKWnm0qVL61wOMzPrjO7MxLcHLomIXUizug8C1wJfjIjdgQXA17rY9yjgxIg4pIm2pwHkGeYxwHhJ6zTZz7HAbRExAtgDmBsR5wL/iIgREXGcpL2Bk4G3k2bHH5e0Z95/R2BcPt8XgE9L2pQ0090lb/9WnbHfQ0fR3ga4ERiZ348mFXmof103joh3RsR3ge8Dl0XEPqRZfskNwPvyDybfLY1f0lDgCuCDEbEH8OHc/uvAnHy8L+fjl+wNHBkRxwL/Djyfj7dPvjZr3KaPiHERMTIiRg4dukamvZmZdVF3ivjiiJibX88CtiUVlCl523jgHV3s+46IeKbJtgcAEwAi4iHgUWCHJvu5DzhZ0hhgt4h4sUb/t0bEyxHxEnALcGD+7LGIKBXaH+e2LwDLgCslfQB4pc7xpwKjc+FbEhHLAEnagFQsZ0jaiPrX9fqy1/sD1+XXE0obI+Jx0g8cXwJWApMkHUr6oeTuiFic25WuVfk1vRPYLI8D4OcR8Y/8+nDgBElzgXuBzUg/3JmZWQt0p4gvL3u9Ati4k/u/Xnb8dSo+e7kT/ajOZ3X7iYi7SQXxL8AESSd0sv9Ys8t4HdgXuBk4CvhtneP/EdgEeB8wLW+eRZr5L84/NDRSeY6VYyoda3lE/CYizgG+ncemGu2rnXOp3csV7T6b71qMiIi3RkTDRyBmZtYzevKLbc8Dz0oqzVKPB6bUab+ENNsE+FA3jns3cByApB2AYcCiZnaUtDXwt4i4Avh/wF75o9ckrV3W/1GS1pO0PulW+e/zZ8MkjcqvjwH+kGfRG0XEr4EzgRENhjENOIOOIj4t73cPQER05rpOBT6aXx9Xdp57Sdoyv14L2J10x2Ia8M7SLfD8KKB0zqVrehDwdES8UOV4twGfKl0rSTvka2RmZi3Q098wPhG4PH/B6xHSjLKW7wA3SDoeuLMbx7w0H3MBaXZ/UkQsl+pNoFc5CDhH0mvAS0BpJj4OmC9pdn4ufg0wI392ZUTMkTQceBA4UdKPgD8ClwEbAT/Lz+UFnNVgDFOB9wAz8/tppOfj95S1afa6ngH8RNIZpDsBJZsDV0h6Y34/A/hhRCyTdCpwSy7ufwPeBYwBrpY0n/Q44MQax7sSGA7MVrrgS0kzfDMzawFFVL37ag3kIv7LiNi1zUMplJEjR8bMmTMbNzTrhNK66UsueG+bR2LWOyTNioiRldv9u75mVngu3jZQ9XoRl3QJ6VvT5b4fEVd3sp9/AS6s2Lw4It7fxL67UfZt7Wx5RLy9M2MoFxFLgKZm4ZLOo+PXt0pujIjzu3p8MzMz3063lvLtdDOzzvPtdDPrNyqzw3073QaqPr12upmZmdXmIm5mZlZQLuJmZmYF1aeKuJwdvpbK0t2a7PsgSb9s0GY9SROVkt4WSiqtLGdmZgXWZ4q4nB3edHZ4F5wBPBURu+XFaf4deK07HfbU35eZmXVdwyIuZ4e3NDs8+7CkGZIeLq2ZXuvcK85xfUlXKeV7z5F0ZP5oC1LICwARsSgilud9TshjnydpQt62taRJefskScPy9mskfU/SXcCFdY5XOS7niZuZ9YJmZ+LODm9ddjjA4IjYlxSEUrqu9c695DzgzpzvfTAwVimQ5Crgi5KmSfqWpO0BJO2S9zkk54mfkfv5IXBtPqeJwMVlx9gBOCwiPl/neKtxnriZWe9otog7O7wF2eFlbW/Jf84iBYw0OveSw4FzlfK9J5MiXoflv7ttgLHApsB9knYGDgFuioinc7+l6zcK+El+PSEfu+TGiFhR73h1roGZmfWgZp9r9ovscEnvAN5Lyg4fGxHXdqL/qtnhkvYFDiVFgH6GVBirHf+P+ZFDM9nhpeu9go6/o2Zi2QR8MCLWiGIt+6HkFkkrSclpr1U5r6rDL3tdmSde9XhmZtb7uvrFNmeH90J2eAPNnPttwGelVd+C3zP/uX/pOwuS3gC8jTSTnwR8RNJm+bNSnvg9rJ5L/ocaY6p6PDMza43ufMPY2eG9kx1eSzPn/k3gf/L5iPTD0xGkxx+X5W1rAb8Cbo6IkHQ+MEXSCtI35k8CTgeuknQOKSO81t9treOZmVkLOAClCXJ2eI9xAIqZWeepRgBKn/k9cTMzM+ucHl2wQ84Od3a4mZm1jG+nW0v5drr1hspo0p7geFPrS3w73czMrJ9xETczMyuoflvEJV1UWvs8v79N0pVl77+rtE563QSwKv02TBmTdEReS3xeXlf9E50/g06PaWbZ+5GSJjfYp2qymVLi2qd7c7xmZtYz+m0Rp2ytcklrAUOAXco+Hw2sXWW/bskLx4wD3pfXI9+TtCRpd/pUPod6Npf0r53otlay2caAi7iZWQH05yJenhq2C7AQeFHSJpLeSIoFnQNsoJRK9lCemZZWHzs0z6YX5KSuN1YeQNLhOVRktlKK2gbAhqRv/f8dICKWl5YllfQmpcS3efm/0g8ZtZLTHpR0KTAbeEuN45WMBb5SZYy10s9qJZtdAGyrlOw2Nv8AMTaPbYGko3O/Bymlwt2a7zZc3sQPGmZm1oP67f90I+IJ4HWlGM3RpNXR7iWFe4wE5gOvkmbKZ5KWIt0G2D+vwHYNcHRODRsMfKq8f0lDSEXzsIjYi7QK2+dyiMjPgUclXSfpuLLidjEwJc/Q9wLuV+PktGsjYk/SmuVrHK9sSNOA5VozorRW+lnVZDPgXODPOdntHOADpOVk9wAOIyWVbZHb7gt8HtiNtCrcB6r9XchRpGZmvaLfFvGsNBsvFfFpZe9LS53OiIjHI2IlMJeUGrYj6ffSH85tqqW07Ucq/FOVUrxOBLYGiIj/IIWizADOJhVMSOEol+U2KyLieeonpz0aEdMbHa/Mt1hzNl41/axOslmlA4Dr8nifIq2Rv0/ZtXskp5pdx+ppZ6s4itTMrHf06GIvfVDpufhupNvpj5Fmji/QUVgrE9oG03xi2B0RcUy1DyNiAbBA0gRgMWlN8lr91FKZGFbzePmYd0r6JqngN+y/RrLZzZ0Y3xrJbnXamplZDxsIM/EjgGfyTPIZ0he3RtGRJFbNQ8BwSdvl99VS2qaTbr1vB6u+7b1D/ob3QWXtRpBmv5BSwz6V2w+S9E/UT05reLwq7c4HvlD2vmr6mWonm71Ieq5fvv/RebxDSXckSgEx+0p6a35ccDS1087MzKwX9PcivoD0rfTpFduej4ina+0UEctIz6lvVEoNWwlcXtFmKWl2fZ2k+fkYO5Fmrl+QtCjf9v46HbPwM4CDc5+zgF0iYjbp+fsM0jP7KyNiTpUx1TpeZbtfk5LHSi4FBuVjXk9OPyM9w56St88hPWO/OSL+Trplv1DSWOBW0vcH5pES6L4QEX/NfU8jfRFuIeluw621rqmZmfU8L7tqXZLvNpwdEZ2KHvWyq9YbvOyq9Xeqsexqf38mbmYDgAuuDVQu4tYlETGZbi5iY2Zm3dPfn4mbmZn1Wy7iZmZmBeUibmaFNfzcX/XKl9rMisJF3MzMrKBcxM3MzApqQBVxNZkx3sW+x0g6O7/eT9K9OQnsQUljuj34+se+RtJfSklrkoZIWtJgn7UkXVyWTnafpLfmz77cm+M1M7OeMaCKOM1ljE9t1ImkQQ2ajAdOjYgRwK7ADV0abeeOuQI4pRNdHg1sCeyeE87eDzyXP3MRNzMrgIFWxJvJGC/laFfLz75L0k9IS7ci6by8vOrvSMlnJZsDT8KqtLIHcvsNyrK950v6YN5+TN62UNKFpU4kvSTpG5LuBUZJ2lvSFEmz8l2ELcqO+T/AWZJW+91/JWucDylP/Mmc3kZOcntW0gXAuvkuwsTcR62884ckjc/ncpOk9br+V2NmZp01oBZ7iYgnJFVmjG9FCkR5nrRG+BF05GcPIUV03p272BfYNSIWK+WAf5SURz4YmE1aDx3gIlLIyGTgt8D4vB77V0nrtu8GkH942BK4ENgbeBa4XdJREfFTYH1gYUT8p6S1SSEsR0bE0lyMz6dj9v1/pACS44FflJ12eR54+fncAPxB0oGkYJYfR8SciDhX0mfyXQS0et65gHslTclj3RH494iYKukq4NPAdyqvu6RTgVMBhg0b1uivyczMmjTQZuLQOGO8UX724vz6QFIO+CsR8QLw89IBIuIbwEjgduBYUiEHOAy4pKzds7nvyRGxNCJeBybSkV2+go5o0B1Jt+bvyMEqXwHeXHFu3wbOYfW/16rnExGP5z6/RAp4mSTp0CrXq17e+WMRUXr88GOcJ25m1lIDaiaeNcoYr1bISl6ueF8zPSYi/gxcJukKYKmkzUgz2cp96uV1L4uIFWXt7o+IUXWO+adc4D/STP85zew3wG8kPQUcRZqVNzs+54mbmbXRQJ2J18sYr5efXe5u4P2S1pW0IfC+0geS3iupVPy2J82onyPNzD9T1m4TUvzoO/M3ygcBx7BmdjnAImCopFF537Ul7VKl3fnA2RXjXON8JO2Vb+WXvuS3Ox2556/l2/el/WvlnQ8rjSeP23niZmYtNBCLeKOM8Xr52avkHPDrgbmkW96/L/v4eNIz8bnABOC4PKP+FrBJ/oLYPODgiHiSdEv7rnzM2RHxsyrHexX4EHBh3ncuHV/SK293P+n5fEmt89kc+IWkhfnz14Ef5n3GAfMlTWyQd/4gcKJSvvmmwGWV4zEzs97jPHHrEknDgV9GxK6d2c954taTSkuuOorU+js5T9zM+hsXbxvoXMStSyJiCenb8mZm1iYD8Zm4mZlZv+CZuJkVnuNIrQh64/GPZ+JmZmYF5SJuZmZWUC7iZmZmBeUi3kNyqtfCOp/PkVQKFRks6WVJHyv7fFZeRW1VLnknjv1SE23Ok3R/ThybK+ntnTmGmZn1PS7iPaAy/rOGVVnmpESxRXRkm68PbENaVa03xjeKtNTsXhGxOymI5bFu9ukvRZqZtVm/LuJ5dvygpCvyLPT2vNb5CEnT86z01ryGea0+JksamV8PkbQkvz5J0o2SfkFaE72R8izz0cDlpIhQSBGns8vCTt6Wj/uIpNPLxrJGrneV8Z4j6b58bl/Pm7cAns6BJ0TE0xHxRG6/j6R7JM2TNEPShpLWUUfu+RxJB9c65xrHqxzTqZJmSpq5dOnSJi6VmZk1o18X8Wx74JKI2IUUQvJB4Frgi3lWugD4Whf7HgWcGBGHNNG2fCY+mhQssjyHp4wmFfmSnYB/IRX3r+Wwk/Jc7/2Aj0vas/wAkg4nne++pB8Q9pb0DlLBfYukhyVdKumduf0bSOu/nxERe5Bm6P8ATgPIuefHAOMlrVN5znWOtxpHkZqZ9Y6BUMQXR8Tc/HoWsC2wcUSUksLG05Hf3Vl35BS0hvIKZ2+Q9M+kIr0IuI9UlEtZ5iW/iojlOZDlb8CbqJ/rXXJ4/m8OKQRlJ2D73H5v4FRgKXC9pJNIeeJPRsR9eYwv5EzzA0jBLUTEQ6R0sx2qnHPV4zVzPczMrPsGwnPN5WWvV5BiRzvjdTp+2Fmn4rPKfPFGppGSyJ6MiJA0HdifNJMtT1WrHPNg6ud6lwj4r4j4UeUH+Vb9ZGCypAXAiaTCWy0Bp96xys+55vHMzKz3DYSZeKXngWcllWaxx1M9v7tkCWkWC6kAd8dU4CxSMSf/eQLw14h4rsG+9XK9S24DTpG0AYCkrSRtLmlHSeUz5BGk2fVDwJaS9sntN8xfWLsbOC5v2wEYRrpzUKnq8RpeBTMz6xEDYSZezYnA5ZLWAx4hPWuu5TvADZKOJ+Vxd8dU4CJyEY+IJyUNYvVb6VVFxGxJ15ByvWH1XO9Sm9sl7QxMkwTwEvAxYAPgB5I2Jt1Z+BNwakS8Kuno/Nm6pOfhhwGXkq7Pgtz+pIhYnvts5nh/69xlMTOzrnCeuLWU88TNzDqvVp74QLydbmZm1i8M1Nvpa5B0CelLZuW+HxFXd7KffwEurNi8OCLe353xmZmZVXIRzyLitB7q5zbSF77MrEVqRZH2RvSjWV/i2+lmZmYF5SJuZmZWUC7iZmZmBeUi3ot6Kp60G8cvD285JQeazM8BKkd2tV8zM+sbXMR7SavjSesdT9KbgfOAA3Loy37A/Gb6rdPnoO7sb2Zm3TfgingR40klbSrpp3ls0yXtno83RtI4SbcD1+bz+N/c7npg3dzX5sCLpBXViIiXImJx7mM7Sb/LUaSzJW2rZGyesS/Iq7oh6SBJd0n6CSn9DUkfU4ownSvpRy7uZmatM+CKeFa0eNKvA3Py2L6cx1qyN3BkRBwLfAp4Jbc7n4413+cBTwGLlXLC31e2/0TStdgjH/NJ4AOkHyZK8aRjJW2R2+8LnBcRb8tLrh4N7B8RI0hhLcdVnqScJ25m1isGahEvWjxpeTToncBmkjbKn/08Iv6RX78D+HFuN598yzwnmL2bFODyMHBRnsVvCGwVEbfmdssi4pV8vOsiYkVEPEUKiNknH2NGaRYPHEr6QeE+SXPz+22qnKfzxM3MesFAXeylaPGk1aJBS4veVx6v6mL4kRbJnwHMkHQHcDXwvRpj6kwU6fiI+FKd9mZm1ksG6ky8Ul+PJy2PBj0IeDoiXqjSV3m7XYHSs/MtK77lPgJ4NPfxuKSjcrs35mS3u4GjJQ2SNJQ0w5/BmiYBHyrFj+Zn91t34RqYmVkXDNSZeDV9OZ50DHC1pPnAK3ms1VxW1m4uHYV3beA7krYElgFLgU/mz44HfiTpG8BrwIeBW0nP9ueRZvZfiIi/Stqp/GAR8YCkrwC3S1or738aKavczMx6maNIraUcRWq9wWunW39XK4rUM3EzKzwXaxuoXMTrcDypmZn1ZS7idTie1MzM+jJ/O93MzKygXMTNzMwKykXczMysoFzEzczMCspFvB/JCW3HNtFuS0k39fBxa+amm5lZ73AR71+GAw2LeEQ8ERHdXS7WzMzazEW8D5F0Qs4CnydpgqStJU3K2yZJGpbbXSPpYkn3SHpEUqkgXwAcmLO9z8oz5N/nnPDZkkbn/VfNnHMG+i2Sfivpj5L+O28flI9TyhQ/qxvn5ShSM7Ne4N8T7yMk7QKcR8rmflrSpqRI1GsjYrykU4CLgaPyLluQIkN3An4O3AScC5wdEUfkPtcD3hURyyRtD1wHrLFsHykQZU9SutsiST8ANifFlO6a++ps0tsqETEOGAdp2dWu9mNmZqvzTLzvOAS4KSKeBsiZ5KOAn+TPJ5CKdslPI2JlRDwAvKlGn2sDV0haANwIvK1Gu0kR8XxELAMeALYmhcBsI+kHkt4NVEtNMzOzNnIR7ztEjSzwMuWfl2ei18r/Pgt4CtiDNAN/Q412lfnqgyPi2bzfZFIy2ZU1BxWxpDRjNzOz1nER7zsmAR+RtBmkbG5SHOlH8+fHAX9o0MeLwIZl7zcCnoyIlaTI0UHNDkbSEGCtiLgZ+CqwV4NdzMysxfxMvI+IiPslnQ9MkbQCmAOcDlwl6RxSBni9jHOA+cDrkuYB1wCXAjdL+jBwF/ByJ4a0FSmbvPSD3pdqNcw55Rf7G+9mZq3lPHFrKeeJm5l1Xq08cd9ONzMzKyjfTrem9VS+upmZ9QwXcWtaT+Wrm3XH8HN/tca2JRe8tw0jMWs/3043MzMrKBdxMzOzgnIRHwAk7ZTXU58jadsu7P9JSSfk1yflXykzM7M28zPxfkLSoIhYUePjo4CfRcTXutJ3RFxe9vYkYCHwRFf6MjOznuOZeAHk1LGHJI3PiWY3SVpP0hJJ/ynpD8CHJY2QND23uVXSJpLeA5wJ/Ieku3J/P5U0S9L9kk4tO85Lks7PKWrTJb0pbx8j6eycljYSmJhn9u+VdGvZ/u+SdEtLL46Z2QDmIl4cOwLjImJ3UhjJp/P2ZRFxQET8L3At8MXcZgHwtYj4NXA5cFFEHJz3OSUi9iYV5NNLS70C6wPTI2IP4G7g4+UDiIibgJnAcRExAvg1sLOkobnJyYB/3czMrEVcxIvjsYiYml//mI5Es+sBJG0EbBwRU/L28cA7avR1el6adTrwFmD7vP1V4Jf59SxgeL0BRVrubwLwsRxVOgr4TWU754mbmfUOPxMvjsr1cUvvO7MeOpIOAg4DRkXEK5ImA+vkj1+LjnV4V9Dcv4+rgV8Ay4AbI+L1NQbuPHEzs17hmXhxDJM0Kr8+hopEs4h4HnhW0oF50/HAFNa0EfBsLuA7Aft1chyrJaVFxBOkL7l9hRS6YmZmLeIiXhwPAidKmg9sClxWpc2JwNjcZgTwjSptfgsMzm2+Sbql3hnXAJfnL7atm7dNJN3uf6CTfZmZWTf4dnpxrIyIT1ZsG17+JiLmUmVmHRFjyl4vB/612gEiYoOy1zcBN1XZ/2bg5opdDwCuaHwKZmbWk1zErVskzSI9l/98u8diZjbQuIgXQEQsAXZt9ziqyb+qZtYyDjsx6+Bn4mZmZgXlIm5mZlZQvp1uZoVXmTHuW+42UHgmbmZmVlAu4mZmZgXlIt4COYP7h/n1JyWdIGkPSXPL2hwj6RVJa+f3u+UFWbp6zOGSFubX60maKGmBpIWS/iBpg0Z9mJlZ3+Zn4i1WyuaWtBawtaQNI+JFYDTwELAnMCO/n1qzowoN8sTPAJ6KiN1y2x2B17p+FiBpcLV10s3MrHU8E+8B1fK5JZ0s6WFJU4D9y9qOkXR2RKwE7gPenj/aG7iEVLzJf96T9zlU0pw8k75K0hvz9so88b1zFvg04LSyIW4B/KX0JiIW5ZXbyHcF5uf9JuRtW0ualLdPkjQsb79G0vdyLvmFktbP47kvj+/IHr2wZmZWl4t4z6jM594K+DqpeL8LeFuN/e4BRktaH1gJTGb1Ij5V0jqk9cqPzjPpwcCnyvoozxO/Gjg9IkaxuquAL0qaJulbkrYHkLQLcB5wSM4QPyO3/yFwbc4lnwhcXNbXDsBhEfH5vO+dEbEPcDBp3fb1K0/SUaRmZr3DRbxnVOZzHw9MjoilEfEqOfO7iqmkYr0vcF9E/BnYTtJQYIOIeATYEVgcEQ/nfSpzwmvliU8oNchrqm8DjCWFp9wnaWfgEOCmiHg6t3sm7zIK+ElZP6Xsckhxo6Xb9ocD5+Zn+5NJkabDKk8yIsZFxMiIGDl06NAal8LMzDrLz8S7qUY+90PAzk3sPh3Yh1Qkp+VtjwMfJd9KB9Sgj1KeuFgzc3yViHgJuAW4RdJK4D2k5+LN5HuXtynPLxfwwYhY1EQfZmbWwzwT775q+dzrAgdJ2ix/2/zD1XbMX2h7DDiJjiI+DTiTjiL+EDBc0nb5fdWc8Ih4DnheUmnWfFzpM0n7S9okv34D6fb+o8Ak4COSNsufbZp3uYf0g0Spn9Wyy8vcBnxWkvL+e9ZoZ2ZmvcBFvPuq5XM/CYwhFeTfAbMr9imf2U4F3hgRj+X300i3vu8BiIhlwMnAjZIWkJ6dX15jLCcDl+Qvtv2jbPu2wJS8/xxgJnBzRNwPnJ8/mwd8L7c/HTg5n9PxdDwrr/RNYG1gfv51tm/WaGdmZr1AEc3cTbWeIukHwOyIuLrdY2mHkSNHxsyZM9s9DOtnvOyq9XeSZkXEyMrtfibeQpK+SfqVsjFtHopZv+KibQOVb6e3UER8NSL2jYi/t3ssZmZWfC7iZmZmBeXb6WZWeJXPxKvxLXfrjzwTNzMzKygXcTMzs4JyETczMysoF/GCyPngxzbRbktJN7ViTBXHXZVfbmZmreEiXhzDgYZFPCKeiIgP9f5wOkjyFyTNzNrARbxFKnO7G2R2XyzpHkmPSCoV5AuAAyXNlXRWnvn+XtLs/N/ovP+qGbGkkyTdIum3kv4o6b/z9kH5OAtzRvlZdcY9WdLI/HqIpCVlfd8o6RfA7Q3O3VGkZma9wDOoFijL7d4/Ip7OQSPjSZnd4yWdQsrsPirvsgUp2Wwn4OfATcC5wNkRcUTucz3gXRGxLOeDX0fKM680AtgTWA4sysu+bg5sFRG75r427uKpjQJ2j4hnJA2v1SgixgHjIC272sVjmZlZBc/EW6Nabne9zO6fRsTKiHgAeFONPtcGrsihJjeSksmqmRQRz+cglQeArYFHgG0k/UDSu4EXunhed5RlkJuZWYu5iLdG3azvrPzz5RX7VnMW8BSwB2kG/oYa7cr7WgEMjohn836TgdOAK+uM63U6/p2sU1bhwUAAAAqlSURBVPHZy5iZWdu4iLdGtdzuZjO7S14ENix7vxHwZESsJMWFDmp2MJKGAGtFxM3AV4G96jRfAuydX7f0C3NmZlafn4m3QETcL6mU272ClOl9OnCVpHOApaQs8HrmA6/n3O9rgEuBmyV9GLiLzs2KtwKullT6Ie5Lddp+B7hB0vHAnZ04hpmZ9TLniVtLOU/ceoPXTrf+znniZtZvuUDbQOUibgBIugTYv2Lz9yPi6naMx8zMGnMRNwAi4rR2j8HMzDrHRdwKo5nnnjYw+Xa6DVT+FTMzM7OCchE3MzMrKBfxFpF0kaQzy97fJunKsvfflfQ5Sb/sZL+rAkrqtDlC0pwcvvKApE90/gzMzKyvcRFvnXuAUtLYWsAQYJeyz0eT1kPvUZLWJoWPvC8i9iCFoUzuZp8qWyjGzMzaxP8jbp2p5CJOKt4LgRclbSLpjcDOpJXcNpB0k6SHJE2UJABJh+bZ9AJJV+V9ViPpcEnTcjTpjZI2IC3VOhj4O0BELI+IRbn9myTdmmfo88riTD+XY0oXlu4e5IjTByVdCswG3lLjeGZm1iIu4i0SEU+Qlk0dRirm04B7SWlmI0nLqr5KmimfSUol2wbYX9I6pKVWj46I3UhF+VPl/ef10L8CHBYRewEzgc/llLGfA49Kuk7ScWWz6IuBKXmGvhdwv6S9SUvAvh3YD/i4pD1z+x1J8al7kpZ5XeN41c7deeJmZr3DRby1SrPxUhGfVvb+ntxmRkQ8noNN5gLDScVzcUQ8nNuMB95R0fd+pMI/VdJc4ERS7CgR8R/AocAM4GzgqrzPIcBluc2KiHieFIl6a0S8HBEvAbcAB+b2j0bE9EbHqxQR4yJiZESMHDp0aLPXyszMGvDvibdW6bn4bqTb6Y8BnyfleZcK6xrRodSOIy0nUr73MdU+jIgFwAJJE4DFwEl1+qmlPGSl7vHMzKz3eSbeWlOBI4Bn8sz3GWBj0i31aXX2ewgYLmm7/P54YEpFm+mkW+/bAUhaT9IOkjaQdFBZuxHAo/n1JPJteUmDJP0TcDdwVN5/feD9wO+rjKnq8RpfAjMz6yku4q21gPSt9OkV256PiKdr7RQRy0jPqW+UtABYCVxe0WYpaXZ9naT5+Rg7kWbMX5C0KN/2/jods/AzgINzn7OAXSJiNun5+wzSM/srI2JOlTHVOp6ZmbWIo0itpboTReplV60WL7tq/Z2jSK3w/D9qM7PV+Xa6mZlZQbmIm5mZFZRvp5tZIdT7ToQftdhA5Zm4mZlZQbmIm5mZFZSLeBs1G0/axb7HSDo7v95P0r2S5uYQkzHdHryZmbWdi3h7NRNPOrVRJ5IGNWgyHjg1IkYAuwI3dGm0nTummZn1Mhfx9momnnSupLE5FnSBpKMBJB0k6S5JPyGt+oak8/LKbL8jhaaUbA48CauCTh7I7TeQdHXud76kD+btx+RtCyVdWOpE0kuSviHpXmCUpL0lTZE0K99F2KIXr5WZmVXwt9PbKCKekFQZT7oVaS3150nxpEeQ1jvfgzRTv0/S3bmLfYFdI2JxjhD9KCnKdDAp83tWbncRsEjSZOC3wPi8lOtXSUu+7gaQf3jYErgQ2Bt4Frhd0lER8VNgfWBhRPynpLVJ67cfGRFL8w8X5wOnVJ6npFOBUwGGDRvWE5fOzMzwTLwvaBRPegBwXZ5BP0UqnPvkfWdExOL8+kBShOgrEfECKUMcgIj4Bimz/HbgWFIhBzgMuKSs3bO578kRsTQiXgcm0hF7ugK4Ob/ekXRr/o68JvtXgDdXO0FHkZqZ9Q7PxNuvUTzpoXX2fbnifc2F8CPiz8Blkq4AlkrajBSOUrlPvSjSZRGxoqzd/RExqk57MzPrRZ6Jt1+jeNK7gaNzVOhQ0qx4RpV+7gbeL2ldSRsC7yt9IOm9kkrFeXvSjPo50sz8M2XtNiEll71T0pD85bVjWDP2FGARMFTSqLzv2pJ2qdLOzMx6iYt4+zWKJ72V9Gx8HnAn8IWI+GtlJzlC9HpgLumWd3kG+PGkZ+JzgQnAcXlG/S1gk/wFtnnAwRHxJPAl4K58zNkR8bMqx3sV+BBwYd53Lh1f0jMzsxZwFKm1VHeiSG1g87KrNpA5itTMCs2F2mxNvp1uZmZWUC7iZmZmBeUibmZmVlB+Jm5mhecvvdlA5Zm4mZlZQbmIm5mZFZSLuCFpY0mfLns/VtL9+c9PSjqhyj7DJS0se39dTkI7q1XjNjMb6PxM3CAt8/pp4NL8/hPA0IhY3szOkv4ZGB0RW/fS+MzMrAoXcQO4ANg2L8u6lBQ5eq+k/yJlmr8UEd/JcadXAa8Afyjb/3Zg87z/ZyPi95iZWa/z7XQDOBf4c0SMiIh3Af/Ir6+vaHc1cHqV5LJ/K9t/jQIu6VRJMyXNXLp0ae+cgZnZAOQibk2RtBGwcUSUEs0mNLuv88TNzHqHi7g1q1r2uJmZtZGLuAG8CGxYr0FEPAc8L+mAvOm4Xh+VmZnV5S+2GRHxd0lT86+M/aZO05OBqyS9AtzWmtGZmVktLuIGQEQcW/b2nLLtY8pezwL2KGs3Jm9fAuzaqwM0M7M1uIibWeF5fXQbqPxM3MzMrKBcxM3MzArKRdzMzKygXMTNzMwKykXczMysoFzEzczMCspF3MzMrKBcxM3MzArKRdzMzKygFOFgKmsdSUuBRys2DwGebsNwisLXpzFfo/p8fRrr69do64hYI8vZRdzaTtLMiBjZ7nH0Vb4+jfka1efr01hRr5Fvp5uZmRWUi7iZmVlBuYhbXzCu3QPo43x9GvM1qs/Xp7FCXiM/EzczMysoz8TNzMwKykXczMysoFzErU+RdLakkDSk3WPpSySNlfSQpPmSbpW0cbvH1BdIerekRZL+JOncdo+nr5H0Fkl3SXpQ0v2Szmj3mPoiSYMkzZH0y3aPpbNcxK3PkPQW4F3A/7V7LH3QHcCuEbE78DDwpTaPp+0kDQIuAf4VeBtwjKS3tXdUfc7rwOcjYmdgP+A0X6OqzgAebPcgusJF3PqSi4AvAP62ZYWIuD0iXs9vpwNvbud4+oh9gT9FxCMR8Srwv8CRbR5TnxIRT0bE7Pz6RVKh2qq9o+pbJL0ZeC9wZbvH0hUu4tYnSPo34C8RMa/dYymAU4DftHsQfcBWwGNl7x/HBaomScOBPYF72zuSPud/SJOHle0eSFcMbvcAbOCQ9Dvgn6t8dB7wZeDw1o6ob6l3fSLiZ7nNeaRbpBNbObY+SlW2+S5OFZI2AG4GzoyIF9o9nr5C0hHA3yJilqSD2j2ernARt5aJiMOqbZe0G/BWYJ4kSLeKZ0vaNyL+2sIhtlWt61Mi6UTgCODQ8AIPkGbebyl7/2bgiTaNpc+StDapgE+MiFvaPZ4+Zn/g3yS9B1gH+CdJP46Ij7V5XE3zYi/W50haAoyMiL6cKNRSkt4NfA94Z0Qsbfd4+gJJg0lf8jsU+AtwH3BsRNzf1oH1IUo/FY8HnomIM9s9nr4sz8TPjogj2j2WzvAzcbNi+CGwIXCHpLmSLm/3gNotf9HvM8BtpC9s3eACvob9geOBQ/K/m7l51mn9hGfiZmZmBeWZuJmZWUG5iJuZmRWUi7iZmVlBuYibmZkVlIu4mZlZQbmIm5mZFZSLuJmZWUH9f9eowjsxfXoFAAAAAElFTkSuQmCC\n",
      "text/plain": [
       "<Figure size 432x288 with 1 Axes>"
      ]
     },
     "metadata": {
      "needs_background": "light"
     },
     "output_type": "display_data"
    }
   ],
   "source": [
    "#input dataframe, feature list, target name, test size, alpha (regularization strength as a positive float...the bigger\n",
    "#the number, the more regularized...default is 1), and threshold (this will determine the difference between a good \n",
    "#comment and a bad comment)\n",
    "def ridge_reg_func(df, feature_list, target_name, test_size, alpha, threshold):\n",
    "    #set up training and testing split\n",
    "    X_train, X_test, y_train, y_test = set_up_train_test_split(df, feature_list, target_name, test_size)\n",
    "    \n",
    "    #fit the model\n",
    "    clf = Ridge(alpha = alpha)\n",
    "    clf.fit(X_train, y_train)\n",
    "    \n",
    "    #Predict with ridge regression on testing set\n",
    "    y_val = clf.predict(X_test)\n",
    "    \n",
    "    #Convert the values\n",
    "    y_val = (y_val>=threshold)\n",
    "    \n",
    "    #report the correct percentage of predictions\n",
    "    percentage = determine_accuracy(y_test, y_val)\n",
    "    \n",
    "    #Determine feature importance\n",
    "    importance = clf.coef_\n",
    "    importance_list = []\n",
    "    for i, v in enumerate(importance):\n",
    "        importance_list.append([feature_list[i], v])\n",
    "        print('Feature: ' + feature_list[i] + ', Score: ' + str(v))\n",
    "    \n",
    "    plt.barh(features, importance)\n",
    "    \n",
    "    #Send data to csv to keep track of data\n",
    "    data = [[feature_list, test_size, alpha, threshold, importance_list, percentage]]\n",
    "    return_df = pd.DataFrame(data, columns = ['features', 'test size', 'alpha', 'threshold', 'importance scores', 'percent_correct'])\n",
    "    return_df.to_csv('files/ML_Results/RidgeRegression_Results.csv', mode='a', header=False, index=False)\n",
    "    \n",
    "    return percentage\n",
    "\n",
    "\n",
    "\n",
    "features = ['tfidf', 'WordScore', 'WholeScore', 'contains_url', 'adjWordScore', 'profanity', 'contains_!', 'no_url_WordScore', 'no_url_WholeScore', 'WordScoreNoStop', 'WholeScoreNoStop', 'no_url_or_stops_WholeScore', 'no_url_or_stops_WordScore']\n",
    "perc = ridge_reg_func(comments_df, features, 'action', 0.33, 1.0, 0.5)\n",
    "\n",
    "print(\"Percentage correct = \" + str(perc))\n",
    "comments_df.columns"
   ]
  },
  {
   "cell_type": "code",
   "execution_count": 22,
   "metadata": {},
   "outputs": [
    {
     "data": {
      "text/plain": [
       "73.38661930136176"
      ]
     },
     "execution_count": 22,
     "metadata": {},
     "output_type": "execute_result"
    }
   ],
   "source": [
    "from sklearn.model_selection import cross_val_score\n",
    "from sklearn.tree import DecisionTreeClassifier\n",
    "#Decision tree classifier\n",
    "def decision_tree_class_func(df, feature_list, target_name, test_size):\n",
    "    #set up training and testing split\n",
    "    X_train, X_test, y_train, y_test = set_up_train_test_split(df, feature_list, target_name, test_size)\n",
    "    \n",
    "    #fit ridge classifier to x and y training set\n",
    "    clf = DecisionTreeClassifier().fit(X_train, y_train)\n",
    "    \n",
    "    #Predict with ridge classifier on x and y testing set\n",
    "    y_val = clf.predict(X_test)\n",
    "    \n",
    "    #report the correct percentage of predictions\n",
    "    percentage = determine_accuracy(y_test, y_val)\n",
    "    \n",
    "    #Send data to csv to keep track of data\n",
    "    data = [[feature_list, test_size, percentage]]\n",
    "    return_df = pd.DataFrame(data, columns = ['features', 'test size', 'percent correct'])\n",
    "    return_df.to_csv('files/ML_Results/DecisionTreeClassifier_Results.csv', mode = 'a', header = False, index=False)\n",
    "    \n",
    "    return percentage\n",
    "\n",
    "features = ['tfidf', 'WordScore', 'WholeScore', 'contains_url', 'adjWordScore', 'profanity', 'contains_!', 'no_url_WordScore', 'no_url_WholeScore', 'WordScoreNoStop', 'WholeScoreNoStop', 'no_url_or_stops_WholeScore', 'no_url_or_stops_WordScore']\n",
    "decision_tree_class_func(comments_df, features, 'action', 0.33)"
   ]
  },
  {
   "cell_type": "code",
   "execution_count": 26,
   "metadata": {},
   "outputs": [
    {
     "name": "stdout",
     "output_type": "stream",
     "text": [
      "Percentage correct: 82.68229166666666%\n",
      "\n"
     ]
    },
    {
     "data": {
      "image/png": "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\n",
      "text/plain": [
       "<Figure size 432x288 with 1 Axes>"
      ]
     },
     "metadata": {
      "needs_background": "light"
     },
     "output_type": "display_data"
    }
   ],
   "source": [
    "from sklearn.ensemble import RandomForestClassifier\n",
    "#Random Forest Classifier\n",
    "def random_forest_class_func(df, feature_list, target_name, test_size, estimators):\n",
    "    #set up training and testing split\n",
    "    X_train, X_test, y_train, y_test = set_up_train_test_split(df, feature_list, target_name, test_size)\n",
    "    \n",
    "    #fit ridge classifier to x and y training set\n",
    "    clf = RandomForestClassifier(n_estimators = estimators).fit(X_train, y_train)\n",
    "    \n",
    "    importances = clf.feature_importances_\n",
    "    \n",
    "    #Predict with ridge classifier on x and y testing set\n",
    "    y_val = clf.predict(X_test)\n",
    "    \n",
    "    #report the correct percentage of predictions\n",
    "    percentage = determine_accuracy(y_test, y_val)\n",
    "    \n",
    "    #Send data to csv to keep track of data\n",
    "    data = [[feature_list, test_size, percentage, estimators]]\n",
    "    return_df = pd.DataFrame(data, columns = ['features', 'test size', 'percent correct', 'n_estimators'])\n",
    "    return_df.to_csv('files/ML_Results/RandomForestClassifier_Results.csv', mode='a', header=False, index=False)\n",
    "    \n",
    "    print('Percentage correct: ' + str(percentage) + '%\\n')\n",
    "    plt.barh(feature_list, importances)\n",
    "    plt.title('Feature importance of random forest classifier with test_size=' + str(test_size))\n",
    "    \n",
    "    return\n",
    "\n",
    "features = ['tfidf', 'WordScore', 'WholeScore', 'contains_url', 'adjWordScore', 'no_url_WordScore', 'no_url_WholeScore', 'WordScoreNoStop', 'WholeScoreNoStop', 'no_url_or_stops_WholeScore', 'no_url_or_stops_WordScore']\n",
    "random_forest_class_func(comments_df, features, 'action', 0.15, 1000)"
   ]
  },
  {
   "cell_type": "markdown",
   "metadata": {},
   "source": [
    "Using 1000 estimators is working well...taking out contains_! and contains profanity is also improving the model's effectiveness. Also decreasing the test size seems to make the program generally better although it does have a greater swing"
   ]
  },
  {
   "cell_type": "code",
   "execution_count": 56,
   "metadata": {},
   "outputs": [
    {
     "name": "stdout",
     "output_type": "stream",
     "text": [
      "Percentage correct: 78.61328125%\n",
      "\n"
     ]
    },
    {
     "data": {
      "image/png": "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\n",
      "text/plain": [
       "<Figure size 432x288 with 1 Axes>"
      ]
     },
     "metadata": {
      "needs_background": "light"
     },
     "output_type": "display_data"
    }
   ],
   "source": [
    "from sklearn.ensemble import ExtraTreesClassifier\n",
    "#Random Forest Classifier\n",
    "def extra_trees_class_func(df, feature_list, target_name, test_size):\n",
    "    #set up training and testing split\n",
    "    X_train, X_test, y_train, y_test = set_up_train_test_split(df, feature_list, target_name, test_size)\n",
    "    \n",
    "    #fit ridge classifier to x and y training set\n",
    "    clf = ExtraTreesClassifier().fit(X_train, y_train)\n",
    "    \n",
    "    importances = clf.feature_importances_\n",
    "    \n",
    "    #Predict with ridge classifier on x and y testing set\n",
    "    y_val = clf.predict(X_test)\n",
    "    \n",
    "    #report the correct percentage of predictions\n",
    "    percentage = determine_accuracy(y_test, y_val)\n",
    "    \n",
    "    #Send data to csv to keep track of data\n",
    "    data = [[feature_list, test_size, percentage]]\n",
    "    return_df = pd.DataFrame(data, columns = ['features', 'test size', 'percent correct'])\n",
    "    return_df.to_csv('files/ML_Results/RandomForestClassifier_Results.csv', mode='a', header=False, index=False)\n",
    "    \n",
    "    print('Percentage correct: ' + str(percentage) + '%\\n')\n",
    "    plt.barh(feature_list, importances)\n",
    "    plt.title('Feature importance of extra trees classifier with test_size=' + str(test_size))\n",
    "    \n",
    "    return\n",
    "\n",
    "features = ['tfidf', 'WordScore', 'WholeScore', 'contains_url', 'adjWordScore', 'profanity', 'contains_!', 'no_url_WordScore', 'no_url_WholeScore', 'WordScoreNoStop', 'WholeScoreNoStop', 'no_url_or_stops_WholeScore', 'no_url_or_stops_WordScore']\n",
    "extra_trees_class_func(comments_df, features, 'action', 0.1)"
   ]
  },
  {
   "cell_type": "code",
   "execution_count": 25,
   "metadata": {},
   "outputs": [],
   "source": []
  },
  {
   "cell_type": "code",
   "execution_count": 25,
   "metadata": {},
   "outputs": [],
   "source": [
    "#So far, it looks like random forest classifier is the best...looks like it performs generally better on\n",
    "#smaller testing sizes (works up to 81% with 0.1 testing set)"
   ]
  },
  {
   "cell_type": "code",
   "execution_count": 26,
   "metadata": {},
   "outputs": [],
   "source": [
    "# bad_comments = comments_df[comments_df['action'] == False]\n",
    "# # bad_comments['comment_score'].unique()"
   ]
  },
  {
   "cell_type": "code",
   "execution_count": 27,
   "metadata": {},
   "outputs": [],
   "source": [
    "# comments_df.columns"
   ]
  },
  {
   "cell_type": "code",
   "execution_count": null,
   "metadata": {},
   "outputs": [],
   "source": []
  },
  {
   "cell_type": "code",
   "execution_count": null,
   "metadata": {},
   "outputs": [],
   "source": []
  },
  {
   "cell_type": "code",
   "execution_count": 44,
   "metadata": {},
   "outputs": [],
   "source": [
    "# #Need to fix the score ratios to account for infinity\n",
    "# #Also add in a way to send this data to a csv\n",
    "# def check_for_nan_inf(comments_df):\n",
    "#     count = np.isinf(comments_df['comment_comments_score_ratio']).values.sum()\n",
    "#     print('Number of infinities in comment_comments_score_ratio = ' + str(count))\n",
    "#     count = np.isinf(comments_df['comment_article_score_ratio']).values.sum()\n",
    "#     print('Number of infinities in comment_article_score_ratio = ' + str(count))\n",
    "#     count = np.isnan(comments_df['comment_comments_score_ratio']).values.sum()\n",
    "#     print('Number of nans in comment_comments_score_ratio = ' + str(count))\n",
    "#     count = np.isnan(comments_df['comment_article_score_ratio']).values.sum()\n",
    "#     print('Number of nans in comment_article_score_ratio = ' + str(count))\n",
    "\n",
    "# #Something else I just thought about...the positive and negative signs on the ratios could be misleading. If both the \n",
    "# #comment and article are downvoted, it will have a positive ratio, if just one of them is downvoted it will be negative.\n",
    "# #Need to think more about this"
   ]
  },
  {
   "cell_type": "code",
   "execution_count": 45,
   "metadata": {},
   "outputs": [],
   "source": [
    "# comments_df['comment_comments_score_ratio'] = comments_df['comment_comments_score_ratio'].replace(np.nan, 0)\n",
    "# comments_df['comment_article_score_ratio'] = comments_df['comment_article_score_ratio'].replace(np.nan, 0)\n",
    "\n",
    "# comments_df['comment_comments_score_ratio'] = comments_df['comment_comments_score_ratio'].replace([np.inf, -np.inf], 0)\n",
    "# comments_df['comment_article_score_ratio'] = comments_df['comment_article_score_ratio'].replace([np.inf, -np.inf], 0)\n",
    "\n",
    "# check_for_nan_inf(comments_df)"
   ]
  },
  {
   "cell_type": "code",
   "execution_count": 46,
   "metadata": {},
   "outputs": [],
   "source": [
    "# zero_df = comments_df[(comments_df['comment_comments_score_ratio'] == 0) | (comments_df['comment_article_score_ratio'] == 0)]\n",
    "# zero_df\n",
    "# comments_zero_df = zero_df[zero_df['comment_score'] == 0]\n",
    "# (len(comments_zero_df)/len(zero_df))*100"
   ]
  },
  {
   "cell_type": "markdown",
   "metadata": {},
   "source": [
    "Since almost 100% of the comments where there were infinities, nans, or zeros already, I think it is safe to just keep all the ratios to zero when there is a nan or infinity"
   ]
  },
  {
   "cell_type": "code",
   "execution_count": 47,
   "metadata": {},
   "outputs": [],
   "source": [
    "# random_sampling['comment_comments_score_ratio'] = random_sampling['comment_comments_score_ratio'].replace(0, random_sampling['comment_score'])\n",
    "\n",
    "# random_sampling.iloc[0]"
   ]
  },
  {
   "cell_type": "code",
   "execution_count": 179,
   "metadata": {},
   "outputs": [],
   "source": [
    "# comments_df.to_csv('files/compiled_comments_2_24_2021.csv', index=False)"
   ]
  },
  {
   "cell_type": "markdown",
   "metadata": {},
   "source": [
    "## Everything below here is used for grabbing examples of what the model finds good and bad as well as what it guessed correctly and incorrectly"
   ]
  },
  {
   "cell_type": "code",
   "execution_count": 16,
   "metadata": {},
   "outputs": [],
   "source": [
    "full_comment_data = pd.read_csv('files/full_comment_data_with_features1111.csv')\n",
    "full_topics_data = pd.read_csv('files/full_topics_data1111.csv')"
   ]
  },
  {
   "cell_type": "code",
   "execution_count": 17,
   "metadata": {},
   "outputs": [],
   "source": [
    "def grabbingExamples(x, yval, ytest, number):\n",
    "    predicted_comment_row = full_comment_data[full_comment_data['WholeScore'] == x[number][1]]\n",
    "    predicted_comment_row = predicted_comment_row.reset_index(drop=True)\n",
    "    \n",
    "    if len(predicted_comment_row.index) != 1:\n",
    "        predicted_comment_row = predicted_comment_row[predicted_comment_row['WordScore'] == x[number][1]]\n",
    "        predicted_comment_row = predicted_comment_row.reset_index(drop=True)\n",
    "\n",
    "    predicted_topic_row = full_topics_data[full_topics_data['id'] == predicted_comment_row['submissionId'].iloc[0]]\n",
    "    predicted_comment = predicted_comment_row['content'].values[0]\n",
    "    predicted_article_text = predicted_topic_row['text'].values[0]\n",
    "    predicted_article_url = predicted_topic_row['url'].values[0]\n",
    "    predicted_article_reason_for_removal = predicted_comment_row['details'].values[0]\n",
    "    yval = yval[number]\n",
    "    ytest = ytest[number]\n",
    "    if yval != ytest:\n",
    "        print('Incorrect Prediction')\n",
    "        if yval == False:\n",
    "            print('Predicted bad comment, but was good comment')\n",
    "        else:\n",
    "            print('Predicted good comment, but was bad comment')\n",
    "    else:\n",
    "        print('Correct Prediction')\n",
    "        if yval == False:\n",
    "            print('Correctly predicted bad comment')\n",
    "        else:\n",
    "            print('Correctly predicted good comment')\n",
    "    print('\\nThe url that was predicted on: ')\n",
    "    print(predicted_article_url)\n",
    "    print('\\nThe comment that was predicted on: ')\n",
    "    print(predicted_comment)\n",
    "    print('\\nThe reason that the comment was removed: ')\n",
    "    print(predicted_article_reason_for_removal)\n",
    "    return predicted_article_text"
   ]
  },
  {
   "cell_type": "code",
   "execution_count": 18,
   "metadata": {},
   "outputs": [],
   "source": [
    "def grabbingExamplesForArray(x, yval, ytest, number):\n",
    "    predicted_comment_row = full_comment_data[(full_comment_data['WholeScore'] == x[number][1]) & (full_comment_data['WordScore'] == x[number][0])]\n",
    "    predicted_comment_row = predicted_comment_row.reset_index(drop=True)\n",
    "    \n",
    "    if len(predicted_comment_row.index) != 1:\n",
    "        return\n",
    "\n",
    "    predicted_topic_row = full_topics_data[full_topics_data['id'] == predicted_comment_row['submissionId'].iloc[0]]\n",
    "    predicted_comment = predicted_comment_row['content'].values[0]\n",
    "    predicted_article_text = predicted_topic_row['text'].values[0]\n",
    "    predicted_article_url = predicted_topic_row['url'].values[0]\n",
    "    predicted_article_reason_for_removal = predicted_comment_row['details'].values[0]\n",
    "    yval = yval[number]\n",
    "    ytest = ytest[number]\n",
    "    if yval != ytest:\n",
    "        if yval == False:\n",
    "            predicted_bad_but_is_good.append(number)\n",
    "        else:\n",
    "            predicted_good_but_is_bad.append(number)\n",
    "    else:\n",
    "        if yval == False:\n",
    "            correct_prediction_bad.append(number)\n",
    "        else:\n",
    "            correct_prediction_good.append(number)"
   ]
  },
  {
   "cell_type": "code",
   "execution_count": 19,
   "metadata": {},
   "outputs": [],
   "source": [
    "predicted_bad_but_is_good = []\n",
    "predicted_good_but_is_bad = []\n",
    "correct_prediction_good = []\n",
    "correct_prediction_bad = []\n",
    "\n",
    "for i in range(2386):\n",
    "    grabbingExamplesForArray(X_test, y_val, y_test, i)\n",
    "    "
   ]
  },
  {
   "cell_type": "code",
   "execution_count": 20,
   "metadata": {},
   "outputs": [],
   "source": [
    "import random\n",
    "def grabIncorrectlyBadComment():\n",
    "    integ = random.randint(1, len(predicted_bad_but_is_good))\n",
    "    number = predicted_bad_but_is_good[integ]\n",
    "    text = grabbingExamples(X_test, y_val, y_test, number)\n",
    "    print('\\nThe index of the comment is ' + str(number))\n",
    "    \n",
    "    \n",
    "def grabIncorrectlyGoodComment():\n",
    "    integ = random.randint(1, len(predicted_good_but_is_bad))\n",
    "    number = predicted_good_but_is_bad[integ]\n",
    "    text = grabbingExamples(X_test, y_val, y_test, number)\n",
    "    print('\\nThe index of the comment is ' + str(number))\n",
    "    \n",
    "def grabCorrectGoodComment():\n",
    "    integ = random.randint(1, len(correct_prediction_good))\n",
    "    number = correct_prediction_good[integ]\n",
    "    text = grabbingExamples(X_test, y_val, y_test, number)\n",
    "    print('\\nThe index of the comment is ' + str(number))\n",
    "    \n",
    "    \n",
    "def grabCorrectBadComment():\n",
    "    integ = random.randint(1, len(correct_prediction_bad))\n",
    "    number = correct_prediction_bad[integ]\n",
    "    text = grabbingExamples(X_test, y_val, y_test, number)\n",
    "    print('\\nThe index of the comment is ' + str(number))\n",
    "    "
   ]
  },
  {
   "cell_type": "code",
   "execution_count": 21,
   "metadata": {},
   "outputs": [
    {
     "name": "stdout",
     "output_type": "stream",
     "text": [
      "Incorrect Prediction\n",
      "Predicted bad comment, but was good comment\n",
      "\n",
      "The url that was predicted on: \n",
      "https://apnews.com/2fcfa5dda00956b44ffa6dd19564bc36\n",
      "\n",
      "The comment that was predicted on: \n",
      "**/r/NeutralNews is a curated space.** \n",
      "\n",
      "In order not to get your comment removed, please familiarize yourself with our [rules on commenting](https://www.reddit.com//r/neutralnews/wiki/guidelines#wiki_comments_.28good.2C_bad_.26amp.3B_ugly.29) before you participate:\n",
      "\n",
      "#Comment Rules\n",
      "\n",
      "We expect the following from all users:\n",
      "\n",
      "\n",
      "1. Be courteous to other users.\n",
      "\n",
      "1. Source your facts.\n",
      "\n",
      "1. Be substantive.\n",
      "\n",
      "1. Address the arguments, not the person.\n",
      "\n",
      "\n",
      "If you see a comment that violates any of these essential rules, click the associated *report* link so mods can attend to it.\n",
      "\n",
      "However, **please note that the mods will not remove comments or links reported for lack of neutrality**. There is [no neutrality requirement for comments or links](https://www.reddit.com//r/neutralnews/wiki/guidelines#wiki_neutral-ness) in this subreddit — it's only the *space* that's neutral — and a poor source should be countered with evidence from a better one. [Full Guidelines Here](https://www.reddit.com/r/neutralnews/wiki/guidelines)\n",
      "\n",
      "\n",
      "*I am a bot, and this action was performed automatically. Please [contact the moderators of this subreddit](/message/compose/?to=/r/neutralnews) if you have any questions or concerns.*\n",
      "\n",
      "The reason that the comment was removed: \n",
      "nan\n",
      "\n",
      "The index of the comment is 741\n"
     ]
    }
   ],
   "source": [
    "grabIncorrectlyBadComment()"
   ]
  },
  {
   "cell_type": "code",
   "execution_count": 22,
   "metadata": {},
   "outputs": [
    {
     "name": "stdout",
     "output_type": "stream",
     "text": [
      "Incorrect Prediction\n",
      "Predicted good comment, but was bad comment\n",
      "\n",
      "The url that was predicted on: \n",
      "https://www.businessinsider.com/fox-news-karen-mcdougal-case-tucker-carlson-2020-9?r=US&IR=T\n",
      "\n",
      "The comment that was predicted on: \n",
      "Her family lied about their actual heritage.  Playing up an indian heritage that was basically nill.  So her mom would be 5 to 9 generations out.  Her dna test and her own statement about blindly believing her family, support the fact that her family lied.\n",
      "\n",
      "The reason that the comment was removed: \n",
      "confirm_ham\n",
      "\n",
      "The index of the comment is 279\n"
     ]
    }
   ],
   "source": [
    "grabIncorrectlyGoodComment()"
   ]
  },
  {
   "cell_type": "code",
   "execution_count": 23,
   "metadata": {},
   "outputs": [
    {
     "name": "stdout",
     "output_type": "stream",
     "text": [
      "Correct Prediction\n",
      "Correctly predicted good comment\n",
      "\n",
      "The url that was predicted on: \n",
      "https://www.nytimes.com/2020/07/10/us/politics/trump-schools-reopening.html?searchResultPosition=1\n",
      "\n",
      "The comment that was predicted on: \n",
      "I’d like to weigh in on this as a student. It’s infuriating that I’m being made to choose between a proper education and my life. No matter what they choose I loose. Many of the classes that help me in the fields I have been working towards entering cannot be taught online, but it will not be safe with the current case levels and regulations in place if I do choose to go back to school. I feel that not enough has been done to keep me and other students safe.\n",
      "\n",
      "The reason that the comment was removed: \n",
      "nan\n",
      "\n",
      "The index of the comment is 1437\n"
     ]
    }
   ],
   "source": [
    "grabCorrectGoodComment()"
   ]
  },
  {
   "cell_type": "code",
   "execution_count": 24,
   "metadata": {},
   "outputs": [
    {
     "name": "stdout",
     "output_type": "stream",
     "text": [
      "Correct Prediction\n",
      "Correctly predicted bad comment\n",
      "\n",
      "The url that was predicted on: \n",
      "https://www.cnn.com/2020/09/09/politics/bob-woodward-rage-book-trump-coronavirus/index.html\n",
      "\n",
      "The comment that was predicted on: \n",
      "Lol what. How is this person in charge of anything?\n",
      "\n",
      "The reason that the comment was removed: \n",
      "remove\n",
      "\n",
      "The index of the comment is 464\n"
     ]
    }
   ],
   "source": [
    "grabCorrectBadComment()"
   ]
  },
  {
   "cell_type": "code",
   "execution_count": null,
   "metadata": {},
   "outputs": [],
   "source": []
  }
 ],
 "metadata": {
  "kernelspec": {
   "display_name": "Python 3",
   "language": "python",
   "name": "python3"
  },
  "language_info": {
   "codemirror_mode": {
    "name": "ipython",
    "version": 3
   },
   "file_extension": ".py",
   "mimetype": "text/x-python",
   "name": "python",
   "nbconvert_exporter": "python",
   "pygments_lexer": "ipython3",
   "version": "3.7.4"
  }
 },
 "nbformat": 4,
 "nbformat_minor": 2
}
