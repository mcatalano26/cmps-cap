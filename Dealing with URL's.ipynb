{
 "cells": [
  {
   "cell_type": "markdown",
   "metadata": {},
   "source": [
    "## Going to do different things to URL's in text"
   ]
  },
  {
   "cell_type": "markdown",
   "metadata": {},
   "source": [
    "Removing urls"
   ]
  },
  {
   "cell_type": "code",
   "execution_count": 94,
   "metadata": {},
   "outputs": [],
   "source": [
    "import re\n",
    "import string\n",
    "\n",
    "def remove_urls(text):\n",
    "    urlarr = re.findall('[(]?http[s]?://(?:[a-zA-Z]|[0-9]|[$-_@.&+]|[!*\\(\\),]|(?:%[0-9a-fA-F][0-9a-fA-F]))+', text)\n",
    "    for url in urlarr:\n",
    "        text = text.replace(url, '')\n",
    "    return text"
   ]
  },
  {
   "cell_type": "code",
   "execution_count": 95,
   "metadata": {},
   "outputs": [
    {
     "name": "stdout",
     "output_type": "stream",
     "text": [
      "this is a link: [this is a link] This is also a link:  Hopefully remove_url method finds all of them\n"
     ]
    }
   ],
   "source": [
    "st = \"this is a link: [this is a link](https://link.com). This is also a link: http://link.com. Hopefully remove_url method finds all of them\"\n",
    "new_st = remove_urls(st)\n",
    "print(new_st)"
   ]
  },
  {
   "cell_type": "code",
   "execution_count": 96,
   "metadata": {},
   "outputs": [
    {
     "name": "stdout",
     "output_type": "stream",
     "text": [
      "__I'm a bot.__ The [linked_article] *could not be evaluated* by TheFactualBot.  Not Analyzable  --- *This is a trial for The Factual bot. [How It Works] Please [message the bot] with any feedback so we can make it more useful for you.*\n"
     ]
    }
   ],
   "source": [
    "st = \"__I'm a bot.__ The [linked_article](https://www.businessinsider.com/video-aide-trump-didnt-want-to-shake-hands-disgusting-supporters-2020-9) *could not be evaluated* by TheFactualBot. https://www.businessinsider.com/video-aide-trump-didnt-want-to-shake-hands-disgusting-supporters-2020-9: Not Analyzable  --- *This is a trial for The Factual bot. [How It Works](https://www.thefactual.com/how-it-works-reddit-bot.html). Please [message the bot](https://www.reddit.com/message/compose/?to=TheFactualBot) with any feedback so we can make it more useful for you.*\"\n",
    "\n",
    "new_st = remove_urls(st)\n",
    "print(new_st)\n"
   ]
  },
  {
   "cell_type": "markdown",
   "metadata": {},
   "source": [
    "Want to make 2 more methods now. One method will just return a boolean if there are urls in the comment. Another will return a list of the urls from the comment. These urls will be functional"
   ]
  },
  {
   "cell_type": "code",
   "execution_count": 97,
   "metadata": {},
   "outputs": [
    {
     "name": "stdout",
     "output_type": "stream",
     "text": [
      "This should be True: True\n",
      "This should be False: False\n"
     ]
    }
   ],
   "source": [
    "def url_in_comment(text):\n",
    "    urlarr = []\n",
    "    urlarr = re.findall('[(]?http[s]?://(?:[a-zA-Z]|[0-9]|[$-_@.&+]|[!*\\(\\),]|(?:%[0-9a-fA-F][0-9a-fA-F]))+', text)\n",
    "    if not urlarr:\n",
    "        return False\n",
    "    else:\n",
    "        return True\n",
    "    \n",
    "st = \"this is a link: [this is a link](https://link.com). This is also a link: http://link.com. Hopefully remove_url method finds all of them\"\n",
    "boo = url_in_comment(st)\n",
    "print('This should be True: ' + str(boo))\n",
    "\n",
    "new_st = remove_urls(st)\n",
    "new_boo = url_in_comment(new_st)\n",
    "print('This should be False: ' + str(new_boo))\n",
    "        "
   ]
  },
  {
   "cell_type": "code",
   "execution_count": 98,
   "metadata": {},
   "outputs": [
    {
     "data": {
      "text/plain": [
       "['https://www.businessinsider.com/video-aide-trump-didnt-want-to-shake-hands-disgusting-supporters-2020-9',\n",
       " 'https://www.businessinsider.com/video-aide-trump-didnt-want-to-shake-hands-disgusting-supporters-2020-9',\n",
       " 'https://www.thefactual.com/how-it-works-reddit-bot.html',\n",
       " 'https://www.reddit.com/message/compose/?to=TheFactualBot)']"
      ]
     },
     "execution_count": 98,
     "metadata": {},
     "output_type": "execute_result"
    }
   ],
   "source": [
    "def does_website_exist(text):\n",
    "    request = requests.get(text)\n",
    "    if request.status_code == 200:\n",
    "        return True\n",
    "    else:\n",
    "        return False\n",
    "\n",
    "def list_of_urls(text):\n",
    "    urlarr = re.findall('http[s]?://(?:[a-zA-Z]|[0-9]|[$-_@.&+]|[!*\\(\\),]|(?:%[0-9a-fA-F][0-9a-fA-F]))+', text)\n",
    "    index = 0\n",
    "    for url in urlarr:\n",
    "        exist = does_website_exist(url)\n",
    "        if exist:\n",
    "            index += 1\n",
    "            continue\n",
    "        else:\n",
    "            new_url = url\n",
    "            for check in range(10):\n",
    "                new_url = new_url[:-1]\n",
    "                exist = does_website_exist(new_url)\n",
    "                if not exist:\n",
    "                    if check == 9:\n",
    "                        urlarr.remove(url)\n",
    "                    else:\n",
    "                        continue\n",
    "                else:\n",
    "                    urlarr[index] = new_url\n",
    "                    index += 1\n",
    "                    break\n",
    "    return urlarr\n",
    "\n",
    "\n",
    "st = \"__I'm a bot.__ The [linked_article](https://www.businessinsider.com/video-aide-trump-didnt-want-to-shake-hands-disgusting-supporters-2020-9) *could not be evaluated* by TheFactualBot. https://www.businessinsider.com/video-aide-trump-didnt-want-to-shake-hands-disgusting-supporters-2020-9: Not Analyzable  --- *This is a trial for The Factual bot. [How It Works](https://www.thefactual.com/how-it-works-reddit-bot.html). Please [message the bot](https://www.reddit.com/message/compose/?to=TheFactualBot) with any feedback so we can make it more useful for you.*\"\n",
    "\n",
    "list_of_urls(st)"
   ]
  },
  {
   "cell_type": "markdown",
   "metadata": {},
   "source": [
    "The above code could take a while with large data...the http request takes a little bit of time"
   ]
  },
  {
   "cell_type": "code",
   "execution_count": null,
   "metadata": {},
   "outputs": [],
   "source": []
  }
 ],
 "metadata": {
  "kernelspec": {
   "display_name": "Python 3",
   "language": "python",
   "name": "python3"
  },
  "language_info": {
   "codemirror_mode": {
    "name": "ipython",
    "version": 3
   },
   "file_extension": ".py",
   "mimetype": "text/x-python",
   "name": "python",
   "nbconvert_exporter": "python",
   "pygments_lexer": "ipython3",
   "version": "3.7.4"
  }
 },
 "nbformat": 4,
 "nbformat_minor": 2
}
