{
 "cells": [
  {
   "cell_type": "markdown",
   "metadata": {},
   "source": [
    "## Remove stop words from files"
   ]
  },
  {
   "cell_type": "code",
   "execution_count": 3,
   "metadata": {},
   "outputs": [],
   "source": [
    "import spacy\n",
    "import en_core_web_lg\n",
    "nlp = en_core_web_lg.load()\n",
    "STOP_WORDS = spacy.lang.en.stop_words.STOP_WORDS\n",
    "\n"
   ]
  },
  {
   "cell_type": "code",
   "execution_count": 4,
   "metadata": {},
   "outputs": [
    {
     "name": "stdout",
     "output_type": "stream",
     "text": [
      "I don't want work, I want bang drum day\n",
      "Test 1\n",
      "0.9999999596709959\n",
      "Test 2\n",
      "0.4786008935092449\n"
     ]
    }
   ],
   "source": [
    "def remove_stop_words(text):\n",
    "    for word in text.split(\" \"): # split text into words\n",
    "        \n",
    "        if word in STOP_WORDS: #if a word is a stop word, replace it with a nothing\n",
    "            text = text.replace(\" \" + word + \" \", \" \")\n",
    "            \n",
    "    return text\n",
    "\n",
    "            \n",
    "text = \"I don't want to work, I just want to bang on the drum all day\"\n",
    "second_text = \"I really enjoy drumming, i am a percussionist\"\n",
    "\n",
    "\n",
    "\n",
    "\n",
    "second_text = str(second_text)\n",
    "second_text = nlp(second_text)\n",
    "\n",
    "remove_text = remove_stop_words(text)\n",
    "\n",
    "text = text.lower\n",
    "text = str(text)\n",
    "text = nlp(text)\n",
    "\n",
    "print(remove_text)\n",
    "remove_text = remove_text.lower\n",
    "remove_text = str(remove_text)\n",
    "remove_text = nlp(remove_text)\n",
    "\n",
    "#test similiarity\n",
    "print(\"Test 1\")\n",
    "print(text.similarity(remove_text))\n",
    "\n",
    "print(\"Test 2\")\n",
    "print(remove_text.similarity(second_text))"
   ]
  },
  {
   "cell_type": "code",
   "execution_count": null,
   "metadata": {},
   "outputs": [],
   "source": []
  }
 ],
 "metadata": {
  "kernelspec": {
   "display_name": "Python 3",
   "language": "python",
   "name": "python3"
  },
  "language_info": {
   "codemirror_mode": {
    "name": "ipython",
    "version": 3
   },
   "file_extension": ".py",
   "mimetype": "text/x-python",
   "name": "python",
   "nbconvert_exporter": "python",
   "pygments_lexer": "ipython3",
   "version": "3.8.3"
  }
 },
 "nbformat": 4,
 "nbformat_minor": 4
}
