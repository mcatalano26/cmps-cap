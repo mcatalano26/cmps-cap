{
 "cells": [
  {
   "cell_type": "markdown",
   "metadata": {},
   "source": [
    "# Upvote Predictor"
   ]
  },
  {
   "cell_type": "markdown",
   "metadata": {},
   "source": [
    "This jupyter notebook will predict the amount of upvotes that a comment on Reddit will have. Adapted from: https://towardsdatascience.com/predicting-reddit-comment-karma-a8f570b544fc"
   ]
  },
  {
   "cell_type": "code",
   "execution_count": 28,
   "metadata": {},
   "outputs": [
    {
     "name": "stdout",
     "output_type": "stream",
     "text": [
      "mattcat26\n"
     ]
    }
   ],
   "source": [
    "import pandas as pd\n",
    "import numpy as np\n",
    "import matplotlib.pyplot as plt\n",
    "import seaborn as sns\n",
    "\n",
    "from sklearn.metrics import mean_squared_error, r2_score, mean_absolute_error\n",
    "from sklearn.model_selection import train_test_split\n",
    "from sklearn.preprocessing import LabelBinarizer\n",
    "\n",
    "from sklearn.dummy import DummyRegressor\n",
    "from sklearn.linear_model import LinearRegression\n",
    "from sklearn.linear_model import LassoCV\n",
    "from sklearn.linear_model import RidgeCV\n",
    "from sklearn.linear_model import ElasticNetCV\n",
    "from sklearn.neighbors import KNeighborsRegressor\n",
    "from sklearn.tree import DecisionTreeRegressor\n",
    "from sklearn.ensemble import RandomForestRegressor\n",
    "from sklearn.ensemble import GradientBoostingRegressor\n",
    "import warnings\n",
    "warnings.filterwarnings('ignore')\n",
    "\n",
    "import os\n",
    "from dotenv import load_dotenv\n",
    "load_dotenv()\n",
    "\n",
    "CLIENT_ID = os.getenv('CLIENT_ID')\n",
    "CLIENT_SECRET=os.getenv('CLIENT_SECRET')\n",
    "APP_NAME=os.getenv('APP_NAME')\n",
    "REDDIT_USERNAME=os.getenv('REDDIT_USERNAME')\n",
    "REDDIT_PASSWORD=os.getenv('REDDIT_PASSWORD')\n",
    "\n",
    "import praw\n",
    "import pandas as pd\n",
    "import datetime as dt\n",
    "\n",
    "reddit = praw.Reddit(client_id=CLIENT_ID, client_secret=CLIENT_SECRET, user_agent=APP_NAME, username=REDDIT_USERNAME, password=REDDIT_PASSWORD)\n",
    "\n",
    "print(reddit.user.me())\n",
    "\n",
    "%matplotlib inline"
   ]
  },
  {
   "cell_type": "code",
   "execution_count": 29,
   "metadata": {},
   "outputs": [],
   "source": [
    "def model_diagnostics(model, pr=True):\n",
    "    \"\"\"\n",
    "    Returns and prints the R-squared, RMSE and the MAE\n",
    "    for a trained model\n",
    "    \"\"\"\n",
    "    y_predicted = model.predict(X_test)\n",
    "    r2 = r2_score(y_test, y_predicted)\n",
    "    mse = mean_squared_error(y_test, y_predicted)\n",
    "    mae = mean_absolute_error(y_test, y_predicted)\n",
    "    if pr:\n",
    "        print(f\"R-Sq: {r2:.4}\")\n",
    "        print(f\"RMSE: {np.sqrt(mse)}\")\n",
    "        print(f\"MAE: {mae}\")\n",
    "    \n",
    "    return [r2,np.sqrt(mse),mae]\n",
    "\n",
    "\n",
    "def plot_residuals(y_test, y_predicted):\n",
    "    \"\"\"\"\n",
    "    Plots the distribution for actual and\n",
    "    predicted values of the target variable.\n",
    "    Also plots the distribution for the residuals\n",
    "    \"\"\"\n",
    "    fig, (ax0, ax1) = plt.subplots(nrows=1, ncols=2, sharey=True)\n",
    "    sns.distplot(y_test, ax=ax0, kde = False)\n",
    "    ax0.set(xlabel='Test scores')\n",
    "    sns.distplot(y_predicted, ax=ax1, kde = False)\n",
    "    ax1.set(xlabel=\"Predicted scores\")\n",
    "    plt.show()\n",
    "    fig, ax2 = plt.subplots()\n",
    "    sns.distplot((y_test-y_predicted), ax = ax2,kde = False)\n",
    "    ax2.set(xlabel=\"Residuals\")\n",
    "    plt.show()\n",
    "    \n",
    "    \n",
    "def y_test_vs_y_predicted(y_test,y_predicted):\n",
    "    \"\"\"\n",
    "    Produces a scatter plot for the actual and\n",
    "    predicted values of the target variable\n",
    "    \"\"\"\n",
    "    fig, ax = plt.subplots()\n",
    "    ax.scatter(y_test, y_predicted)\n",
    "    ax.set_xlabel(\"Test Scores\")\n",
    "    ax.set_ylim([-75, 1400])\n",
    "    ax.set_ylabel(\"Predicted Scores\")\n",
    "    plt.show()\n",
    "    \n",
    "    \n",
    "def get_feature_importance(model):\n",
    "    \"\"\"\n",
    "    For fitted tree based models, get_feature_importance\n",
    "    can be used to get the feature importance as a tidy output\n",
    "    \"\"\"\n",
    "    X_non_text = pd.get_dummies(comment_data[cat_cols])\n",
    "    features = numeric_cols + bool_cols + list(X_non_text.columns)\n",
    "    feature_importance = dict(zip(features, model.feature_importances_))\n",
    "    for name, importance in sorted(feature_importance.items(), key=lambda x: x[1], reverse=True):\n",
    "        print(f\"{name:<30}: {importance:>6.2%}\")\n",
    "    print(f\"\\nTotal importance: {sum(feature_importance.values()):.2%}\")\n",
    "    return feature_importance"
   ]
  },
  {
   "cell_type": "code",
   "execution_count": 30,
   "metadata": {},
   "outputs": [],
   "source": [
    "subreddit = reddit.subreddit('neutralnews')"
   ]
  },
  {
   "cell_type": "code",
   "execution_count": 31,
   "metadata": {},
   "outputs": [
    {
     "name": "stdout",
     "output_type": "stream",
     "text": [
      "\n",
      "\n",
      "\n",
      "DONE\n"
     ]
    }
   ],
   "source": [
    "for x in subreddit.top(limit=1):\n",
    "    submission = x\n",
    "\n",
    "features = ['edited', 'subreddit', 'distinguished', 'gilded', 'controversiality', 'score', 'depth', 'is_submitter', 'created_utc', 'author_flair_css_class', 'likes']\n",
    "\n",
    "comments_dict = {}\n",
    "\n",
    "for feature in features:\n",
    "    comments_dict[feature] = []\n",
    "\n",
    "# import pprint\n",
    "# for comment in submission.comments.list():\n",
    "#     pprint.pprint(vars(comment))\n",
    "#     break\n",
    "\n",
    "submission.comments.replace_more(limit=None)\n",
    "\n",
    "for comment in submission.comments.list():\n",
    "    comments_dict['edited'].append(comment.edited)\n",
    "    comments_dict['subreddit'].append(comment.subreddit)\n",
    "    comments_dict['distinguished'].append(comment.distinguished)\n",
    "    comments_dict['gilded'].append(comment.gilded)\n",
    "    comments_dict['controversiality'].append(comment.controversiality)\n",
    "    comments_dict['score'].append(comment.score)\n",
    "    comments_dict['depth'].append(comment.depth)\n",
    "    \n",
    "    comments_dict['is_submitter'].append(comment.is_submitter)\n",
    "    comments_dict['created_utc'].append(comment.created_utc)\n",
    "    comments_dict['author_flair_css_class'].append(comment.author_flair_css_class)\n",
    "#     comments_dict['author_premium'].append(comment.author_premium)\n",
    "    comments_dict['likes'].append(comment.likes)\n",
    "#     comments_dict['author_patreon_flair'].append(comment.author_patreon_flair)\n",
    "    \n",
    "#     comments_dict['over_18'].append(comment.over_18)\n",
    "#     comments_dict['is_quoted'].append(comment.is_quoted)\n",
    "#     comments_dict['is_selftext'].append(comment.is_selftext)\n",
    "#     comments_dict['time_since_link'].append(comment.time_since_link)\n",
    "#     comments_dict['is_flair'].append(comment.is_flair)\n",
    "#     comments_dict['is_flair_css'].append(comment.is_flair_css)\n",
    "#     comments_dict['hour_of_comment'].append(comment.hour_of_comment)\n",
    "#     comments_dict['weekday'].append(comment.weekday)\n",
    "#     comments_dict['no_of_linked_sr'].append(comment.no_of_linked_sr)\n",
    "#     comments_dict['no_of_linked_urls'].append(comment.no_of_linked_urls)\n",
    "#     comments_dict['parent_score'].append(comment.parent_score)\n",
    "#     comments_dict['comment_tree_root_score'].append(comment.comment_tree_root_score)\n",
    "#     comments_dict['time_since_comment_tree_root'].append(comment.time_since_comment_tree_root)\n",
    "#     comments_dict['subjectivity'].append(comment.subjectivity)\n",
    "#     comments_dict['senti_neg'].append(comment.senti_neg)\n",
    "#     comments_dict['senti_pos'].append(comment.senti_pos)\n",
    "#     comments_dict['senti_neu'].append(comment.senti_neu)\n",
    "#     comments_dict['senti_comp'].append(comment.senti_comp)\n",
    "#     comments_dict['no_quoted'].append(comment.no_quoted)\n",
    "#     comments_dict['time_since_parent'].append(comment.time_since_parent)\n",
    "#     comments_dict['word_counts'].append(comment.word_counts)\n",
    "#     comments_dict['no_of_past_comments'].append(comment.no_of_past_comments)\n",
    "#     comments_dict['parent_cosine'].append(comment.parent_cosine)\n",
    "#     comments_dict['parent_euc'].append(comment.parent_euc)\n",
    "#     comments_dict['title_cosine'].append(comment.title_cosine)\n",
    "#     comments_dict['title_euc'].append(comment.title_euc)\n",
    "#     comments_dict['link_score'].append(comment.link_score)\n",
    "    \n",
    "    \n",
    "# comment_data = pd.DataFrame(comments_dict)\n",
    "# print(comment_data.head())\n",
    "\n",
    "print('\\n\\n')\n",
    "print('DONE')\n",
    "\n",
    "\n"
   ]
  },
  {
   "cell_type": "code",
   "execution_count": 32,
   "metadata": {},
   "outputs": [
    {
     "data": {
      "text/html": [
       "<div>\n",
       "<style scoped>\n",
       "    .dataframe tbody tr th:only-of-type {\n",
       "        vertical-align: middle;\n",
       "    }\n",
       "\n",
       "    .dataframe tbody tr th {\n",
       "        vertical-align: top;\n",
       "    }\n",
       "\n",
       "    .dataframe thead th {\n",
       "        text-align: right;\n",
       "    }\n",
       "</style>\n",
       "<table border=\"1\" class=\"dataframe\">\n",
       "  <thead>\n",
       "    <tr style=\"text-align: right;\">\n",
       "      <th></th>\n",
       "      <th>edited</th>\n",
       "      <th>subreddit</th>\n",
       "      <th>distinguished</th>\n",
       "      <th>gilded</th>\n",
       "      <th>controversiality</th>\n",
       "      <th>score</th>\n",
       "      <th>depth</th>\n",
       "      <th>is_submitter</th>\n",
       "      <th>created_utc</th>\n",
       "      <th>author_flair_css_class</th>\n",
       "      <th>likes</th>\n",
       "    </tr>\n",
       "  </thead>\n",
       "  <tbody>\n",
       "    <tr>\n",
       "      <td>0</td>\n",
       "      <td>False</td>\n",
       "      <td>neutralnews</td>\n",
       "      <td>moderator</td>\n",
       "      <td>0</td>\n",
       "      <td>0</td>\n",
       "      <td>1</td>\n",
       "      <td>0</td>\n",
       "      <td>False</td>\n",
       "      <td>1.487510e+09</td>\n",
       "      <td>None</td>\n",
       "      <td>None</td>\n",
       "    </tr>\n",
       "    <tr>\n",
       "      <td>1</td>\n",
       "      <td>False</td>\n",
       "      <td>neutralnews</td>\n",
       "      <td>moderator</td>\n",
       "      <td>0</td>\n",
       "      <td>0</td>\n",
       "      <td>176</td>\n",
       "      <td>0</td>\n",
       "      <td>False</td>\n",
       "      <td>1.487529e+09</td>\n",
       "      <td>None</td>\n",
       "      <td>None</td>\n",
       "    </tr>\n",
       "    <tr>\n",
       "      <td>2</td>\n",
       "      <td>1.48756e+09</td>\n",
       "      <td>neutralnews</td>\n",
       "      <td>None</td>\n",
       "      <td>0</td>\n",
       "      <td>0</td>\n",
       "      <td>455</td>\n",
       "      <td>0</td>\n",
       "      <td>False</td>\n",
       "      <td>1.487517e+09</td>\n",
       "      <td>None</td>\n",
       "      <td>None</td>\n",
       "    </tr>\n",
       "    <tr>\n",
       "      <td>3</td>\n",
       "      <td>False</td>\n",
       "      <td>neutralnews</td>\n",
       "      <td>None</td>\n",
       "      <td>0</td>\n",
       "      <td>0</td>\n",
       "      <td>309</td>\n",
       "      <td>0</td>\n",
       "      <td>False</td>\n",
       "      <td>1.487526e+09</td>\n",
       "      <td>None</td>\n",
       "      <td>None</td>\n",
       "    </tr>\n",
       "    <tr>\n",
       "      <td>4</td>\n",
       "      <td>False</td>\n",
       "      <td>neutralnews</td>\n",
       "      <td>None</td>\n",
       "      <td>0</td>\n",
       "      <td>0</td>\n",
       "      <td>46</td>\n",
       "      <td>0</td>\n",
       "      <td>False</td>\n",
       "      <td>1.487541e+09</td>\n",
       "      <td>None</td>\n",
       "      <td>None</td>\n",
       "    </tr>\n",
       "  </tbody>\n",
       "</table>\n",
       "</div>"
      ],
      "text/plain": [
       "        edited    subreddit distinguished  gilded  controversiality  score  \\\n",
       "0        False  neutralnews     moderator       0                 0      1   \n",
       "1        False  neutralnews     moderator       0                 0    176   \n",
       "2  1.48756e+09  neutralnews          None       0                 0    455   \n",
       "3        False  neutralnews          None       0                 0    309   \n",
       "4        False  neutralnews          None       0                 0     46   \n",
       "\n",
       "   depth  is_submitter   created_utc author_flair_css_class likes  \n",
       "0      0         False  1.487510e+09                   None  None  \n",
       "1      0         False  1.487529e+09                   None  None  \n",
       "2      0         False  1.487517e+09                   None  None  \n",
       "3      0         False  1.487526e+09                   None  None  \n",
       "4      0         False  1.487541e+09                   None  None  "
      ]
     },
     "execution_count": 32,
     "metadata": {},
     "output_type": "execute_result"
    }
   ],
   "source": [
    "comment_data = pd.DataFrame(comments_dict)\n",
    "comment_data.head()"
   ]
  },
  {
   "cell_type": "code",
   "execution_count": 33,
   "metadata": {},
   "outputs": [
    {
     "data": {
      "text/html": [
       "<div>\n",
       "<style scoped>\n",
       "    .dataframe tbody tr th:only-of-type {\n",
       "        vertical-align: middle;\n",
       "    }\n",
       "\n",
       "    .dataframe tbody tr th {\n",
       "        vertical-align: top;\n",
       "    }\n",
       "\n",
       "    .dataframe thead th {\n",
       "        text-align: right;\n",
       "    }\n",
       "</style>\n",
       "<table border=\"1\" class=\"dataframe\">\n",
       "  <thead>\n",
       "    <tr style=\"text-align: right;\">\n",
       "      <th></th>\n",
       "      <th>edited</th>\n",
       "      <th>distinguished</th>\n",
       "      <th>gilded</th>\n",
       "      <th>controversiality</th>\n",
       "      <th>score</th>\n",
       "      <th>depth</th>\n",
       "      <th>is_submitter</th>\n",
       "      <th>author_flair_css_class</th>\n",
       "      <th>likes</th>\n",
       "    </tr>\n",
       "  </thead>\n",
       "  <tbody>\n",
       "    <tr>\n",
       "      <td>0</td>\n",
       "      <td>False</td>\n",
       "      <td>moderator</td>\n",
       "      <td>0</td>\n",
       "      <td>0</td>\n",
       "      <td>1</td>\n",
       "      <td>0</td>\n",
       "      <td>False</td>\n",
       "      <td>None</td>\n",
       "      <td>None</td>\n",
       "    </tr>\n",
       "    <tr>\n",
       "      <td>1</td>\n",
       "      <td>False</td>\n",
       "      <td>moderator</td>\n",
       "      <td>0</td>\n",
       "      <td>0</td>\n",
       "      <td>176</td>\n",
       "      <td>0</td>\n",
       "      <td>False</td>\n",
       "      <td>None</td>\n",
       "      <td>None</td>\n",
       "    </tr>\n",
       "    <tr>\n",
       "      <td>2</td>\n",
       "      <td>True</td>\n",
       "      <td>None</td>\n",
       "      <td>0</td>\n",
       "      <td>0</td>\n",
       "      <td>455</td>\n",
       "      <td>0</td>\n",
       "      <td>False</td>\n",
       "      <td>None</td>\n",
       "      <td>None</td>\n",
       "    </tr>\n",
       "    <tr>\n",
       "      <td>3</td>\n",
       "      <td>False</td>\n",
       "      <td>None</td>\n",
       "      <td>0</td>\n",
       "      <td>0</td>\n",
       "      <td>309</td>\n",
       "      <td>0</td>\n",
       "      <td>False</td>\n",
       "      <td>None</td>\n",
       "      <td>None</td>\n",
       "    </tr>\n",
       "    <tr>\n",
       "      <td>4</td>\n",
       "      <td>False</td>\n",
       "      <td>None</td>\n",
       "      <td>0</td>\n",
       "      <td>0</td>\n",
       "      <td>46</td>\n",
       "      <td>0</td>\n",
       "      <td>False</td>\n",
       "      <td>None</td>\n",
       "      <td>None</td>\n",
       "    </tr>\n",
       "    <tr>\n",
       "      <td>...</td>\n",
       "      <td>...</td>\n",
       "      <td>...</td>\n",
       "      <td>...</td>\n",
       "      <td>...</td>\n",
       "      <td>...</td>\n",
       "      <td>...</td>\n",
       "      <td>...</td>\n",
       "      <td>...</td>\n",
       "      <td>...</td>\n",
       "    </tr>\n",
       "    <tr>\n",
       "      <td>331</td>\n",
       "      <td>False</td>\n",
       "      <td>None</td>\n",
       "      <td>0</td>\n",
       "      <td>0</td>\n",
       "      <td>1</td>\n",
       "      <td>7</td>\n",
       "      <td>False</td>\n",
       "      <td>None</td>\n",
       "      <td>None</td>\n",
       "    </tr>\n",
       "    <tr>\n",
       "      <td>332</td>\n",
       "      <td>False</td>\n",
       "      <td>None</td>\n",
       "      <td>0</td>\n",
       "      <td>0</td>\n",
       "      <td>2</td>\n",
       "      <td>8</td>\n",
       "      <td>False</td>\n",
       "      <td>None</td>\n",
       "      <td>None</td>\n",
       "    </tr>\n",
       "    <tr>\n",
       "      <td>333</td>\n",
       "      <td>False</td>\n",
       "      <td>None</td>\n",
       "      <td>0</td>\n",
       "      <td>0</td>\n",
       "      <td>1</td>\n",
       "      <td>8</td>\n",
       "      <td>False</td>\n",
       "      <td>None</td>\n",
       "      <td>None</td>\n",
       "    </tr>\n",
       "    <tr>\n",
       "      <td>334</td>\n",
       "      <td>False</td>\n",
       "      <td>None</td>\n",
       "      <td>0</td>\n",
       "      <td>0</td>\n",
       "      <td>1</td>\n",
       "      <td>9</td>\n",
       "      <td>False</td>\n",
       "      <td>None</td>\n",
       "      <td>None</td>\n",
       "    </tr>\n",
       "    <tr>\n",
       "      <td>335</td>\n",
       "      <td>False</td>\n",
       "      <td>None</td>\n",
       "      <td>0</td>\n",
       "      <td>0</td>\n",
       "      <td>2</td>\n",
       "      <td>9</td>\n",
       "      <td>False</td>\n",
       "      <td>None</td>\n",
       "      <td>None</td>\n",
       "    </tr>\n",
       "  </tbody>\n",
       "</table>\n",
       "<p>336 rows × 9 columns</p>\n",
       "</div>"
      ],
      "text/plain": [
       "     edited distinguished  gilded  controversiality  score  depth  \\\n",
       "0     False     moderator       0                 0      1      0   \n",
       "1     False     moderator       0                 0    176      0   \n",
       "2      True          None       0                 0    455      0   \n",
       "3     False          None       0                 0    309      0   \n",
       "4     False          None       0                 0     46      0   \n",
       "..      ...           ...     ...               ...    ...    ...   \n",
       "331   False          None       0                 0      1      7   \n",
       "332   False          None       0                 0      2      8   \n",
       "333   False          None       0                 0      1      8   \n",
       "334   False          None       0                 0      1      9   \n",
       "335   False          None       0                 0      2      9   \n",
       "\n",
       "     is_submitter author_flair_css_class likes  \n",
       "0           False                   None  None  \n",
       "1           False                   None  None  \n",
       "2           False                   None  None  \n",
       "3           False                   None  None  \n",
       "4           False                   None  None  \n",
       "..            ...                    ...   ...  \n",
       "331         False                   None  None  \n",
       "332         False                   None  None  \n",
       "333         False                   None  None  \n",
       "334         False                   None  None  \n",
       "335         False                   None  None  \n",
       "\n",
       "[336 rows x 9 columns]"
      ]
     },
     "execution_count": 33,
     "metadata": {},
     "output_type": "execute_result"
    }
   ],
   "source": [
    "comment_data['edited'][comment_data['edited'] != False] = 1\n",
    "comment_data['edited'][comment_data['edited'] == False] = 0\n",
    "comment_data = comment_data.drop(columns=['created_utc', 'subreddit'])\n",
    "\n",
    "comment_data['edited'] = comment_data['edited'].astype('bool')\n",
    "comment_data"
   ]
  },
  {
   "cell_type": "code",
   "execution_count": 34,
   "metadata": {},
   "outputs": [
    {
     "data": {
      "text/plain": [
       "edited                      bool\n",
       "distinguished             object\n",
       "gilded                     int64\n",
       "controversiality           int64\n",
       "score                      int64\n",
       "depth                      int64\n",
       "is_submitter                bool\n",
       "author_flair_css_class    object\n",
       "likes                     object\n",
       "dtype: object"
      ]
     },
     "execution_count": 34,
     "metadata": {},
     "output_type": "execute_result"
    }
   ],
   "source": [
    "comment_data.dtypes"
   ]
  },
  {
   "cell_type": "code",
   "execution_count": 35,
   "metadata": {},
   "outputs": [],
   "source": [
    "bool_cols = ['edited', 'is_submitter']\n",
    "cat_cols = ['distinguished', 'author_flair_css_class']\n",
    "numeric_cols = ['gilded', 'controversiality', 'depth']"
   ]
  },
  {
   "cell_type": "code",
   "execution_count": 36,
   "metadata": {},
   "outputs": [],
   "source": [
    "lb = LabelBinarizer()\n",
    "cat = [lb.fit_transform(comment_data[col].astype('str')) for col in cat_cols]\n",
    "bol = [comment_data[col].astype('int') for col in bool_cols]\n",
    "t = comment_data.loc[:, numeric_cols].values\n",
    "final = [t] + bol + cat\n",
    "y = comment_data.score.values\n",
    "x = np.column_stack(tuple(final))"
   ]
  },
  {
   "cell_type": "code",
   "execution_count": 37,
   "metadata": {},
   "outputs": [],
   "source": [
    "X_train, X_test, y_train, y_test = train_test_split(x, y, test_size=0.4, random_state=10)"
   ]
  },
  {
   "cell_type": "code",
   "execution_count": 38,
   "metadata": {},
   "outputs": [],
   "source": [
    "model_performance_dict = dict()"
   ]
  },
  {
   "cell_type": "code",
   "execution_count": 39,
   "metadata": {},
   "outputs": [
    {
     "name": "stdout",
     "output_type": "stream",
     "text": [
      "R-Sq: -0.002033\n",
      "RMSE: 24.244740287518624\n",
      "MAE: 13.704145936981757\n"
     ]
    }
   ],
   "source": [
    "baseline = DummyRegressor(strategy='mean')\n",
    "baseline.fit(X_train,y_train)\n",
    "model_performance_dict[\"Baseline\"] = model_diagnostics(baseline)"
   ]
  },
  {
   "cell_type": "code",
   "execution_count": 40,
   "metadata": {},
   "outputs": [
    {
     "name": "stdout",
     "output_type": "stream",
     "text": [
      "R-Sq: -0.002033\n",
      "RMSE: 24.244740287518624\n",
      "MAE: 13.704145936981757\n"
     ]
    }
   ],
   "source": [
    "baseline = DummyRegressor(strategy='mean')\n",
    "baseline.fit(X_train,y_train)\n",
    "model_performance_dict[\"Baseline\"] = model_diagnostics(baseline)"
   ]
  },
  {
   "cell_type": "code",
   "execution_count": 41,
   "metadata": {},
   "outputs": [
    {
     "name": "stdout",
     "output_type": "stream",
     "text": [
      "R-Sq: -0.03819\n",
      "RMSE: 24.678326182469874\n",
      "MAE: 14.546110284354818\n"
     ]
    }
   ],
   "source": [
    "lasso = LassoCV(cv=30).fit(X_train, y_train)\n",
    "model_performance_dict[\"Lasso Regression\"] = model_diagnostics(lasso)"
   ]
  },
  {
   "cell_type": "code",
   "execution_count": 42,
   "metadata": {},
   "outputs": [
    {
     "name": "stdout",
     "output_type": "stream",
     "text": [
      "R-Sq: 0.02074\n",
      "RMSE: 23.96762820513215\n",
      "MAE: 13.845002514600761\n"
     ]
    }
   ],
   "source": [
    "ridge = RidgeCV(cv=10).fit(X_train, y_train)\n",
    "model_performance_dict[\"Ridge Regression\"] = model_diagnostics(ridge)"
   ]
  },
  {
   "cell_type": "code",
   "execution_count": 43,
   "metadata": {},
   "outputs": [
    {
     "name": "stdout",
     "output_type": "stream",
     "text": [
      "R-Sq: 0.02373\n",
      "RMSE: 23.93102461956071\n",
      "MAE: 13.80341500965302\n"
     ]
    }
   ],
   "source": [
    "elastic_net = ElasticNetCV(cv = 30).fit(X_train, y_train)\n",
    "model_performance_dict[\"Elastic Net Regression\"] = model_diagnostics(elastic_net)"
   ]
  },
  {
   "cell_type": "code",
   "execution_count": 44,
   "metadata": {},
   "outputs": [
    {
     "name": "stdout",
     "output_type": "stream",
     "text": [
      "R-Sq: -0.683\n",
      "RMSE: 31.421012077907356\n",
      "MAE: 16.696296296296296\n"
     ]
    }
   ],
   "source": [
    "knr = KNeighborsRegressor()\n",
    "knr.fit(X_train, y_train)\n",
    "model_performance_dict[\"KNN Regression\"] = model_diagnostics(knr)"
   ]
  },
  {
   "cell_type": "code",
   "execution_count": 45,
   "metadata": {},
   "outputs": [
    {
     "name": "stdout",
     "output_type": "stream",
     "text": [
      "R-Sq: 0.0864\n",
      "RMSE: 23.15021272928557\n",
      "MAE: 12.354689946513824\n"
     ]
    }
   ],
   "source": [
    "dt = DecisionTreeRegressor(min_samples_split=45, min_samples_leaf=45, random_state = 10)\n",
    "dt.fit(X_train, y_train)\n",
    "model_performance_dict[\"Decision Tree\"] = model_diagnostics(dt)"
   ]
  },
  {
   "cell_type": "code",
   "execution_count": 46,
   "metadata": {},
   "outputs": [
    {
     "name": "stdout",
     "output_type": "stream",
     "text": [
      "R-Sq: -0.01875\n",
      "RMSE: 24.446194337804492\n",
      "MAE: 12.886304663587573\n"
     ]
    }
   ],
   "source": [
    "rf = RandomForestRegressor(n_jobs=-1, n_estimators=70, min_samples_leaf=10, random_state = 10)\n",
    "rf.fit(X_train, y_train)\n",
    "model_performance_dict[\"Random Forest\"] = model_diagnostics(rf)"
   ]
  },
  {
   "cell_type": "code",
   "execution_count": 47,
   "metadata": {},
   "outputs": [
    {
     "name": "stdout",
     "output_type": "stream",
     "text": [
      "R-Sq: -0.3176\n",
      "RMSE: 27.80201574312024\n",
      "MAE: 13.768865764915487\n"
     ]
    }
   ],
   "source": [
    "gbr = GradientBoostingRegressor(n_estimators=70, max_depth=5)\n",
    "gbr.fit(X_train, y_train)\n",
    "model_performance_dict[\"Gradient Boosting Regression\"] = model_diagnostics(gbr)"
   ]
  },
  {
   "cell_type": "code",
   "execution_count": 48,
   "metadata": {},
   "outputs": [],
   "source": [
    "def model_comparison(model_performance_dict, sort_by = 'RMSE', metric = 'RMSE'):\n",
    "\n",
    "    Rsq_list = []\n",
    "    RMSE_list = []\n",
    "    MAE_list = []\n",
    "    for key in model_performance_dict.keys():\n",
    "        Rsq_list.append(model_performance_dict[key][0])\n",
    "        RMSE_list.append(model_performance_dict[key][1])\n",
    "        MAE_list.append(model_performance_dict[key][2])\n",
    "\n",
    "    props = pd.DataFrame([])\n",
    "\n",
    "    props[\"R-squared\"] = Rsq_list\n",
    "    props[\"RMSE\"] = RMSE_list\n",
    "    props[\"MAE\"] = MAE_list\n",
    "    props.index = model_performance_dict.keys()\n",
    "    props = props.sort_values(by = sort_by)\n",
    "\n",
    "    fig, ax = plt.subplots(figsize = (12,6))\n",
    "\n",
    "    ax.bar(props.index, props[metric], color=\"blue\")\n",
    "    plt.title(metric)\n",
    "    plt.xlabel('Model')\n",
    "    plt.xticks(rotation = 45)\n",
    "    plt.ylabel(metric)"
   ]
  },
  {
   "cell_type": "code",
   "execution_count": 49,
   "metadata": {},
   "outputs": [
    {
     "data": {
      "image/png": "[encoded data removed]",
      "text/plain": [
       "<Figure size 864x432 with 1 Axes>"
      ]
     },
     "metadata": {
      "needs_background": "light"
     },
     "output_type": "display_data"
    }
   ],
   "source": [
    "model_comparison(model_performance_dict, sort_by = 'R-squared', metric = 'MAE')"
   ]
  },
  {
   "cell_type": "code",
   "execution_count": 50,
   "metadata": {},
   "outputs": [
    {
     "data": {
      "image/png": "[encoded data removed]",
      "text/plain": [
       "<Figure size 864x432 with 1 Axes>"
      ]
     },
     "metadata": {
      "needs_background": "light"
     },
     "output_type": "display_data"
    }
   ],
   "source": [
    "model_comparison(model_performance_dict, sort_by = 'R-squared', metric = 'RMSE')"
   ]
  },
  {
   "cell_type": "code",
   "execution_count": 51,
   "metadata": {},
   "outputs": [
    {
     "data": {
      "image/png": "[encoded data removed]",
      "text/plain": [
       "<Figure size 432x288 with 2 Axes>"
      ]
     },
     "metadata": {
      "needs_background": "light"
     },
     "output_type": "display_data"
    },
    {
     "data": {
      "image/png": "[encoded data removed]",
      "text/plain": [
       "<Figure size 432x288 with 1 Axes>"
      ]
     },
     "metadata": {
      "needs_background": "light"
     },
     "output_type": "display_data"
    }
   ],
   "source": [
    "y_predicted = rf.predict(X_test)\n",
    "plot_residuals(y_test,y_predicted)"
   ]
  },
  {
   "cell_type": "code",
   "execution_count": null,
   "metadata": {},
   "outputs": [],
   "source": []
  }
 ],
 "metadata": {
  "kernelspec": {
   "display_name": "Python 3",
   "language": "python",
   "name": "python3"
  },
  "language_info": {
   "codemirror_mode": {
    "name": "ipython",
    "version": 3
   },
   "file_extension": ".py",
   "mimetype": "text/x-python",
   "name": "python",
   "nbconvert_exporter": "python",
   "pygments_lexer": "ipython3",
   "version": "3.7.4"
  }
 },
 "nbformat": 4,
 "nbformat_minor": 2
}
