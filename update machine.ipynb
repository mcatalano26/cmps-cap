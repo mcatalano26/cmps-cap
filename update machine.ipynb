{
 "cells": [
  {
   "cell_type": "code",
   "execution_count": 1,
   "metadata": {},
   "outputs": [],
   "source": [
    "import numpy as np\n",
    "import pandas as pd\n",
    "import matplotlib.pyplot as plt\n",
    "\n",
    "from sklearn.linear_model import LogisticRegression\n",
    "\n",
    "from sklearn.metrics import f1_score\n",
    "from sklearn.metrics import accuracy_score\n",
    "from sklearn.metrics import plot_confusion_matrix\n",
    "from sklearn.model_selection import train_test_split\n",
    "\n",
    "import random\n",
    "from sklearn.model_selection import train_test_split\n",
    "from sklearn.ensemble import RandomForestClassifier\n",
    "import matplotlib.pyplot as plt"
   ]
  },
  {
   "cell_type": "code",
   "execution_count": 2,
   "metadata": {},
   "outputs": [],
   "source": [
    "validation_comments = pd.read_csv('validation/Validation Comments - Sheet1.csv')\n",
    "validation_comments = validation_comments.replace({'Label':{'Good': 1, 'Bad':0}})\n",
    "\n",
    "prior_comments = pd.read_csv('files/compiled_comments_3_14_2021.csv')\n",
    "prior_comments['Label'] = prior_comments['action']\n",
    "prior_comments = prior_comments.drop(['action'], axis = 1)\n",
    "prior_comments = prior_comments.replace({'Label': {False: 0, True: 1}})"
   ]
  },
  {
   "cell_type": "code",
   "execution_count": 10,
   "metadata": {},
   "outputs": [],
   "source": [
    "features = ['WholeScore', 'contains_url','no_url_WholeScore',  'WholeScoreNoStop',\n",
    "            'no_url_or_stops_WholeScore', 'NER_count', 'NER_match', 'length', 'profanity',\n",
    "            'WordScore', 'adjWordScore', 'no_url_WordScore', 'WordScoreNoStop', \n",
    "            'no_url_or_stops_WordScore']\n",
    "\n",
    "valid_X = validation_comments[features]\n",
    "\n",
    "prior_X = prior_comments[features]\n",
    "\n",
    "valid_y = validation_comments['Label']\n",
    "\n",
    "prior_y = prior_comments['Label']\n",
    "\n",
    "valid_X_train, valid_X_test, valid_y_train, valid_y_test = train_test_split(valid_X, valid_y, test_size = 0.33, random_state=random.randint(0, 1000))\n",
    "prior_X_train, prior_X_test, prior_y_train, prior_y_test = train_test_split(prior_X, prior_y, test_size = 0.33, random_state=random.randint(0, 1000))\n",
    "\n",
    "X_train = valid_X_train.append(prior_X_train, ignore_index = True)\n",
    "y_train = valid_y_train.append(prior_y_train, ignore_index = True)\n",
    "\n",
    "X_test = valid_X_test.append(prior_X_test, ignore_index = True)\n",
    "y_test = valid_y_test.append(prior_y_test, ignore_index = True)\n",
    "\n"
   ]
  },
  {
   "cell_type": "markdown",
   "metadata": {},
   "source": [
    "test = validation_comments.drop(train.index)\n",
    "test = test.reset_index()\n",
    "\n",
    "prior_test = prior_comments.sample(n = 2489)\n",
    "prior_test = prior_test.reset_index()\n",
    "prior_rest = prior_comments.drop(prior_test.index)\n",
    "prior_rest = prior_comments.reset_index()\n",
    "\n",
    "test = test.append(prior_test, ignore_index = True)\n",
    "\n",
    "#'WordScore', 'adjWordScore', 'no_url_WordScore', 'WordScoreNoStop', 'no_url_or_stops_WordScore', \n",
    "features = ['WholeScore', 'contains_url','no_url_WholeScore',  'WholeScoreNoStop',\n",
    "            'no_url_or_stops_WholeScore', 'NER_count', 'NER_match', 'length', 'profanity',\n",
    "            'WordScore', 'adjWordScore', 'no_url_WordScore', 'WordScoreNoStop', \n",
    "            'no_url_or_stops_WordScore']\n",
    "X_train = train.drop('Label', axis = 1)\n",
    "\n",
    "X_train = X_train[features]\n",
    "y_train = train['Label']\n",
    "\n",
    "X_test = test.drop('Label', axis = 1)\n",
    "X_test = X_test[['WholeScore', 'contains_url','no_url_WholeScore',  'WholeScoreNoStop',\n",
    "                 'no_url_or_stops_WholeScore', 'NER_count', 'NER_match', 'length', 'profanity',\n",
    "                 'WordScore', 'adjWordScore', 'no_url_WordScore', 'WordScoreNoStop', \n",
    "                 'no_url_or_stops_WordScore']]\n",
    "y_test = test['Label']\n",
    "\n",
    "X_unlabeled = prior_rest.drop('Label', axis = 1)\n",
    "X_unlabeled = X_unlabeled[['WholeScore', 'contains_url','no_url_WholeScore',  'WholeScoreNoStop',\n",
    "                           'no_url_or_stops_WholeScore', 'NER_count', 'NER_match', 'length', 'profanity',\n",
    "                           'WordScore', 'adjWordScore', 'no_url_WordScore', 'WordScoreNoStop', \n",
    "                           'no_url_or_stops_WordScore']]"
   ]
  },
  {
   "cell_type": "code",
   "execution_count": 11,
   "metadata": {},
   "outputs": [
    {
     "name": "stdout",
     "output_type": "stream",
     "text": [
      "X_train dimensions: (7109, 14)\n",
      "y_train dimensions: (7109,)\n",
      "\n",
      "X_test dimensions: (3503, 14)\n",
      "y_test dimensions: (3503,)\n",
      "\n"
     ]
    }
   ],
   "source": [
    "print(f\"X_train dimensions: {X_train.shape}\")\n",
    "print(f\"y_train dimensions: {y_train.shape}\\n\")\n",
    "\n",
    "print(f\"X_test dimensions: {X_test.shape}\")\n",
    "print(f\"y_test dimensions: {y_test.shape}\\n\")"
   ]
  },
  {
   "cell_type": "code",
   "execution_count": 12,
   "metadata": {},
   "outputs": [
    {
     "data": {
      "image/png": "[encoded data removed]",
      "text/plain": [
       "<Figure size 432x288 with 1 Axes>"
      ]
     },
     "metadata": {
      "needs_background": "light"
     },
     "output_type": "display_data"
    }
   ],
   "source": [
    "y_train.value_counts().plot(kind='bar')\n",
    "plt.xticks([0,1], ['Good', 'Bad'])\n",
    "plt.ylabel('Count');"
   ]
  },
  {
   "cell_type": "markdown",
   "metadata": {},
   "source": [
    "# Initial model using validation data"
   ]
  },
  {
   "cell_type": "code",
   "execution_count": 13,
   "metadata": {},
   "outputs": [
    {
     "name": "stdout",
     "output_type": "stream",
     "text": [
      "Train accuracy Score: 0.7316078210718807\n",
      "Test accuracy Score: 0.7376534399086497\n",
      "Train f1 Score: 0.725625539257981\n",
      "Test f1 Score: 0.7310506292069068\n"
     ]
    },
    {
     "data": {
      "image/png": "[encoded data removed]",
      "text/plain": [
       "<Figure size 432x288 with 2 Axes>"
      ]
     },
     "metadata": {
      "needs_background": "light"
     },
     "output_type": "display_data"
    }
   ],
   "source": [
    "clf = LogisticRegression(max_iter=1000)\n",
    "\n",
    "clf.fit(X_train, y_train)\n",
    "\n",
    "y_hat_test = clf.predict(X_test)\n",
    "y_hat_train = clf.predict(X_train)\n",
    "\n",
    "train_acc = accuracy_score(y_train, y_hat_train)\n",
    "test_acc = accuracy_score(y_test, y_hat_test)\n",
    "train_f1 = f1_score(y_train, y_hat_train)\n",
    "test_f1 = f1_score(y_test, y_hat_test)\n",
    "\n",
    "print(f\"Train accuracy Score: {train_acc}\")\n",
    "print(f\"Test accuracy Score: {test_acc}\")\n",
    "print(f\"Train f1 Score: {train_f1}\")\n",
    "print(f\"Test f1 Score: {test_f1}\")\n",
    "\n",
    "plot_confusion_matrix(clf, X_test, y_test, cmap='Blues', normalize='true',\n",
    "                     display_labels=['Good', 'Bad']);"
   ]
  },
  {
   "cell_type": "markdown",
   "metadata": {},
   "source": [
    "Train accuracy Score: 0.6226415094339622\n",
    "Test accuracy Score: 0.6935544666415379\n",
    "Train f1 Score: 0.4117647058823529\n",
    "Test f1 Score: 0.7009930121368151"
   ]
  },
  {
   "cell_type": "markdown",
   "metadata": {},
   "source": [
    "# doing random forest"
   ]
  },
  {
   "cell_type": "code",
   "execution_count": 17,
   "metadata": {},
   "outputs": [
    {
     "name": "stdout",
     "output_type": "stream",
     "text": [
      "Test f1 Score: 0.8108262108262109\n",
      "Test acc Score: 0.8104481872680559\n"
     ]
    },
    {
     "data": {
      "text/plain": [
       "array([1, 0, 1, ..., 0, 1, 0])"
      ]
     },
     "execution_count": 17,
     "metadata": {},
     "output_type": "execute_result"
    },
    {
     "data": {
      "image/png": "[encoded data removed]",
      "text/plain": [
       "<Figure size 432x288 with 2 Axes>"
      ]
     },
     "metadata": {
      "needs_background": "light"
     },
     "output_type": "display_data"
    }
   ],
   "source": [
    "from sklearn.ensemble import RandomForestClassifier\n",
    "#Random Forest Classifier\n",
    "def random_forest_class_func(valid_df, prior_df, feature_list, target_name, test_size, estimators):\n",
    "    #set up training and testing split\n",
    "    valid_X = valid_df[features]\n",
    "\n",
    "    prior_X = prior_df[features]\n",
    "\n",
    "    valid_y = valid_df['Label']\n",
    "\n",
    "    prior_y = prior_df['Label']\n",
    "\n",
    "    valid_X_train, valid_X_test, valid_y_train, valid_y_test = train_test_split(valid_X, valid_y, test_size = 0.33, random_state=random.randint(0, 1000))\n",
    "    prior_X_train, prior_X_test, prior_y_train, prior_y_test = train_test_split(prior_X, prior_y, test_size = 0.33, random_state=random.randint(0, 1000))\n",
    "\n",
    "    X_train = valid_X_train.append(prior_X_train, ignore_index = True)\n",
    "    y_train = valid_y_train.append(prior_y_train, ignore_index = True)\n",
    "\n",
    "    X_test = valid_X_test.append(prior_X_test, ignore_index = True)\n",
    "    y_test = valid_y_test.append(prior_y_test, ignore_index = True)\n",
    "\n",
    "    #fit ridge classifier to x and y training set\n",
    "    clf = RandomForestClassifier(n_estimators = estimators).fit(X_train, y_train)\n",
    "    \n",
    "    importances = clf.feature_importances_\n",
    "    \n",
    "    #Predict with ridge classifier on x and y testing set\n",
    "    y_val = clf.predict(X_test)\n",
    "    \n",
    "    y_hat_test = clf.predict(X_test)\n",
    "    y_hat_train = clf.predict(X_train)\n",
    "    \n",
    "    \n",
    "    \n",
    "    clf = RandomForestClassifier(n_estimators = estimators).fit(valid_X_train, valid_y_train)\n",
    "    valid_y_hat_test = clf.predict(valid_X_test)\n",
    "    \n",
    "    #report the correct percentage of predictions\n",
    "    test_f1 = f1_score(y_test, y_hat_test)\n",
    "    test_acc = accuracy_score(y_test,y_hat_test)\n",
    "    \n",
    "    valid_f1 = f1_score(valid_y_test, valid_y_hat_test)\n",
    "    print(f\"Test f1 Score: {test_f1}\")\n",
    "    print(f\"Test acc Score: {test_acc}\")\n",
    "    #print(f\"Validation f1 Score: {valid_f1}\")\n",
    "    \n",
    "    plot_confusion_matrix(clf, X_test, y_test, cmap='Blues', normalize='true',\n",
    "                     display_labels=['Good', 'Bad']);\n",
    "    \n",
    "    #plt.barh(feature_list, importances)\n",
    "    #plt.title('Feature importance of random forest classifier with test_size=' + str(test_size))\n",
    "    \n",
    "    return y_val\n",
    "\n",
    "features = ['WholeScore', 'contains_url','no_url_WholeScore',  'WholeScoreNoStop',\n",
    "            'no_url_or_stops_WholeScore', 'NER_count', 'NER_match', 'length', 'profanity',\n",
    "            'WordScore', 'adjWordScore', 'no_url_WordScore', 'WordScoreNoStop', \n",
    "            'no_url_or_stops_WordScore']\n",
    "test = random_forest_class_func(validation_comments, prior_comments, features, 'Label', 0.1, 1000)\n",
    "test"
   ]
  },
  {
   "cell_type": "markdown",
   "metadata": {},
   "source": [
    "Test f1 Score: 0.7860508953817154\n",
    "Validation f1 Score: 0.5"
   ]
  }
 ],
 "metadata": {
  "kernelspec": {
   "display_name": "Python 3",
   "language": "python",
   "name": "python3"
  },
  "language_info": {
   "codemirror_mode": {
    "name": "ipython",
    "version": 3
   },
   "file_extension": ".py",
   "mimetype": "text/x-python",
   "name": "python",
   "nbconvert_exporter": "python",
   "pygments_lexer": "ipython3",
   "version": "3.8.3"
  }
 },
 "nbformat": 4,
 "nbformat_minor": 4
}
